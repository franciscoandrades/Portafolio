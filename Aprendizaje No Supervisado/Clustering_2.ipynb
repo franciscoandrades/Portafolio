{
    "cells": [
        {
            "cell_type": "code",
            "execution_count": 12,
            "metadata": {},
            "outputs": [],
            "source": "# The code was removed by Watson Studio for sharing."
        },
        {
            "attachments": {
                "ibm-cloud.png": {
                    "image/png": "[encoded data removed]"
                }
            },
            "cell_type": "markdown",
            "metadata": {},
            "source": "![ibm-cloud.png](attachment:ibm-cloud.png)\n\n## Setup your notebook file stystem on Watson Studio\n\nAll of the notebooks in these courses are written to run locally on your computer running a Jupyter notebook server.  If you wish to run the notebooks in Watson Studio in the IBM Cloud, you will need to add some modifications to each notebook.\n\nWhy?  Because once you import a course notebook and the data files for that notebook into a Watson Studio project, the data files are no longer available to the notebook! \nThis is simply due to the fact that the imported data files are stored in an IBM Cloud Object Storage (COS) bucket.  The notebook does not have access to those objects in the COS bucket.  Thus, if you import a notebook and its data files into a Studio project then try to run it, the notebook will return \"File not found\" errors. \nIn order to make the data files available to your notebook, you will need to run some code in your notebook to: \n\n1 - Access the correct COS bucket <br>\n2 - Read your data file from the bucket into a byte stream object <br>\n3 - Write that byte stream object to the virtual disk of the container running the notebook. "
        },
        {
            "cell_type": "code",
            "execution_count": 13,
            "metadata": {},
            "outputs": [],
            "source": "# cos2file - takes an object from Cloud Object Storage and writes it to file on container file system.\n# Uses the IBM project_lib library.\n# See https://dataplatform.cloud.ibm.com/docs/content/wsj/analyze-data/project-lib-python.html\n# Arguments:\n# p: project object defined in project token\n# data_path: the directory to write the file\n# filename: name of the file in COS\n\nimport os\ndef cos2file(p,data_path,filename):\n    data_dir = p.project_context.home + data_path\n    if not os.path.exists(data_dir):\n        os.makedirs(data_dir)\n    open( data_dir + '/' + filename, 'wb').write(p.get_file(filename).read())"
        },
        {
            "cell_type": "code",
            "execution_count": 14,
            "metadata": {},
            "outputs": [],
            "source": "# Calling cos2file allows to make the data files available to the notebook \ncos2file(project, '/data', 'aavail-target.csv')"
        },
        {
            "attachments": {
                "ibm-cloud.png": {
                    "image/png": "[encoded data removed]"
                }
            },
            "cell_type": "markdown",
            "metadata": {},
            "source": "![ibm-cloud.png](attachment:ibm-cloud.png)\n\n# CASE STUDY - Unsupervised Learning\n"
        },
        {
            "cell_type": "code",
            "execution_count": 4,
            "metadata": {},
            "outputs": [],
            "source": "%%capture\n! pip install -U scikit-learn\n! pip install -U imblearn"
        },
        {
            "cell_type": "code",
            "execution_count": 21,
            "metadata": {},
            "outputs": [],
            "source": "import os\nimport time\nimport numpy as np\nimport pandas as pd\nimport scipy.stats as stats\nimport matplotlib.pyplot as plt\nfrom sklearn.utils import shuffle\nfrom sklearn.model_selection import train_test_split, GridSearchCV\nfrom sklearn.compose import ColumnTransformer\nfrom sklearn.base import BaseEstimator, TransformerMixin\nfrom sklearn.impute import SimpleImputer\nfrom sklearn.cluster import KMeans, SpectralClustering\nfrom sklearn.preprocessing import StandardScaler, OneHotEncoder, OrdinalEncoder\nfrom sklearn.pipeline import Pipeline\nfrom sklearn.metrics import classification_report, f1_score\nfrom sklearn.metrics import silhouette_score\nfrom sklearn.ensemble import RandomForestClassifier\nfrom sklearn.ensemble import GradientBoostingClassifier\nfrom sklearn.mixture import BayesianGaussianMixture\nfrom sklearn.svm import SVC\nimport imblearn.pipeline as pl\nfrom imblearn.pipeline import make_pipeline\nfrom imblearn.over_sampling import RandomOverSampler\nfrom imblearn.over_sampling import SMOTE, SVMSMOTE\n    \n    \nplt.style.use('seaborn')\n%matplotlib inline\n\nDATA_DIR = os.path.join(\"..\",\"data\")"
        },
        {
            "cell_type": "markdown",
            "metadata": {},
            "source": "## Synopsis\n\n  > We are now going to predict customer retention.  There are many models and many transforms to consider.  Use your\n    knowledge of pipelines and functions to ensure that your code makes it easy to compare and iterate over.  \n    \n  > Marketing has asked you to make a report on customer retention.  They would like you to come up with information     that can be used to improve current marketing strategy efforts.  The current plan is for marketing at AAVAiL to\n    collect more features on subscribers the and they would like to use your report as a proof-of-concept in order to     get buyin for this effort.\n  \n## Outline\n\n1. Create a churn prediction baseline model\n2. Use clustering as part of your prediction pipeline\n3. Run and experiment to see if re-sampling techniques improve your model\n\n## Data\n\nHere we load the data as we have already done.\n\n`aavail-target.csv`"
        },
        {
            "cell_type": "code",
            "execution_count": 16,
            "metadata": {},
            "outputs": [
                {
                    "data": {
                        "text/html": "<div>\n<style scoped>\n    .dataframe tbody tr th:only-of-type {\n        vertical-align: middle;\n    }\n\n    .dataframe tbody tr th {\n        vertical-align: top;\n    }\n\n    .dataframe thead th {\n        text-align: right;\n    }\n</style>\n<table border=\"1\" class=\"dataframe\">\n  <thead>\n    <tr style=\"text-align: right;\">\n      <th></th>\n      <th>country</th>\n      <th>age</th>\n      <th>subscriber_type</th>\n      <th>num_streams</th>\n    </tr>\n  </thead>\n  <tbody>\n    <tr>\n      <th>0</th>\n      <td>united_states</td>\n      <td>21</td>\n      <td>aavail_premium</td>\n      <td>23</td>\n    </tr>\n    <tr>\n      <th>1</th>\n      <td>singapore</td>\n      <td>30</td>\n      <td>aavail_unlimited</td>\n      <td>12</td>\n    </tr>\n    <tr>\n      <th>2</th>\n      <td>united_states</td>\n      <td>21</td>\n      <td>aavail_premium</td>\n      <td>22</td>\n    </tr>\n    <tr>\n      <th>3</th>\n      <td>united_states</td>\n      <td>20</td>\n      <td>aavail_basic</td>\n      <td>19</td>\n    </tr>\n    <tr>\n      <th>4</th>\n      <td>singapore</td>\n      <td>21</td>\n      <td>aavail_premium</td>\n      <td>23</td>\n    </tr>\n  </tbody>\n</table>\n</div>",
                        "text/plain": "         country  age   subscriber_type  num_streams\n0  united_states   21    aavail_premium           23\n1      singapore   30  aavail_unlimited           12\n2  united_states   21    aavail_premium           22\n3  united_states   20      aavail_basic           19\n4      singapore   21    aavail_premium           23"
                    },
                    "execution_count": 16,
                    "metadata": {},
                    "output_type": "execute_result"
                }
            ],
            "source": "df = pd.read_csv(os.path.join(DATA_DIR, r\"aavail-target.csv\"))\n\n## pull out the target and remove uneeded columns\n_y = df.pop('is_subscriber')\ny = np.zeros(_y.size)\ny[_y==0] = 1 \ndf.drop(columns=['customer_id', 'customer_name'], inplace=True)\ndf.head()"
        },
        {
            "cell_type": "markdown",
            "metadata": {},
            "source": "### QUESTION 1\n\nUsing the train_test_split() function, create a stratified train test split of the data"
        },
        {
            "cell_type": "code",
            "execution_count": 36,
            "metadata": {},
            "outputs": [],
            "source": "## YOUR CODE HERE\nX_train,X_test,y_train,y_test = train_test_split(df,y,test_size = 0.25,stratify = y,random_state = 42)"
        },
        {
            "cell_type": "markdown",
            "metadata": {},
            "source": "### QUESTION 2\n\nCreate a baseline model.  We are going to test whether clustering followed by a model improves the results.  Then, we will test whether re-sampling techniques provide improvements.  Use a pipeline or another method, but create a baseline model given the data. Here is the ColumnTransformer we have used before:"
        },
        {
            "cell_type": "code",
            "execution_count": 43,
            "metadata": {},
            "outputs": [],
            "source": "## preprocessing pipeline\nnumeric_features = ['age', 'num_streams']\nnumeric_transformer = Pipeline(steps=[\n    ('imputer', SimpleImputer(strategy='mean')),\n    ('scaler', StandardScaler())])\n\ncategorical_features = ['country', 'subscriber_type']\ncategorical_transformer = Pipeline(steps=[\n    ('imputer', SimpleImputer(strategy='constant', fill_value='missing')),\n    ('encod', OrdinalEncoder())])\n\npreprocessor = ColumnTransformer(\n    transformers=[\n        ('num', numeric_transformer, numeric_features),\n        ('cat', categorical_transformer, categorical_features)])"
        },
        {
            "cell_type": "code",
            "execution_count": 44,
            "metadata": {},
            "outputs": [
                {
                    "name": "stdout",
                    "output_type": "stream",
                    "text": "f1_score 0.598\n"
                }
            ],
            "source": "# YOUR CODE HERE (Replace the #<> symbols with your code)\n\n# Create an instance of a binary classifier.\nclf = RandomForestClassifier()\n\n# Create a pipeline that binds the preprocessing transformer and the classifier estimator.\npipe = Pipeline(steps=[('pre', preprocessor),\n                          ('rf', clf)])\n\n# Here we apply a grid search to optimize the hyperparamters of the classifier. \nparam_grid = {\n    'rf__n_estimators': [20, 50, 100, 150],\n    'rf__max_depth': [4, 5, 6, 7, 8],\n    'rf__criterion': ['gini', 'entropy']\n}\ngrid = GridSearchCV(pipe, param_grid=param_grid, cv=3, n_jobs=-1, scoring='f1')\n\n# Fit the pipeline to the training data.\ngrid.fit(X_train, y_train)\nbest_params = grid.best_params_\n\n# Predict the dependent variable of the test set.\ny_pred = grid.predict(X_test)\n\n# Print the f1_score of the prediction.\nprint(\"f1_score\", round(f1_score(y_test, y_pred, average='binary'), 3))"
        },
        {
            "cell_type": "markdown",
            "metadata": {},
            "source": "### QUESTION 3\n\nThe next part is to create a version of the classifier that uses identified clusters.  Here is a class to get you started.  It is a transformer like those that we have been working with.  There is an example of how to use it just below.  In this example 4 clusters were specified and their one-hot encoded versions were appended to the feature matrix.  Now using pipelines and/or functions compare the performance using cluster profiling as part of your matrix to the baseline.  You may compare multiple models and multiple clustering algorithms here."
        },
        {
            "cell_type": "code",
            "execution_count": 45,
            "metadata": {},
            "outputs": [
                {
                    "name": "stdout",
                    "output_type": "stream",
                    "text": "(750, 4)\n(750, 5)\n(750, 4)\n(750, 8)\n"
                }
            ],
            "source": "class KmeansTransformer(BaseEstimator, TransformerMixin):\n    def __init__(self, n_clusters=4):\n        self.n_clusters = n_clusters\n        self.km = KMeans(n_clusters=self.n_clusters, n_init=20)\n        \n    def transform(self, X, *_):\n        labels = self.km.predict(X)\n        return np.hstack((X, labels.reshape(-1, 1)))\n\n    def fit(self, X, y=None, *_):\n        self.km.fit(X)\n        labels = self.km.predict(X)\n        self.silhouette_score = round(silhouette_score(X, labels, metric='mahalanobis'), 3)\n        return self\n\nclass GmmTransformer(BaseEstimator, TransformerMixin):\n    def __init__(self, n_clusters=4):\n        self.n_clusters = n_clusters\n        self.gmm = BayesianGaussianMixture(n_components=self.n_clusters, covariance_type='full',\n                                           max_iter=500, n_init=10, warm_start=True)        \n    def transform(self, X,*_):\n        probs = self.gmm.predict_proba(X) + np.finfo(float).eps\n        return np.hstack((X, probs))\n        \n    def fit(self, X, y=None, *_):\n        self.gmm.fit(X)\n        labels = self.gmm.predict(X)\n        self.silhouette_score = round(silhouette_score(X, labels, metric='mahalanobis'), 3)\n        return self\n    \n\n    \n## example for kmeans\npreprocessor.fit(X_train)\nX_train_pre = preprocessor.transform(X_train)    \nkt = KmeansTransformer(4)\nkt.fit(X_train_pre)\nX_train_kmeans = kt.transform(X_train_pre)\nprint(X_train_pre.shape)\nprint(X_train_kmeans.shape)   \n    \n## example for GMM  \npreprocessor.fit(X_train)\nX_train_pre = preprocessor.transform(X_train)    \ngt = GmmTransformer(4)\ngt.fit(X_train_pre)\nX_train_gmm = gt.transform(X_train_pre)\nprint(X_train_pre.shape)  \nprint(X_train_gmm.shape)"
        },
        {
            "cell_type": "code",
            "execution_count": 47,
            "metadata": {},
            "outputs": [
                {
                    "data": {
                        "text/html": "<div>\n<style scoped>\n    .dataframe tbody tr th:only-of-type {\n        vertical-align: middle;\n    }\n\n    .dataframe tbody tr th {\n        vertical-align: top;\n    }\n\n    .dataframe thead th {\n        text-align: right;\n    }\n</style>\n<table border=\"1\" class=\"dataframe\">\n  <thead>\n    <tr style=\"text-align: right;\">\n      <th></th>\n      <th>kmeans</th>\n      <th>gmm</th>\n    </tr>\n    <tr>\n      <th>n_clusters</th>\n      <th></th>\n      <th></th>\n    </tr>\n  </thead>\n  <tbody>\n    <tr>\n      <th>3</th>\n      <td>0.633</td>\n      <td>0.604</td>\n    </tr>\n    <tr>\n      <th>4</th>\n      <td>0.583</td>\n      <td>0.595</td>\n    </tr>\n    <tr>\n      <th>5</th>\n      <td>0.603</td>\n      <td>0.583</td>\n    </tr>\n    <tr>\n      <th>6</th>\n      <td>0.592</td>\n      <td>0.592</td>\n    </tr>\n    <tr>\n      <th>7</th>\n      <td>0.496</td>\n      <td>0.605</td>\n    </tr>\n  </tbody>\n</table>\n</div>",
                        "text/plain": "            kmeans    gmm\nn_clusters               \n3            0.633  0.604\n4            0.583  0.595\n5            0.603  0.583\n6            0.592  0.592\n7            0.496  0.605"
                    },
                    "execution_count": 47,
                    "metadata": {},
                    "output_type": "execute_result"
                }
            ],
            "source": "## YOUR CODE HERE (Replace the #<> symbols by your code)\n\ndef run_clustering_pipeline(umodel):\n    \"\"\"\n    This function evaluates different Pipelines comprised of the preprocessing transfomer,\n    a clustering transformer and a classifier estimator.\n    INPUT : The name of the clustering transformer : 'gmm' or 'kmeans'\n    OUTPUT : The list of f1_scores of the pipeline on the test set for the different number of clusters\n    \"\"\"\n    \n    \n    fscores= [] # this list will store the f1_score of the different models that we will train\n    for n_clusters in np.arange(3, 8):\n\n        # Create an instance of a binary classifier (The same as the one you trained in the previous question)\n        estimator = RandomForestClassifier()\n        param_grid = {\n                        'n_estimators': [20, 50, 100, 150],\n                        'max_depth': [4, 5, 6, 7, 8],\n                        'criterion': ['gini', 'entropy']\n                    }\n        clf = GridSearchCV(estimator, param_grid=param_grid, cv=3, n_jobs=-1, scoring='f1')\n        \n        if umodel == 'gmm':\n            # Create an instance of the Gmm transformer with n_clusters clusters\n            cluster = GmmTransformer(n_clusters)    \n        elif umodel == 'kmeans':\n            # Create an instance of the Kmean transformer with n_clusters clusters\n            cluster = KmeansTransformer(n_clusters)\n        else:\n            raise Exception(\"invalid unsupervised learning model\")\n        \n        # Create a Pipeline that binds the preprocessing transformer, the clustering transformer and the classifier estimator\n        pipe =  Pipeline(steps=[('pre', preprocessor),\n                               ('clustering', cluster),\n                               ('classifier', clf)]) \n        \n        # Fit the pipeline on training set\n        pipe.fit(X_train, y_train)\n        # Predict the test set\n        y_pred = pipe.predict(X_test)\n        \n        # Compute the f1 score and add this score to the fscores list.\n        score = round(f1_score(y_test, y_pred, average='binary'), 3)\n        fscores.append(score)\n        \n    return fscores\n\n## run the different iteration of the model\ncp_results = {}\ncp_results['kmeans'] = run_clustering_pipeline('kmeans')\ncp_results['gmm'] = run_clustering_pipeline('gmm')\n\n## display table of results\ndf_cp = pd.DataFrame(cp_results)\ndf_cp[\"n_clusters\"] = [str(i) for i in np.arange(3,8)]\ndf_cp.set_index(\"n_clusters\", inplace=True)\ndf_cp.head(n=10)"
        },
        {
            "cell_type": "markdown",
            "metadata": {},
            "source": "## QUESTION 4\n\nRun an experiment to see if you can you improve on your workflow with the addition of re-sampling techniques? For instance, you can copy the structure of the function created in the previous question and add a re-sampling transformer to the pipeline."
        },
        {
            "cell_type": "code",
            "execution_count": 48,
            "metadata": {},
            "outputs": [
                {
                    "data": {
                        "text/html": "<div>\n<style scoped>\n    .dataframe tbody tr th:only-of-type {\n        vertical-align: middle;\n    }\n\n    .dataframe tbody tr th {\n        vertical-align: top;\n    }\n\n    .dataframe thead th {\n        text-align: right;\n    }\n</style>\n<table border=\"1\" class=\"dataframe\">\n  <thead>\n    <tr style=\"text-align: right;\">\n      <th></th>\n      <th>kmeans</th>\n      <th>gmm</th>\n    </tr>\n    <tr>\n      <th>n_clusters</th>\n      <th></th>\n      <th></th>\n    </tr>\n  </thead>\n  <tbody>\n    <tr>\n      <th>3</th>\n      <td>0.615</td>\n      <td>0.636</td>\n    </tr>\n    <tr>\n      <th>4</th>\n      <td>0.599</td>\n      <td>0.596</td>\n    </tr>\n    <tr>\n      <th>5</th>\n      <td>0.621</td>\n      <td>0.600</td>\n    </tr>\n    <tr>\n      <th>6</th>\n      <td>0.599</td>\n      <td>0.636</td>\n    </tr>\n    <tr>\n      <th>7</th>\n      <td>0.611</td>\n      <td>0.612</td>\n    </tr>\n  </tbody>\n</table>\n</div>",
                        "text/plain": "            kmeans    gmm\nn_clusters               \n3            0.615  0.636\n4            0.599  0.596\n5            0.621  0.600\n6            0.599  0.636\n7            0.611  0.612"
                    },
                    "execution_count": 48,
                    "metadata": {},
                    "output_type": "execute_result"
                }
            ],
            "source": "## YOUR CODE HERE\n# This cell might take several minutes to run\n\ndef run_clustering_pipeline(umodel):\n    \"\"\"\n    This function evaluates different Pipelines constituated of the preprocessing transfomer,\n    a clustering transformer, a re-sampling transformer and a classifier estimator.\n    INPUT : The name of the clustering transformer : 'gmm' or 'kmeans'\n    OUTPUT : The list of f1_scores of the pipeline on the test set for the different number of clusters.\n    \"\"\"\n    \n    fscores = []  # this list will store the f1_score of the different models that we will train\n    for n_clusters in np.arange(3,8):\n        \n        # Create an instance of a binary classifier (The same as the one you trained in the previous question)\n        estimator = RandomForestClassifier()\n        param_grid = {\n                    'n_estimators': [20, 50, 100, 150],\n                    'max_depth': [4, 5, 6, 7, 8],\n                    'criterion': ['gini', 'entropy']\n                    }\n        clf = GridSearchCV(estimator, param_grid=param_grid, cv=3, n_jobs=-1, scoring='f1')\n        \n        if umodel == 'gmm':\n            # Create an instance of the Gmm transformer with n_clusters clusters\n            cluster = GmmTransformer(n_clusters)    \n        elif umodel == 'kmeans':\n            # Create an instance of the Kmean transformer with n_clusters clusters\n            cluster = KmeansTransformer(n_clusters)\n        else:\n            raise Exception(\"invalid unsupervised learning model\")\n            \n        \n        # Create a Pipeline that binds the preprocessing transformer, the clustering transformer, \n        # the re-sampling transformer and the classifier\n        pipe = pl.Pipeline(steps=[('pre', preprocessor),\n                                  ('clustering', cluster),\n                                  ('smote', SMOTE(random_state=42)),\n                                  ('classifier', clf)])  \n           \n        # Fit the pipeline on training set\n        pipe.fit(X_train,y_train) \n        # Predict the test set\n        y_pred = pipe.predict(X_test)  \n        # Compute the f1 score and add this score to the fscores list.\n        score = round(f1_score(y_test, y_pred,average='binary'),3)\n        fscores.append(score)\n        \n    return(fscores)\n\n## Run the different iteration of the model\ncp_results = {}\ncp_results['kmeans'] = run_clustering_pipeline('kmeans')\ncp_results['gmm'] = run_clustering_pipeline('gmm')\n\n\n## Display table of results\ndf_cp = pd.DataFrame(cp_results)\ndf_cp[\"n_clusters\"] = [str(i) for i in np.arange(3,8)]\ndf_cp.set_index(\"n_clusters\",inplace=True)\ndf_cp.head(n=10)"
        },
        {
            "cell_type": "markdown",
            "metadata": {},
            "source": "Usando Smote y atributos generados mediante Clustering, se logr\u00f3 mejorar los resultados."
        },
        {
            "cell_type": "code",
            "execution_count": null,
            "metadata": {},
            "outputs": [],
            "source": ""
        }
    ],
    "metadata": {
        "kernelspec": {
            "display_name": "Python 3.7",
            "language": "python",
            "name": "python3"
        },
        "language_info": {
            "codemirror_mode": {
                "name": "ipython",
                "version": 3
            },
            "file_extension": ".py",
            "mimetype": "text/x-python",
            "name": "python",
            "nbconvert_exporter": "python",
            "pygments_lexer": "ipython3",
            "version": "3.7.10"
        }
    },
    "nbformat": 4,
    "nbformat_minor": 4
}