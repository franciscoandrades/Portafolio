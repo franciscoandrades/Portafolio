{
 "cells": [
  {
   "cell_type": "markdown",
   "metadata": {
    "colab_type": "text",
    "id": "pVd0tF-m0Jb2"
   },
   "source": [
    "<img src=\"http://www.exalumnos.usm.cl/wp-content/uploads/2015/06/ISOTIPO-Color.jpg\" title=\"Title text\" width=\"20%\" />\n",
    "\n",
    "<hr style=\"height:2px;border:none\"/>\n",
    "<H1 align='center'> SVD Y PCA </H1>\n",
    "\n",
    "<H3> INF-285 Computación Científica </H3>\n",
    "<H3> Autor: Francisco Andrades</H3>\n",
    "\n",
    "Lenguaje: Python\n",
    "\n",
    "Temas:\n",
    "\n",
    "    - SVD\n",
    "    - PCA\n",
    "    - Image Compression\n",
    "<hr style=\"height:2px;border:none\"/>"
   ]
  },
  {
   "cell_type": "markdown",
   "metadata": {
    "colab_type": "text",
    "id": "P-v8NiwRvGKt"
   },
   "source": [
    "# Introducción\n",
    "\n",
    "La compresión de Imágenes utilizando *SVD* se basa en que  la matriz $\\Sigma$ representa los valores singulares de la matriz original, entonces se puede obtener una aproximación de la imagen original minimizando el rango de la matriz al eliminar los  valores singulares de menor valor, ya que estos representan una \"menor información\" de la imagen. De este forma, por ejemplo si $\\Sigma$ es de tamaño $n\\times n$, se pueden omitir los $\\sigma$ menos significativos obteniendo $\\tilde{\\Sigma}$ de tamaño $m\\times m$, $m<n$.\n",
    "\n",
    "Por otro lado, también se puede utilizar el análisis de componentes principales (PCA) para la compresión de imágenes al reducir la dimensión de la matriz de la imagen y proyectar esas nuevas dimensiones en una nueva imagen reteniendo la información importante de la imagen original\n",
    "\n",
    "En esta tarea se busca comprimir un archivo *GIF*, el cual consiste de una secuencia de multiples imagenes, utilizando *SVD* y *PCA* para poder comparar ambos métodos y analizar la relación entre ambos."
   ]
  },
  {
   "cell_type": "code",
   "execution_count": 1,
   "metadata": {
    "colab": {},
    "colab_type": "code",
    "id": "VkDC02YMvGKu"
   },
   "outputs": [],
   "source": [
    "import numpy as np\n",
    "import matplotlib.pyplot as plt\n",
    "from PIL import Image, ImageSequence\n",
    "import matplotlib.image as mpimg"
   ]
  },
  {
   "cell_type": "code",
   "execution_count": 2,
   "metadata": {
    "colab": {},
    "colab_type": "code",
    "id": "3_i17VbvvGK8"
   },
   "outputs": [],
   "source": [
    "def plotAnimation(animation):\n",
    "    \"\"\"\n",
    "    Parameters\n",
    "    ----------\n",
    "    animimation         : (frames, rows, cols) array\n",
    "                          GIF array\n",
    "\n",
    "    Returns\n",
    "    -------\n",
    "    Animation plots      : None\n",
    "    \"\"\"\n",
    "    i = 0\n",
    "    for frame in animation:\n",
    "        plt.imshow(frame, cmap=plt.cm.gray)\n",
    "        plt.axis('off')\n",
    "        plt.show()\n",
    "        i = i+1"
   ]
  },
  {
   "cell_type": "code",
   "execution_count": 3,
   "metadata": {
    "colab": {},
    "colab_type": "code",
    "id": "ile_dQ-DvGLD"
   },
   "outputs": [],
   "source": [
    "def gifToArray(gif_file):\n",
    "    \"\"\"\n",
    "    Parameters\n",
    "    ----------\n",
    "    gif_file             : string\n",
    "                          GIF path\n",
    "\n",
    "    Returns\n",
    "    -------\n",
    "    data                 : (frames, rows, cols) array\n",
    "                          NumPy array with GIF pixel values\n",
    "    \"\"\"\n",
    "    im = Image.open(gif_file)\n",
    "    data = list()\n",
    "    for frame in ImageSequence.Iterator(im):\n",
    "        tmp = np.array(im.convert('L'))\n",
    "        data.append(tmp)\n",
    "    data = np.array(data)\n",
    "    return data"
   ]
  },
  {
   "cell_type": "markdown",
   "metadata": {
    "colab_type": "text",
    "id": "JMO9iKGbvGLL"
   },
   "source": [
    "\n",
    "\n",
    "Podemos considerar un *GIF* como una colección de $p$ *frames*, donde un *frame* es una martriz $F\\in\\mathbb{R}^{r\\times c}$ con $r$ el número de filas y $c$ en número de columnas de esta imagen. Ahora, si $(f_k)_{i,j}$ corresponde al elemento $i,j$ del $k$-ésimo *frame*, vamos a definir $\\mathbf{f}_{i,j}=\\langle (f_1)_{i,j}, (f_2)_{i,j},\\dots,(f_p)_{i,j}\\rangle$,\n",
    "es decir, este vector corresponde a los valores de los $p$ frames de la coordenada $(i,j)$ del *GIF*.\n",
    "\n",
    "Finalmente, para trabajar con los algoritmos, vamos a construir la matriz $G \\in \\mathbb{R}^{q\\times p}$, donde $q=r\\times c$ de cada *frame*, y que se define como:\n",
    "\n",
    "\\begin{equation}\n",
    "    G = \n",
    "    \\left[\n",
    "    \\begin{array}{c}\n",
    "        \\mathbf{f}_{1,1} \\\\ \\hline\n",
    "        \\mathbf{f}_{1,2} \\\\ \\hline\n",
    "        \\dots \\\\ \\hline\n",
    "        \\mathbf{f}_{r,c}\n",
    "    \\end{array}\n",
    "    \\right]\n",
    "\\end{equation}"
   ]
  },
  {
   "cell_type": "markdown",
   "metadata": {
    "colab_type": "text",
    "id": "c66vLEwcvGLM"
   },
   "source": [
    "----\n",
    "## Funciones a Implementar"
   ]
  },
  {
   "cell_type": "markdown",
   "metadata": {
    "colab_type": "text",
    "id": "FKGPVeK6vGLO"
   },
   "source": [
    "1. Crear la función ```createG(data)``` que recibe ```data``` el arreglo ```NumPy``` con la información del GIF, y retorna el arreglo $G$ definido anteriormente. (10 puntos)"
   ]
  },
  {
   "cell_type": "code",
   "execution_count": 4,
   "metadata": {
    "colab": {},
    "colab_type": "code",
    "id": "7KtFKZE6vGLQ"
   },
   "outputs": [],
   "source": [
    "def createG(data):\n",
    "    \"\"\"\n",
    "    Parameters\n",
    "    ----------\n",
    "    data             : (frames, rows, cols) array\n",
    "                       NumPy array with GIF pixel values\n",
    "\n",
    "    G                : (q, p) array\n",
    "                       G matrix\n",
    "    \"\"\"\n",
    "    G = list()\n",
    "    for frame in data:\n",
    "        fila_nueva = []\n",
    "        for row in frame:\n",
    "            for i in row:\n",
    "                fila_nueva.append(i)\n",
    "        G.append(np.array(fila_nueva))\n",
    "    G = np.array(G)\n",
    "    return G.transpose()"
   ]
  },
  {
   "cell_type": "markdown",
   "metadata": {
    "colab_type": "text",
    "id": "NI6Wvv_YvGLX"
   },
   "source": [
    "2. Crear la función ```restoreGIF(data)``` que recibe los datos procesados ```data``` y ```shape``` que contiene la tupla ```(frames, rows, cols)```, la dimensión original del *GIF*. Esta función retorna la reconstrucción del GIF. (10 puntos)"
   ]
  },
  {
   "cell_type": "code",
   "execution_count": 5,
   "metadata": {
    "colab": {},
    "colab_type": "code",
    "id": "rSrx92TivGLY"
   },
   "outputs": [],
   "source": [
    "def restoreGIF(data, shape):\n",
    "    \"\"\"\n",
    "    Parameters\n",
    "    ----------\n",
    "    data             : (q, p) array\n",
    "                       G matrix\n",
    "    shape            : tuple (frames, rows, cols) \n",
    "    Returns\n",
    "    -------\n",
    "    reshaped_data    : (frames, rows, cols) array\n",
    "                       NumPy array with GIF pixel values\n",
    "                       \n",
    "    \"\"\"\n",
    "    \n",
    "    n_frames = shape[0]\n",
    "    n_rows = shape[1]\n",
    "    n_col = shape[2]\n",
    "    reshaped_data = []\n",
    "    G = data.transpose()\n",
    "    \n",
    "    for frame in G:\n",
    "        frame_original = [] \n",
    "        for cont in range(n_rows):\n",
    "            row_original = frame[cont*n_col:(cont+1)*n_col]\n",
    "            frame_original.append(row_original)\n",
    "        \n",
    "\n",
    "        reshaped_data.append(frame_original)\n",
    "    \n",
    "    reshaped_data = np.array(reshaped_data)\n",
    "    return reshaped_data"
   ]
  },
  {
   "cell_type": "markdown",
   "metadata": {
    "colab_type": "text",
    "id": "wBIADoJZvGLg"
   },
   "source": [
    "### SVD\n",
    "3. Implementar la función ```G_SVD(G, m)``` que reciba la matriz $G$ y los $m$ componentes que se utilizarán para comprimir el *GIF* utilizando *SVD*. La función debe retornar $U$, $\\textrm{diag}(\\Sigma)$ y $V^T$. Además, implementar la función ```SVD_G(U, s, Vt)``` que recibe las matrices generadas por el *SVD* y retorne la reconstrucción de la matriz $G$. (30 puntos)"
   ]
  },
  {
   "cell_type": "code",
   "execution_count": 6,
   "metadata": {
    "colab": {},
    "colab_type": "code",
    "id": "_s-S59b6vGLg"
   },
   "outputs": [],
   "source": [
    "# G to SVD\n",
    "def G_SVD(G, m):\n",
    "    \"\"\"\n",
    "    Parameters\n",
    "    ----------\n",
    "    G             : (q, p)-array\n",
    "                    G matrix\n",
    "    m             : int\n",
    "                    Number of components\n",
    "    Returns\n",
    "    -------\n",
    "    U             : (q, m)-array\n",
    "                    SVD U matrix\n",
    "    s             : m-array\n",
    "                    Singular values\n",
    "    Vt            : (m, p)-array\n",
    "                    SVD V^T matrix \n",
    "    \"\"\"\n",
    "    # Apply SVD\n",
    "    u, n, vt =np.linalg.svd(G,full_matrices = False)\n",
    "    \n",
    "    #tomar las primeras m columnas de u\n",
    "    \n",
    "    U = []\n",
    "    for row in u:\n",
    "        fila_nueva = row[:m]\n",
    "        U.append(fila_nueva)\n",
    "        \n",
    "    \n",
    "    #tomar las primeras m filas y columnas de n\n",
    "    \n",
    "    s = n[:m]\n",
    "    #tomar las primeras m filas de vt\n",
    "    Vt = vt[:m]\n",
    "    \n",
    "    U = np.array(U)\n",
    "    s = np.array(s)\n",
    "    Vt = np.array(Vt)\n",
    "    return U, s, Vt\n",
    "\n",
    "# SVD to 'compressed' G\n",
    "def SVD_G(U, s, Vt):\n",
    "    \"\"\"\n",
    "    Parameters\n",
    "    ----------\n",
    "    U             : (q, m)-array\n",
    "                    SVD U matrix\n",
    "    s             : m-array\n",
    "                    Singular values\n",
    "    Vt            : (m, q)-array\n",
    "                    SVD V^T matrix \n",
    "    Returns\n",
    "    -------\n",
    "    B             : (p, q)-array\n",
    "                    \"Compressed\" G\n",
    "    \"\"\"\n",
    "    \n",
    "    b1 = []\n",
    "    cont = 0\n",
    "    for row in Vt:\n",
    "        b1.append(row*s[cont])\n",
    "        cont = cont+1\n",
    "        \n",
    "    B = U.dot(b1)\n",
    "    B = np.array(B)\n",
    "    return B"
   ]
  },
  {
   "cell_type": "markdown",
   "metadata": {
    "colab_type": "text",
    "id": "8sMOpP2xvGLs"
   },
   "source": [
    "### PCA\n",
    "4. Implementar la función ```G_PCA(G, m)``` que reciba la matriz $G$ y los $m$ componentes que se utilizarán para comprimir el *GIF* utilizando *PCA*. La función debe retornar $PC$, $Y$ y $\\mu$. Además, implementar la función ```PCA_G(PC, Y, mu)``` que recibe las matrices generadas por *PCA* y retorne la reconstrucción de la matriz $G$. Para esto debe utilizar la funcion de SVD implementada en el punto anterior. (35 puntos)"
   ]
  },
  {
   "cell_type": "code",
   "execution_count": 7,
   "metadata": {
    "colab": {},
    "colab_type": "code",
    "id": "9HCshfMDvGLt"
   },
   "outputs": [],
   "source": [
    "def G_PCA(G, m):\n",
    "    \"\"\"\n",
    "    Parameters\n",
    "    ----------\n",
    "    G             : (q, p)-array\n",
    "                    G matrix\n",
    "    m             : int\n",
    "                    Number of components\n",
    "    Returns\n",
    "    -------\n",
    "    PC             : (p, m)-array\n",
    "                     first m principal components\n",
    "    Y             : (q,m)-array\n",
    "                    PC Scores \n",
    "    mu           : (p)-array\n",
    "                    Average per column \n",
    "    \"\"\"\n",
    "\n",
    "    mu = G.mean(0)\n",
    "    \n",
    "    Z = G - mu\n",
    "    \n",
    "    U,s,Vt = G_SVD(Z,m)\n",
    "    \n",
    "    v = Vt.transpose()\n",
    "    \n",
    "    PC = []\n",
    "    for row in v:\n",
    "        fila_nueva = row[:m]\n",
    "        PC.append(fila_nueva)\n",
    "        \n",
    "    PC = np.array(PC) \n",
    "    \n",
    "    aux = np.zeros((m, m))\n",
    "    np.fill_diagonal(aux, s)\n",
    "        \n",
    "    Y = U.dot(aux)\n",
    "    \n",
    "    return  PC, Y, mu"
   ]
  },
  {
   "cell_type": "code",
   "execution_count": 8,
   "metadata": {
    "colab": {},
    "colab_type": "code",
    "id": "m05kUtkAvGL0"
   },
   "outputs": [],
   "source": [
    "def PCA_G(PC, Y, mu):\n",
    "    \"\"\"\n",
    "    Parameters\n",
    "    ----------\n",
    "    PC             : (p, m)-array\n",
    "                     first m principal components\n",
    "    Y             : (q,m)-array\n",
    "                    PC Scores \n",
    "    mu           : (p)-array\n",
    "                    Average per column \n",
    "    Returns\n",
    "    -------\n",
    "    B            : (q, p)-array\n",
    "                    \"Compressed\" G\n",
    "    \"\"\"\n",
    "    \n",
    "    Vt = PC.transpose()\n",
    "    \n",
    "    matriz = Y.dot(Vt)\n",
    "    \n",
    "    B = matriz + mu\n",
    "    return B"
   ]
  },
  {
   "cell_type": "markdown",
   "metadata": {
    "colab_type": "text",
    "id": "WXU6uYie6Nq0"
   },
   "source": [
    "## Preguntas\n",
    "\n",
    "Para responder las siguientes preguntas, debe implementar las funciones propuestas"
   ]
  },
  {
   "cell_type": "markdown",
   "metadata": {
    "colab_type": "text",
    "id": "5RmHo48BvGM2"
   },
   "source": [
    "#### 1. ¿Cuál sería el costo de almacenamiento en MB usando $m$ vectores singulares? (5 puntos)"
   ]
  },
  {
   "cell_type": "code",
   "execution_count": 9,
   "metadata": {
    "colab": {},
    "colab_type": "code",
    "id": "e7y73fYtvGM2"
   },
   "outputs": [],
   "source": [
    "def SVD_size(G, m):\n",
    "    \"\"\"\n",
    "    Parameters\n",
    "    ----------\n",
    "    G             : (q, p)-array\n",
    "                    G matrix\n",
    "    m             : int\n",
    "                    Number of components\n",
    "    Returns\n",
    "    -------\n",
    "    size          : Float\n",
    "                    total size of SVD return\n",
    "    \"\"\"\n",
    "    U,s,Vt = G_SVD(G,m)\n",
    "    size1 = U.nbytes\n",
    "    size2 = Vt.nbytes\n",
    "    size3 = s.nbytes\n",
    "    size = size1 + size2 + size3\n",
    "    size = size/1024\n",
    "    return size/1024\n",
    "\n",
    "def PCA_size(G, m):\n",
    "    \"\"\"\n",
    "    Parameters\n",
    "    ----------\n",
    "    G             : (q, p)-array\n",
    "                    G matrix\n",
    "    m             : int\n",
    "                    Number of components\n",
    "    Returns\n",
    "    -------\n",
    "    size          : Float\n",
    "                    total size of PCA return\n",
    "                    \n",
    "    \"\"\"\n",
    "    PC , Y , mu = G_PCA(G, m)\n",
    "    size1 = PC.nbytes\n",
    "    size2 = Y.nbytes\n",
    "    size3 = mu.nbytes\n",
    "    size = size1 + size2 + size3\n",
    "    size = size/1024\n",
    "    return size/1024"
   ]
  },
  {
   "cell_type": "markdown",
   "metadata": {
    "colab_type": "text",
    "id": "klJlLp9svGM6"
   },
   "source": [
    "#### 2. ¿Cuál sería el *gif* resultante con $m$ componentes? (5 puntos)"
   ]
  },
  {
   "cell_type": "code",
   "execution_count": 10,
   "metadata": {
    "colab": {},
    "colab_type": "code",
    "id": "NfS25SORvGM7"
   },
   "outputs": [],
   "source": [
    "def print_animation_SVD(G, m,shape):\n",
    "    \"\"\"\n",
    "    Parameters\n",
    "    ----------\n",
    "    G             : (q, p)-array\n",
    "                    G matrix\n",
    "    m             : int\n",
    "                    Number of components\n",
    "    Returns\n",
    "    -------\n",
    "    La funcion no debe retornar nada, solo mostrar las imagenes de los frames reconstruidos\n",
    "    \"\"\"\n",
    "    U,s,Vt = G_SVD(G,m)\n",
    "\n",
    "    B = SVD_G(U,s,Vt)\n",
    "    restore1 = restoreGIF(B,shape)\n",
    "    plotAnimation(restore1)\n",
    "    return\n",
    "\n",
    "def print_animation_PCA(G, m,shape):\n",
    "    \"\"\"\n",
    "    Parameters\n",
    "    ----------\n",
    "    G             : (q, p)-array\n",
    "                    G matrix\n",
    "    m             : int\n",
    "                    Number of components\n",
    "    Returns\n",
    "    -------\n",
    "    La funcion no debe retornar nada, solo mostrar las imagenes de los frames reconstruidos\n",
    "    \"\"\"\n",
    "    \n",
    "    PC , Y , mu = G_PCA(G, m)\n",
    "    B = PCA_G(PC, Y, mu)\n",
    "    restore1 = restoreGIF(B,shape)\n",
    "    plotAnimation(restore1)\n",
    "    return"
   ]
  },
  {
   "cell_type": "markdown",
   "metadata": {
    "colab_type": "text",
    "id": "hAYGfX8TvGNO"
   },
   "source": [
    "#### 3. ¿Cual sería el error en función de $m$? (Calcule el error utilizando la norma-2) (5 puntos)\n",
    "\n",
    "Considere calcular el error de la siguiente manera: $||G-B_m||_2$, donde $G$ corresponde a la matriz definida anteriormente y $B_m$ a la matriz \"comprimida\" utilizando los métodos correspondientes para un $m$ particular."
   ]
  },
  {
   "cell_type": "code",
   "execution_count": 11,
   "metadata": {
    "colab": {},
    "colab_type": "code",
    "id": "Wk65LuvdvGNP"
   },
   "outputs": [],
   "source": [
    "def compression_error_SVD(G, m):\n",
    "    \"\"\"\n",
    "    Parameters\n",
    "    ----------\n",
    "    G             : (q, p)-array\n",
    "                    G matrix\n",
    "    m             : int\n",
    "                    Number of components\n",
    "    Returns\n",
    "    -------\n",
    "    error          : Float\n",
    "                    total size of PCA return\n",
    "    \"\"\"\n",
    "    \n",
    "    U,s,Vt = G_SVD(G,m)\n",
    "\n",
    "    B = SVD_G(U,s,Vt)\n",
    "    \n",
    "    H = G-B\n",
    "    error = np.linalg.norm(H,2)\n",
    "    return error\n",
    "\n",
    "def compression_error_PCA(G, m):\n",
    "    \"\"\"\n",
    "    Parameters\n",
    "    ----------\n",
    "    G             : (q, p)-array\n",
    "                    G matrix\n",
    "    m             : int\n",
    "                    Number of components\n",
    "    Returns\n",
    "    -------\n",
    "    error         : Float\n",
    "                    total size of PCA return\n",
    "    \"\"\"\n",
    "    PC , Y , mu = G_PCA(G, m)\n",
    "    B = PCA_G(PC, Y, mu) \n",
    "    H = G-B\n",
    "    error = np.linalg.norm(H,2)\n",
    "    return error"
   ]
  },
  {
   "cell_type": "markdown",
   "metadata": {
    "colab_type": "text",
    "id": "OCJCcJjH8Bbs"
   },
   "source": [
    "# Prueba\n",
    "\n",
    "Para verificar sus algoritmos, pruebe las funciones desarrolladas para $m=10$."
   ]
  },
  {
   "cell_type": "code",
   "execution_count": 14,
   "metadata": {},
   "outputs": [
    {
     "name": "stdout",
     "output_type": "stream",
     "text": [
      "Size SVD: 6.3668060302734375\n",
      "Size PCA: 6.368255615234375\n",
      "Error SVD: 10888.513291792182\n",
      "Error PCA: 10872.976738591024\n"
     ]
    }
   ],
   "source": [
    "data = gifToArray(\"somebody.gif\") \n",
    "shape =data.shape\n",
    "G = createG(data)\n",
    "print(\"Size SVD:\",SVD_size(G,10))\n",
    "print(\"Size PCA:\",PCA_size(G,10))\n",
    "#print_animation_SVD(G, 10,shape) #descomentar para imprimir los frames\n",
    "#print_animation_PCA(G, 10,shape) #descomentar para imprimir los frames\n",
    "print(\"Error SVD:\",compression_error_SVD(G, 10))\n",
    "print(\"Error PCA:\",compression_error_PCA(G, 10))"
   ]
  },
  {
   "cell_type": "code",
   "execution_count": null,
   "metadata": {},
   "outputs": [],
   "source": []
  }
 ],
 "metadata": {
  "colab": {
   "collapsed_sections": [],
   "name": "Tarea-2.ipynb",
   "provenance": []
  },
  "kernelspec": {
   "display_name": "Python 3",
   "language": "python",
   "name": "python3"
  },
  "language_info": {
   "codemirror_mode": {
    "name": "ipython",
    "version": 3
   },
   "file_extension": ".py",
   "mimetype": "text/x-python",
   "name": "python",
   "nbconvert_exporter": "python",
   "pygments_lexer": "ipython3",
   "version": "3.7.9"
  }
 },
 "nbformat": 4,
 "nbformat_minor": 1
}
