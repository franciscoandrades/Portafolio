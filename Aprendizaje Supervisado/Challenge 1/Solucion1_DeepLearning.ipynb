{
 "cells": [
  {
   "cell_type": "markdown",
   "metadata": {
    "id": "L5rfZ_hYaQ1Z"
   },
   "source": [
    "<img src=\"http://www.exalumnos.usm.cl/wp-content/uploads/2015/06/ISOTIPO-Color.jpg\" title=\"Title text\" width=\"20%\" />\n",
    "\n",
    "<hr style=\"height:2px;border:none\"/>\n",
    "<H1 align='center'> Challenge Kaggle </H1>\n",
    "<H5 align='center'> Predicción del precio de una casa: Solución</H5>\n",
    "\n",
    "\n",
    "\n",
    "<H3> INF-395 Redes Neuronales y Deep Learning </H3>\n",
    "<H3> Autor: Francisco Andrades</H3>\n",
    "\n",
    "Lenguaje: Python\n",
    "\n",
    "Temas:\n",
    "\n",
    "    - Arquitectura de Redes Neuronales *Feed-Forward*\n",
    "    - Entrenamiento de Redes Neuronales. \n",
    "    - Parte Básica de Redes Convolucionales. \n",
    "    - Problemas Especiales.\n",
    "\n",
    "Link Competencia: https://www.kaggle.com/c/prediccin-del-precio-de-una-casa\n",
    "\n",
    "Equipo: Bios\n",
    "<hr style=\"height:2px;border:none\"/>"
   ]
  },
  {
   "cell_type": "markdown",
   "metadata": {},
   "source": [
    "### Contexto\n",
    "\n",
    "Queremos predecir el precio de una casa a partir de metadata como el número de habitaciones, el número de baños, el área total de la casa y el zipcode."
   ]
  },
  {
   "cell_type": "markdown",
   "metadata": {},
   "source": [
    "### Dataset\n",
    "\n",
    "El dataset de entrenamiento incluye la información de 443 propiedades con sus respectivos precios. El dataset de pruebas incluye la información de 92 propiedades, pero no estarán disponibles los precios.\n",
    "\n",
    "**La métrica de evaluación para esta competencia es MSE** "
   ]
  },
  {
   "cell_type": "code",
   "execution_count": 20,
   "metadata": {
    "execution": {
     "iopub.execute_input": "2021-08-18T22:11:15.289896Z",
     "iopub.status.busy": "2021-08-18T22:11:15.289570Z",
     "iopub.status.idle": "2021-08-18T22:11:15.294462Z",
     "shell.execute_reply": "2021-08-18T22:11:15.293812Z",
     "shell.execute_reply.started": "2021-08-18T22:11:15.289866Z"
    }
   },
   "outputs": [],
   "source": [
    "# Librerías\n",
    "import pandas as pd\n",
    "import numpy as np\n",
    "from sklearn.model_selection import train_test_split\n",
    "from sklearn.metrics import mean_squared_error as mse\n",
    "from sklearn.preprocessing import StandardScaler\n",
    "from tensorflow import keras\n",
    "from tensorflow.keras import layers\n",
    "from tensorflow.keras.losses import mean_squared_error as mse_loss\n",
    "from tensorflow.keras.callbacks import EarlyStopping\n",
    "from keras import backend as K\n",
    "\n",
    "def root_mean_squared_error(y_true, y_pred):\n",
    "        return K.sqrt(K.mean(K.square(y_pred - y_true))) \n",
    "path = '../input/data-t1-nns/'"
   ]
  },
  {
   "cell_type": "code",
   "execution_count": 21,
   "metadata": {
    "execution": {
     "iopub.execute_input": "2021-08-18T22:11:16.706326Z",
     "iopub.status.busy": "2021-08-18T22:11:16.705820Z",
     "iopub.status.idle": "2021-08-18T22:11:16.728220Z",
     "shell.execute_reply": "2021-08-18T22:11:16.727119Z",
     "shell.execute_reply.started": "2021-08-18T22:11:16.706290Z"
    },
    "id": "yCdWqf0N1tZs",
    "outputId": "ea913052-fa2f-4ef3-d97a-0fae25055890"
   },
   "outputs": [
    {
     "data": {
      "text/html": [
       "<div>\n",
       "<style scoped>\n",
       "    .dataframe tbody tr th:only-of-type {\n",
       "        vertical-align: middle;\n",
       "    }\n",
       "\n",
       "    .dataframe tbody tr th {\n",
       "        vertical-align: top;\n",
       "    }\n",
       "\n",
       "    .dataframe thead th {\n",
       "        text-align: right;\n",
       "    }\n",
       "</style>\n",
       "<table border=\"1\" class=\"dataframe\">\n",
       "  <thead>\n",
       "    <tr style=\"text-align: right;\">\n",
       "      <th></th>\n",
       "      <th>cod_casa</th>\n",
       "      <th>habitaciones</th>\n",
       "      <th>banos</th>\n",
       "      <th>area</th>\n",
       "      <th>zipcode</th>\n",
       "      <th>precio</th>\n",
       "    </tr>\n",
       "  </thead>\n",
       "  <tbody>\n",
       "    <tr>\n",
       "      <th>0</th>\n",
       "      <td>OC4U9J6C11R5715</td>\n",
       "      <td>4</td>\n",
       "      <td>4.0</td>\n",
       "      <td>4053</td>\n",
       "      <td>85255</td>\n",
       "      <td>869500</td>\n",
       "    </tr>\n",
       "    <tr>\n",
       "      <th>1</th>\n",
       "      <td>CQF44W2LE3S3NSC</td>\n",
       "      <td>4</td>\n",
       "      <td>3.0</td>\n",
       "      <td>3343</td>\n",
       "      <td>36372</td>\n",
       "      <td>865200</td>\n",
       "    </tr>\n",
       "    <tr>\n",
       "      <th>2</th>\n",
       "      <td>LT2Z9MOPF5KIM7T</td>\n",
       "      <td>3</td>\n",
       "      <td>4.0</td>\n",
       "      <td>3923</td>\n",
       "      <td>85266</td>\n",
       "      <td>889000</td>\n",
       "    </tr>\n",
       "    <tr>\n",
       "      <th>3</th>\n",
       "      <td>VUCNPXL2QMIA22A</td>\n",
       "      <td>5</td>\n",
       "      <td>5.0</td>\n",
       "      <td>4022</td>\n",
       "      <td>85262</td>\n",
       "      <td>910000</td>\n",
       "    </tr>\n",
       "    <tr>\n",
       "      <th>4</th>\n",
       "      <td>9CWP6T0SBBLGDBL</td>\n",
       "      <td>3</td>\n",
       "      <td>4.0</td>\n",
       "      <td>4116</td>\n",
       "      <td>85266</td>\n",
       "      <td>971226</td>\n",
       "    </tr>\n",
       "  </tbody>\n",
       "</table>\n",
       "</div>"
      ],
      "text/plain": [
       "          cod_casa  habitaciones  banos  area  zipcode  precio\n",
       "0  OC4U9J6C11R5715             4    4.0  4053    85255  869500\n",
       "1  CQF44W2LE3S3NSC             4    3.0  3343    36372  865200\n",
       "2  LT2Z9MOPF5KIM7T             3    4.0  3923    85266  889000\n",
       "3  VUCNPXL2QMIA22A             5    5.0  4022    85262  910000\n",
       "4  9CWP6T0SBBLGDBL             3    4.0  4116    85266  971226"
      ]
     },
     "execution_count": 21,
     "metadata": {},
     "output_type": "execute_result"
    }
   ],
   "source": [
    "#se leen los datos\n",
    "df_train = pd.read_csv(path+'metadata_casas_train.csv',index_col=0)\n",
    "df_test = pd.read_csv(path+'metadata_casas_test.csv',index_col=0)\n",
    "df_train.head()"
   ]
  },
  {
   "cell_type": "code",
   "execution_count": 22,
   "metadata": {
    "execution": {
     "iopub.execute_input": "2021-08-18T22:11:16.733939Z",
     "iopub.status.busy": "2021-08-18T22:11:16.733613Z",
     "iopub.status.idle": "2021-08-18T22:11:16.741896Z",
     "shell.execute_reply": "2021-08-18T22:11:16.740723Z",
     "shell.execute_reply.started": "2021-08-18T22:11:16.733907Z"
    }
   },
   "outputs": [],
   "source": [
    "#para testing\n",
    "df_train,df_test = train_test_split(df_train,shuffle=True,random_state=0)"
   ]
  },
  {
   "cell_type": "code",
   "execution_count": 23,
   "metadata": {
    "execution": {
     "iopub.execute_input": "2021-08-18T22:11:16.884658Z",
     "iopub.status.busy": "2021-08-18T22:11:16.884304Z",
     "iopub.status.idle": "2021-08-18T22:11:16.939572Z",
     "shell.execute_reply": "2021-08-18T22:11:16.938243Z",
     "shell.execute_reply.started": "2021-08-18T22:11:16.884622Z"
    }
   },
   "outputs": [],
   "source": [
    "# se realiza la codificación de los zipcodes mencionada en el notebook EDA\n",
    "def process_metadata(df,lista_columnas,flag):\n",
    "    df_new = df.copy()\n",
    "    \n",
    "    codes = df_new.zipcode\n",
    "    for n_digits in range(3):\n",
    "        new_codes = [int(str(i)[:(2*n_digits)+1]) for i in codes.values]\n",
    "        df_new[str(n_digits)+'_codes'] = new_codes\n",
    "        one_hot = pd.get_dummies(df_new[str(n_digits)+'_codes'],prefix=str(n_digits))\n",
    "        df_new = df_new.join(one_hot)\n",
    "        df_new.drop(str(n_digits)+'_codes',axis=1,inplace=True)\n",
    "    df_new.drop('zipcode',axis=1,inplace=True)\n",
    "    if flag:\n",
    "        columnas_test = []\n",
    "        for columna in df_new.columns:\n",
    "            if columna in lista_columnas:\n",
    "                columnas_test.append(columna)\n",
    "        df_new = df_new.loc[:,columnas_test]\n",
    "        df_empty = pd.DataFrame(columns = lista_columnas)\n",
    "        df_new = df_empty.append(df_new).fillna(0)\n",
    "    \n",
    "    return df_new,df_new.columns\n",
    "\n",
    "df_train_clean1,lista_columnas = process_metadata(df_train,[],0)\n",
    "df_test_clean1,_ = process_metadata(df_test,lista_columnas,1)"
   ]
  },
  {
   "cell_type": "code",
   "execution_count": 24,
   "metadata": {
    "execution": {
     "iopub.execute_input": "2021-08-18T22:11:17.093931Z",
     "iopub.status.busy": "2021-08-18T22:11:17.093565Z",
     "iopub.status.idle": "2021-08-18T22:11:17.102384Z",
     "shell.execute_reply": "2021-08-18T22:11:17.101326Z",
     "shell.execute_reply.started": "2021-08-18T22:11:17.093895Z"
    }
   },
   "outputs": [],
   "source": [
    "# se elimina la variabla cod_casa que no tiene utilidad (es un id)\n",
    "df_train_clean1.drop('cod_casa',axis=1,inplace=True)\n",
    "df_test_clean1.drop('cod_casa',axis=1,inplace=True)"
   ]
  },
  {
   "cell_type": "code",
   "execution_count": 25,
   "metadata": {
    "execution": {
     "iopub.execute_input": "2021-08-18T22:11:17.307216Z",
     "iopub.status.busy": "2021-08-18T22:11:17.306872Z",
     "iopub.status.idle": "2021-08-18T22:11:17.314601Z",
     "shell.execute_reply": "2021-08-18T22:11:17.313736Z",
     "shell.execute_reply.started": "2021-08-18T22:11:17.307180Z"
    }
   },
   "outputs": [],
   "source": [
    "# No se le hace ninguna transformación al precio. Eliminar los outliers más severos resultó\n",
    "# en una mejor performance en nuestros datos de testing, pero peor en la competencia. Esto\n",
    "# no es ninguna sorpresa, simplemente quiere decir que existen datos en la competencia que \n",
    "# están relacionados con los outliers más severos.\n",
    "\n",
    "# Trabajar realizando una transformación logarítmica o un reemplazo con algún valor estratégico\n",
    "# (media/mediana/valor_máximo) resultó en un pero desempeño.\n",
    "y_train = df_train_clean1['precio']\n",
    "y_test = df_test_clean1['precio']\n",
    "\n",
    "X_train = df_train_clean1.drop(['precio'],axis=1)\n",
    "X_test = df_test_clean1.drop(['precio'],axis=1)"
   ]
  },
  {
   "cell_type": "code",
   "execution_count": 26,
   "metadata": {
    "execution": {
     "iopub.execute_input": "2021-08-18T22:11:17.514019Z",
     "iopub.status.busy": "2021-08-18T22:11:17.513696Z",
     "iopub.status.idle": "2021-08-18T22:11:17.530374Z",
     "shell.execute_reply": "2021-08-18T22:11:17.529098Z",
     "shell.execute_reply.started": "2021-08-18T22:11:17.513990Z"
    }
   },
   "outputs": [],
   "source": [
    "# Se escalan los datos.\n",
    "scaler_data = StandardScaler()\n",
    "X_train.iloc[:,:3] = scaler_data.fit_transform(X_train.iloc[:,:3])\n",
    "X_test.iloc[:,:3] = scaler_data.transform(X_test.iloc[:,:3])\n",
    "\n",
    "scaler_precio = StandardScaler()\n",
    "y_train = scaler_precio.fit_transform(np.array(y_train).reshape(-1,1))\n",
    "y_test = scaler_precio.transform(np.array(y_test).reshape(-1,1))"
   ]
  },
  {
   "cell_type": "code",
   "execution_count": 27,
   "metadata": {
    "execution": {
     "iopub.execute_input": "2021-08-18T22:11:17.714793Z",
     "iopub.status.busy": "2021-08-18T22:11:17.714473Z",
     "iopub.status.idle": "2021-08-18T22:11:17.742583Z",
     "shell.execute_reply": "2021-08-18T22:11:17.741576Z",
     "shell.execute_reply.started": "2021-08-18T22:11:17.714761Z"
    }
   },
   "outputs": [
    {
     "name": "stdout",
     "output_type": "stream",
     "text": [
      "Model: \"Modelo_metadata\"\n",
      "_________________________________________________________________\n",
      "Layer (type)                 Output Shape              Param #   \n",
      "=================================================================\n",
      "Input_metadata (InputLayer)  [(None, 72)]              0         \n",
      "_________________________________________________________________\n",
      "dense_1 (Dense)              (None, 4)                 292       \n",
      "_________________________________________________________________\n",
      "Output (Dense)               (None, 1)                 5         \n",
      "=================================================================\n",
      "Total params: 297\n",
      "Trainable params: 297\n",
      "Non-trainable params: 0\n",
      "_________________________________________________________________\n"
     ]
    }
   ],
   "source": [
    "# Se define modelo Feed-Forward densa con sólo 1 capa oculta con 4 neuronas\n",
    "# Este modelo se obtuvo mediante grid search  y tuning\n",
    "# Es el modelo que mejor se comportó \n",
    "\n",
    "n_features = X_train.shape[1]\n",
    "inputs = keras.Input(shape=(n_features, ), name='Input_metadata')\n",
    "x = layers.Dense(4, activation='relu')(inputs)\n",
    "outputs = layers.Dense(1, name='Output')(x)\n",
    " \n",
    "model = keras.Model(inputs=inputs, outputs=outputs, name='Modelo_metadata')\n",
    "model.summary()"
   ]
  },
  {
   "cell_type": "code",
   "execution_count": 32,
   "metadata": {
    "execution": {
     "iopub.execute_input": "2021-08-18T22:11:29.645186Z",
     "iopub.status.busy": "2021-08-18T22:11:29.644862Z",
     "iopub.status.idle": "2021-08-18T22:11:31.702746Z",
     "shell.execute_reply": "2021-08-18T22:11:31.701603Z",
     "shell.execute_reply.started": "2021-08-18T22:11:29.645156Z"
    },
    "scrolled": true
   },
   "outputs": [],
   "source": [
    "# Se entrena el modelo por 200 epochs, este número se tuneó poco. Dentro del vecindario [150,250] hay opciones competitivas\n",
    "model.compile(loss=root_mean_squared_error)\n",
    "history = model.fit(\n",
    "        x = X_train,\n",
    "        y = y_train,\n",
    "        epochs=200,\n",
    "        verbose=0,\n",
    "    ) \n",
    "preds = model.predict(X_test)"
   ]
  },
  {
   "cell_type": "code",
   "execution_count": 33,
   "metadata": {
    "execution": {
     "iopub.execute_input": "2021-08-18T22:11:31.824056Z",
     "iopub.status.busy": "2021-08-18T22:11:31.823709Z",
     "iopub.status.idle": "2021-08-18T22:11:31.833236Z",
     "shell.execute_reply": "2021-08-18T22:11:31.832247Z",
     "shell.execute_reply.started": "2021-08-18T22:11:31.824026Z"
    }
   },
   "outputs": [
    {
     "data": {
      "text/plain": [
       "280392.11187145987"
      ]
     },
     "execution_count": 33,
     "metadata": {},
     "output_type": "execute_result"
    }
   ],
   "source": [
    "#para testing\n",
    "#Error de 300.000 aprox en un rango de valores [0,6.000.000]. Es un error relativamente pequeño.\n",
    "#Los outliers hacen mucho daño, eliminando los más severos el error disminuye considerablemente.\n",
    "mse(scaler_precio.inverse_transform(y_test.squeeze()),scaler_precio.inverse_transform(preds),squared=False)"
   ]
  },
  {
   "cell_type": "code",
   "execution_count": 30,
   "metadata": {
    "execution": {
     "iopub.execute_input": "2021-08-18T22:11:20.876882Z",
     "iopub.status.busy": "2021-08-18T22:11:20.876462Z",
     "iopub.status.idle": "2021-08-18T22:11:20.885478Z",
     "shell.execute_reply": "2021-08-18T22:11:20.884459Z",
     "shell.execute_reply.started": "2021-08-18T22:11:20.876851Z"
    }
   },
   "outputs": [],
   "source": [
    "#Ignorar, esto es para la competencia\n",
    "#submission = pd.read_csv('../input/sample-submission/sampleSubmission.csv')\n",
    "#submission['\\'value\\''] = scaler_precio.inverse_transform(preds)\n",
    "#submission.to_csv('submission.csv',index=False)\n",
    "#submission"
   ]
  }
 ],
 "metadata": {
  "kernelspec": {
   "display_name": "Python 3",
   "language": "python",
   "name": "python3"
  },
  "language_info": {
   "codemirror_mode": {
    "name": "ipython",
    "version": 3
   },
   "file_extension": ".py",
   "mimetype": "text/x-python",
   "name": "python",
   "nbconvert_exporter": "python",
   "pygments_lexer": "ipython3",
   "version": "3.7.9"
  }
 },
 "nbformat": 4,
 "nbformat_minor": 4
}
