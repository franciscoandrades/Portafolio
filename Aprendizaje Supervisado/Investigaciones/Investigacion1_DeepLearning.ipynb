{
 "cells": [
  {
   "cell_type": "markdown",
   "metadata": {
    "id": "L5rfZ_hYaQ1Z",
    "slideshow": {
     "slide_type": "slide"
    }
   },
   "source": [
    "<img src=\"http://www.exalumnos.usm.cl/wp-content/uploads/2015/06/ISOTIPO-Color.jpg\" title=\"Title text\" width=\"20%\" />\n",
    "\n",
    "<hr style=\"height:2px;border:none\"/>\n",
    "<H1 align='center'> Pregunta de Investigación </H1>\n",
    "<H5 align='center'> El uso de funciones de pérdida robustas, como la función de Huber, permite mejorar el desempeño de una red en problemas de regresión donde la salida presenta outliers. </H5>\n",
    "\n",
    "<H3> INF-395 Redes Neuronales y Deep Learning </H3>\n",
    "<H3> Autores: Francisco Andrades | Lucas Díaz</H3>\n",
    "\n",
    "Lenguaje: Python\n",
    "\n",
    "Temas:\n",
    "\n",
    "    - Arquitectura de Redes Neuronales *Feed-Forward*\n",
    "    - Entrenamiento de Redes Neuronales. \n",
    "    - Parte Básica de Redes Convolucionales. \n",
    "    - Problemas Especiales.\n",
    "    \n",
    "Videos Explicativos: \n",
    "\n",
    "    - https://youtu.be/DbpbfwR61Ws\n",
    "    \n",
    "    - https://youtu.be/WL5InIBNLos\n",
    "\n",
    "<hr style=\"height:2px;border:none\"/>"
   ]
  },
  {
   "cell_type": "code",
   "execution_count": 43,
   "metadata": {
    "execution": {
     "iopub.execute_input": "2021-05-28T00:46:38.982139Z",
     "iopub.status.busy": "2021-05-28T00:46:38.981832Z",
     "iopub.status.idle": "2021-05-28T00:46:43.931798Z",
     "shell.execute_reply": "2021-05-28T00:46:43.930863Z",
     "shell.execute_reply.started": "2021-05-28T00:46:38.982110Z"
    },
    "slideshow": {
     "slide_type": "skip"
    }
   },
   "outputs": [
    {
     "name": "stdout",
     "output_type": "stream",
     "text": [
      "Requirement already satisfied: scipy==1.6 in /Users/lucas/opt/anaconda3/lib/python3.8/site-packages (1.6.0)\r\n",
      "Requirement already satisfied: numpy>=1.16.5 in /Users/lucas/opt/anaconda3/lib/python3.8/site-packages (from scipy==1.6) (1.19.2)\r\n"
     ]
    }
   ],
   "source": [
    "# Librerías\n",
    "!pip install scipy==1.6\n",
    "\n",
    "import pandas as pd\n",
    "import numpy as np\n",
    "import seaborn as sns; sns.set()\n",
    "import matplotlib.pyplot as plt\n",
    "\n",
    "import scipy\n",
    "from scipy import stats\n",
    "\n",
    "from sklearn.model_selection import train_test_split, KFold\n",
    "from sklearn.metrics import mean_squared_error as mse\n",
    "from sklearn.metrics import mean_absolute_error as mae\n",
    "from sklearn.compose import ColumnTransformer\n",
    "from sklearn.datasets import fetch_openml\n",
    "from sklearn.pipeline import Pipeline\n",
    "from sklearn.impute import SimpleImputer\n",
    "from sklearn.preprocessing import StandardScaler, OneHotEncoder\n",
    "from sklearn.linear_model import LogisticRegression\n",
    "\n",
    "from tensorflow import keras\n",
    "from tensorflow.keras import layers\n",
    "from tensorflow.keras.datasets import boston_housing\n",
    "from tensorflow.keras import optimizers\n",
    "# LOSSES\n",
    "from tensorflow.keras.losses import Huber\n",
    "from tensorflow.keras.losses import mean_squared_error as mse_loss\n",
    "from tensorflow.keras.losses import mean_absolute_error as mae_loss\n",
    "from tensorflow.keras.losses import LogCosh\n",
    "\n",
    "from tensorflow.keras.callbacks import EarlyStopping\n",
    "\n",
    "#P2\n",
    "from tensorflow.keras import backend as K\n",
    "def root_mean_squared_error(y_true, y_pred):\n",
    "        return K.sqrt(K.mean(K.square(y_pred - y_true))) "
   ]
  },
  {
   "cell_type": "code",
   "execution_count": 44,
   "metadata": {
    "slideshow": {
     "slide_type": "skip"
    }
   },
   "outputs": [],
   "source": [
    "path = ''"
   ]
  },
  {
   "cell_type": "markdown",
   "metadata": {
    "slideshow": {
     "slide_type": "slide"
    }
   },
   "source": [
    "<center><h1> Pregunta de Investigación </h1></center>\n",
    "\n",
    "\\\n",
    "**Hipótesis:** El uso de funciones de pérdida robustas, como la función de Huber, **permite** mejorar el desempeño de una red en problemas de regresión donde la salida presenta outliers.\n",
    "\n",
    "\n",
    "**Objetivo:**  Demostrar la hipótesis.\n",
    "\n",
    "**Propuesta:** Se demostrará la hipótesis evidenciando al menos **1** caso donde la función de Huber mejora el desempeño de una arquitectura frente a la función de pérdida *Mean Squared Error*. Posteriormente se extenderá la demostración a otras funciones de pérdida robustas."
   ]
  },
  {
   "cell_type": "markdown",
   "metadata": {
    "slideshow": {
     "slide_type": "subslide"
    }
   },
   "source": [
    "**Metodología** \n",
    "1. Se harán experimentos en 2 datasets sintéticos y 2 reales, utilizando una arquitectura feed-forward **fija para cada dataset**.\n",
    "2. Se entrenará la arquitectura de forma independiente para cada función de pérdida y se evaluará utilizando como métricas MAE y MSE.\n",
    "3. Se ejecutarán N iteraciones del paso 2 y se obtendrá una distribución de resultados pertinente a cada función de pérdida.\n",
    "4. Mediante Hipótesis Testing, se responderá a la siguiente pregunta para cada métrica: ¿Se puede afirmar, con determinada confianza, que la media de la distribución generada por Huber es estrictamente menor a la media de la distribución generada por MSE?\n",
    "5. Si la respuesta es positiva para ambas métricas en al menos **1** caso, se entenderá por demostrada la hipótesis. "
   ]
  },
  {
   "cell_type": "markdown",
   "metadata": {
    "slideshow": {
     "slide_type": "subslide"
    }
   },
   "source": [
    "**Esqueleto**\n",
    "1. Recordatorio MSE, MAE, HUBER.\n",
    "    - ¿Por qué escogemos MSE como la función de pérdida a comparar?\n",
    "    - ¿Por qué consideramos que la hipótesis debiese ser cierta?\n",
    "2. Descripción de los datasets.\n",
    "    -  ¿Por qué los escogimos?\n",
    "3. Evaluación de los modelos.\n",
    "    - ¿Por qué utilizar MAE y MSE como métricas?\n",
    "4. Experimentos.\n",
    "    - Generación de las distribuciones.\n",
    "    - Hipótesis Testing.\n",
    "5. Extensión a otras funciones de pérdida robustas.\n",
    "    - LogCosh()"
   ]
  },
  {
   "cell_type": "markdown",
   "metadata": {
    "slideshow": {
     "slide_type": "slide"
    }
   },
   "source": [
    "****\n",
    "<center><h3> 1. Recordatorio MSE, MAE Y HUBER </h3></center>\n",
    "\n",
    "\n",
    "#### MSE\n",
    "\n",
    "- Media de los errores al cuadrado (Norma L2)\n",
    "- Sensible a outliers\n",
    "\n",
    "$$MSE = \\frac{\\sum_{i=1}^n(y_i-y_i^p)^2} {n}$$\n",
    "\n",
    "<img src=\"assets/mse.png\" title=\"Title text\" />"
   ]
  },
  {
   "cell_type": "markdown",
   "metadata": {
    "slideshow": {
     "slide_type": "subslide"
    }
   },
   "source": [
    "#### MAE\n",
    "\n",
    "- Media del valor absoluto de los errores (Norma L1)\n",
    "- Diferenciable por trazos.\n",
    "\n",
    "$$MAE = \\frac{\\sum_{i=1}^n|y_i-y_i^p|} {n}$$\n",
    "<img src=\"assets/mae.png\" title=\"Title text\" />"
   ]
  },
  {
   "cell_type": "markdown",
   "metadata": {
    "slideshow": {
     "slide_type": "subslide"
    }
   },
   "source": [
    "#### Huber\n",
    "\n",
    "- Combina MSE con MAE.\n",
    "- MAE, pero se convierte en MSE para errores pequeños.\n",
    "- Robustez frente a outliers (MAE), pero diferenciable en 0 (MSE).\n",
    "\n",
    "En 1964, Peter Huber, en su *paper Robust estimation of a location parameter*, define la función (con $k(\\epsilon)$):\n",
    "\n",
    "\\begin{equation*}\n",
    "    \\rho(y - f(x)) = \n",
    "            \\begin{cases}\n",
    "            \\frac{1}{2}(y - f(x))^2 &      \\text{ para } \\quad |y - f(x)| < \\delta \\\\ \n",
    "            \\delta|y - f(x)| - \\frac{1}{2}\\delta^2 &  \\text{ para } \\quad |y - f(x)| \\geq \\delta\n",
    "            \\end{cases}\n",
    "\\end{equation*}\n",
    "\n",
    "<img src=\"assets/huber.png\" title=\"Title text\" />"
   ]
  },
  {
   "cell_type": "markdown",
   "metadata": {
    "slideshow": {
     "slide_type": "skip"
    }
   },
   "source": [
    "Por conveniencia, se puede reescribir la función de Huber con parámetros utilizados en este trabajo, así:\n",
    "\n",
    "\\begin{align*}\n",
    "    t &= y - f(x)\\\\\n",
    "    k &= \\delta\n",
    "\\end{align*}\n",
    "\n",
    "\n",
    "\\begin{equation*}\n",
    "    \\rho(y - f(x)) = \n",
    "            \\begin{cases}\n",
    "            \\frac{1}{2}(y - f(x))^2 &      \\text{ para } \\quad |y - f(x)| < \\delta \\\\ \n",
    "            \\delta|y - f(x)| - \\frac{1}{2}\\delta^2 &  \\text{ para } \\quad |y - f(x)| \\geq \\delta\n",
    "            \\end{cases}\n",
    "\\end{equation*}\n",
    "\n",
    "donde: \n",
    "\n",
    "\\begin{align*}\n",
    "y&: \\text{ valor real.}\\\\\n",
    "f(x)&: \\text{ predicción del modelo.}\n",
    "\\end{align*}\n",
    "\n",
    "- Sintonización parámetro $\\delta$ en Huber($\\delta$):\n",
    "\n",
    "Se puede interpretar $\\delta$ como el valor en donde el modelo comienza a considerar \"grande\" la diferencia entre el valor real y la predicción."
   ]
  },
  {
   "cell_type": "markdown",
   "metadata": {
    "slideshow": {
     "slide_type": "slide"
    }
   },
   "source": [
    "****\n",
    "\n",
    "<center><h3> 2. Descripción de los datasets </h3></center>\n",
    "\n",
    "\n"
   ]
  },
  {
   "cell_type": "markdown",
   "metadata": {
    "slideshow": {
     "slide_type": "fragment"
    }
   },
   "source": [
    "Se trabajarán con dos datasets sintéticos y dos datasets reales. \n",
    "\n",
    "* **Dataset sintético 1**: No contiene outliers.\n",
    "\n",
    "* **Dataset sintético 2**: Contiene outliers.\n",
    "\n",
    "* **Dataset real Boston housing price**: Contiene outliers moderados.\n",
    "\n",
    "* **Dataset real Challenge**: Contiene outliers extremos."
   ]
  },
  {
   "cell_type": "markdown",
   "metadata": {
    "slideshow": {
     "slide_type": "slide"
    }
   },
   "source": [
    "Todos los datasets se preprocesarán de la siguiente forma:"
   ]
  },
  {
   "cell_type": "code",
   "execution_count": 45,
   "metadata": {
    "execution": {
     "iopub.execute_input": "2021-05-28T00:46:43.933764Z",
     "iopub.status.busy": "2021-05-28T00:46:43.933522Z",
     "iopub.status.idle": "2021-05-28T00:46:43.938808Z",
     "shell.execute_reply": "2021-05-28T00:46:43.937912Z",
     "shell.execute_reply.started": "2021-05-28T00:46:43.933741Z"
    },
    "slideshow": {
     "slide_type": "fragment"
    }
   },
   "outputs": [],
   "source": [
    "from sklearn.compose import make_column_selector as selector\n",
    "\n",
    "numeric_transformer = StandardScaler()\n",
    "categorical_transformer = OneHotEncoder(handle_unknown='ignore')\n",
    "\n",
    "preprocessor = ColumnTransformer(transformers=[\n",
    "    ('num', numeric_transformer, selector(dtype_include=\"number\")),\n",
    "    ('cat', categorical_transformer, selector(dtype_include=\"category\"))\n",
    "])    "
   ]
  },
  {
   "cell_type": "code",
   "execution_count": 46,
   "metadata": {
    "execution": {
     "iopub.execute_input": "2021-05-28T00:46:45.278833Z",
     "iopub.status.busy": "2021-05-28T00:46:45.278527Z",
     "iopub.status.idle": "2021-05-28T00:46:45.283791Z",
     "shell.execute_reply": "2021-05-28T00:46:45.283122Z",
     "shell.execute_reply.started": "2021-05-28T00:46:45.278806Z"
    },
    "slideshow": {
     "slide_type": "fragment"
    }
   },
   "outputs": [],
   "source": [
    "def procesar_data(X, y):\n",
    "    x_train, x_test, y_train, y_test = [pd.DataFrame(elem) for elem in train_test_split(X, \n",
    "                                                                                        y, \n",
    "                                                                                        shuffle=True, \n",
    "                                                                                        random_state=1)]\n",
    "    \n",
    "    x_train, x_test = preprocessor.fit_transform(x_train), preprocessor.transform(x_test)\n",
    "    y_train, y_test = preprocessor.fit_transform(y_train), preprocessor.transform(y_test)\n",
    "    \n",
    "    return x_train, x_test, y_train, y_test"
   ]
  },
  {
   "cell_type": "markdown",
   "metadata": {
    "slideshow": {
     "slide_type": "slide"
    }
   },
   "source": [
    "## Datasets sintéticos\n",
    "\n",
    "La construcción de datasets sintéticos busca mostrar de forma más evidente la ventaja de utilizar -en problemas de regresión- un modelo con una loss function robusta a *outliers*, frente a una que no.\n",
    "\n",
    "En este caso, los modelos a utilizar son:\n",
    "\n",
    "* Regresión lineal utilizando **MSE** como *loss function*.\n",
    "\n",
    "* Regresión lineal utilizando la función de **Huber** como *loss function*."
   ]
  },
  {
   "cell_type": "markdown",
   "metadata": {
    "slideshow": {
     "slide_type": "skip"
    }
   },
   "source": [
    "Para la generación de los datasets, se utiliza la función ```gendata2(n_samples, n_outliers)```. En dicha función, ```n_samples``` corresponde a la cantidad de datos totales que se utilizarán, mientras ```n_outliers``` es una fracción del total de datos, correspondiente a la cantidad de outliers.\n",
    "\n",
    "A continuación, se generarán los datasets sintéticos a utilizar:\n",
    "\n",
    "* A la izquierda, el dataset sintético **sin outliers**, donde los modelos obtendrán un resultado similar.\n",
    "* A la derecha, en cambio, el dataset sintético **con outliers**, donde el modelo con una *loss function* robusta se desempeñará mejor."
   ]
  },
  {
   "cell_type": "code",
   "execution_count": 47,
   "metadata": {
    "execution": {
     "iopub.execute_input": "2021-05-28T00:46:47.128434Z",
     "iopub.status.busy": "2021-05-28T00:46:47.128126Z",
     "iopub.status.idle": "2021-05-28T00:46:47.488672Z",
     "shell.execute_reply": "2021-05-28T00:46:47.487972Z",
     "shell.execute_reply.started": "2021-05-28T00:46:47.128409Z"
    },
    "slideshow": {
     "slide_type": "skip"
    }
   },
   "outputs": [],
   "source": [
    "def gendata(n_samples=1000, n_outliers=50):\n",
    "    X = np.linspace(0, 100, n_samples)\n",
    "\n",
    "    y = np.linspace(0, 100, n_samples) + np.random.normal(0, 5, n_samples)\n",
    "    \n",
    "    arreglo_pos = np.random.randint(0, n_samples, n_outliers)\n",
    "    \n",
    "    y[arreglo_pos] = y[arreglo_pos] + (np.random.choice((-1,1),size=n_outliers)\n",
    "                                       *np.random.randint(50, 210, n_outliers))    \n",
    "    \n",
    "    return X, y\n",
    "\n",
    "# Datasets sintéticos\n",
    "X, y = gendata(400, 0)\n",
    "X_outliers, y_outliers = gendata(400, 10)\n",
    "\n",
    "# Preprocesar datasets sintéticos\n",
    "\n",
    "    #sin outliers\n",
    "x_train_sint, x_test_sint, y_train_sint, y_test_sint = procesar_data(X, y)\n",
    "\n",
    "    #con outliers\n",
    "x_train_sintout, x_test_sintout, y_train_sintout, y_test_sintout = procesar_data(X_outliers, y_outliers)"
   ]
  },
  {
   "cell_type": "code",
   "execution_count": 48,
   "metadata": {
    "execution": {
     "iopub.execute_input": "2021-05-28T00:46:47.128434Z",
     "iopub.status.busy": "2021-05-28T00:46:47.128126Z",
     "iopub.status.idle": "2021-05-28T00:46:47.488672Z",
     "shell.execute_reply": "2021-05-28T00:46:47.487972Z",
     "shell.execute_reply.started": "2021-05-28T00:46:47.128409Z"
    },
    "slideshow": {
     "slide_type": "subslide"
    }
   },
   "outputs": [
    {
     "data": {
      "image/png": "[encoded data removed]",
      "text/plain": [
       "<Figure size 1728x864 with 2 Axes>"
      ]
     },
     "metadata": {},
     "output_type": "display_data"
    },
    {
     "data": {
      "text/html": [
       "\n",
       "        <script>\n",
       "            function code_toggle_4862395020464382353() {\n",
       "                $('div.cell.code_cell.rendered.selected').find('div.input').toggle();\n",
       "            }\n",
       "\n",
       "            \n",
       "        </script>\n",
       "\n",
       "        <a href=\"javascript:code_toggle_4862395020464382353()\">Toggle show/hide</a>\n",
       "    "
      ],
      "text/plain": [
       "<IPython.core.display.HTML object>"
      ]
     },
     "execution_count": 48,
     "metadata": {},
     "output_type": "execute_result"
    }
   ],
   "source": [
    "#PLOTEANDO\n",
    "fig, ax = plt.subplots(1, 2, figsize=(24,12))\n",
    "\n",
    "ax[0].scatter(np.concatenate((x_train_sint, \n",
    "                              x_test_sint)), \n",
    "              np.concatenate((y_train_sint,\n",
    "                              y_test_sint)))\n",
    "ax[0].set_title('data sin outliers')\n",
    "\n",
    "\n",
    "ax[1].scatter(np.concatenate((x_train_sintout, \n",
    "                              x_test_sintout)), \n",
    "              np.concatenate((y_train_sintout,\n",
    "                              y_test_sintout)))\n",
    "ax[1].set_title('data con outliers')\n",
    "   \n",
    "plt.show()"
   ]
  },
  {
   "cell_type": "markdown",
   "metadata": {
    "slideshow": {
     "slide_type": "skip"
    }
   },
   "source": [
    "Al comparar ambos gráficos, es notoria la presencia de outliers en el que está ubicado a la derecha. Dicha \"exageración\" en los datos que son atípicos, evidenciará de mejor manera el desempeño de ambos métodos.\n",
    "\n",
    "\n",
    "A continuación, se utilizará la herramienta para diagramas de caja ```pyplot.boxplot()```, para interpretar la distribución de los datos a través de sus cuartiles, además de poder representar los valores atípicos."
   ]
  },
  {
   "cell_type": "code",
   "execution_count": 49,
   "metadata": {
    "execution": {
     "iopub.execute_input": "2021-05-28T00:46:56.159438Z",
     "iopub.status.busy": "2021-05-28T00:46:56.159075Z",
     "iopub.status.idle": "2021-05-28T00:46:56.682988Z",
     "shell.execute_reply": "2021-05-28T00:46:56.682086Z",
     "shell.execute_reply.started": "2021-05-28T00:46:56.159408Z"
    },
    "slideshow": {
     "slide_type": "subslide"
    }
   },
   "outputs": [
    {
     "data": {
      "image/png": "[encoded data removed]",
      "text/plain": [
       "<Figure size 1440x1008 with 4 Axes>"
      ]
     },
     "metadata": {},
     "output_type": "display_data"
    },
    {
     "data": {
      "text/html": [
       "\n",
       "        <script>\n",
       "            function code_toggle_18096382054723549752() {\n",
       "                $('div.cell.code_cell.rendered.selected').find('div.input').toggle();\n",
       "            }\n",
       "\n",
       "            \n",
       "        </script>\n",
       "\n",
       "        <a href=\"javascript:code_toggle_18096382054723549752()\">Toggle show/hide</a>\n",
       "    "
      ],
      "text/plain": [
       "<IPython.core.display.HTML object>"
      ]
     },
     "execution_count": 49,
     "metadata": {},
     "output_type": "execute_result"
    }
   ],
   "source": [
    "fig, ax = plt.subplots(2, 2, figsize=(20,14))\n",
    "\n",
    "ax[0, 0].boxplot(np.concatenate((y_train_sint, y_test_sint)))\n",
    "ax[0, 0].set_title('y values: sin outliers')\n",
    "ax[0, 1].boxplot(np.concatenate((x_train_sint, x_test_sint)), vert=False)\n",
    "ax[0, 1].set_title('X values')\n",
    "\n",
    "fig.tight_layout(pad=2.0)#just to separate\n",
    "\n",
    "ax[1, 0].boxplot(np.concatenate((y_train_sintout, y_test_sintout)))\n",
    "ax[1, 0].set_title('y values: con outliers')\n",
    "ax[1, 1].boxplot(np.concatenate((x_train_sintout, x_test_sintout)), vert=False)\n",
    "ax[1, 1].set_title('X values')\n",
    "\n",
    "plt.show()"
   ]
  },
  {
   "cell_type": "markdown",
   "metadata": {
    "slideshow": {
     "slide_type": "skip"
    }
   },
   "source": [
    "Lo anterior, permite vislumbrar que los valores atípicos del segundo dataset están, en efecto, significativamente distantes con respecto al resto de datos. Por contraparte, con esta herramienta, el primer dataset tampoco presenta valores atípicos.\n",
    "\n",
    "Finalmente, cabe destacar la organización de los valores de *X*, que a simple vista se muestran distribuidos uniformemente."
   ]
  },
  {
   "cell_type": "markdown",
   "metadata": {
    "slideshow": {
     "slide_type": "slide"
    }
   },
   "source": [
    "# Datasets reales\n",
    "\n",
    "Los datasets reales a utilizar corresponden a:\n",
    "\n",
    "* ```boston_housing```: importado desde ```tensorflow.keras.datasets```, dataset que tiene outliers moderados.\n",
    "* **metadata_casas_train.csv**: utilizado en la segunda parte de la Tarea, dataset con valores atípicos en la columna **'precio'**, con outliers extremos."
   ]
  },
  {
   "cell_type": "markdown",
   "metadata": {
    "slideshow": {
     "slide_type": "fragment"
    }
   },
   "source": [
    "En el caso del dataset Boston, se utilizará una una red neuronal de 3 capas densas (2 ocultas + 1 de salida).\n",
    "\n",
    "Para el dataset del Challenge, se utilizará una red neuronal con 2 capas densas(1 oculta + 1 de salida).\n",
    "\n",
    "Funciones de pérdida a utilizar:\n",
    "* MSE loss function.\n",
    "* Huber loss function."
   ]
  },
  {
   "cell_type": "markdown",
   "metadata": {
    "slideshow": {
     "slide_type": "skip"
    }
   },
   "source": [
    "Lo anterior, pretende buscar si es que la naturaleza de los valores atípicos genera algún cambio a la hora de resolver un problema con determinadas *loss functions*."
   ]
  },
  {
   "cell_type": "code",
   "execution_count": 50,
   "metadata": {
    "execution": {
     "iopub.execute_input": "2021-05-28T00:46:59.529529Z",
     "iopub.status.busy": "2021-05-28T00:46:59.529048Z",
     "iopub.status.idle": "2021-05-28T00:46:59.593696Z",
     "shell.execute_reply": "2021-05-28T00:46:59.593056Z",
     "shell.execute_reply.started": "2021-05-28T00:46:59.529502Z"
    },
    "slideshow": {
     "slide_type": "skip"
    }
   },
   "outputs": [],
   "source": [
    "from tensorflow.keras.datasets import boston_housing\n",
    "\n",
    "#BOSTON\n",
    "(x_train, y_boston), (x_test, y_test) = boston_housing.load_data()\n",
    "\n",
    "X = np.concatenate((x_train, x_test))\n",
    "y = np.concatenate((y_boston, y_test))\n",
    "\n",
    "X_train_boston, X_test_boston, y_train_boston, y_test_boston = procesar_data(X, y)\n",
    "\n",
    "#CASAS CHALLENGE\n",
    "df_train = pd.read_csv(path+'metadata_casas_train.csv',index_col=0)\n",
    "\n",
    "df_houses = pd.read_csv(path+'metadata_casas_train.csv',index_col=0)\n",
    "df_houses.zipcode = df_houses.zipcode.astype('category')\n",
    "y_houses = pd.DataFrame(np.array(df_houses.pop('precio')).reshape(-1,1))\n",
    "\n",
    "\n",
    "X_train_challenge, X_test_challenge, y_train_challenge, y_test_challenge = procesar_data(df_houses, y_houses)\n"
   ]
  },
  {
   "cell_type": "code",
   "execution_count": 51,
   "metadata": {
    "execution": {
     "iopub.execute_input": "2021-05-28T00:47:01.906079Z",
     "iopub.status.busy": "2021-05-28T00:47:01.905638Z",
     "iopub.status.idle": "2021-05-28T00:47:02.092934Z",
     "shell.execute_reply": "2021-05-28T00:47:02.092317Z",
     "shell.execute_reply.started": "2021-05-28T00:47:01.906051Z"
    },
    "slideshow": {
     "slide_type": "slide"
    }
   },
   "outputs": [
    {
     "data": {
      "image/png": "[encoded data removed]",
      "text/plain": [
       "<Figure size 1728x864 with 2 Axes>"
      ]
     },
     "metadata": {},
     "output_type": "display_data"
    },
    {
     "data": {
      "text/html": [
       "\n",
       "        <script>\n",
       "            function code_toggle_10424817082399391672() {\n",
       "                $('div.cell.code_cell.rendered.selected').find('div.input').toggle();\n",
       "            }\n",
       "\n",
       "            \n",
       "        </script>\n",
       "\n",
       "        <a href=\"javascript:code_toggle_10424817082399391672()\">Toggle show/hide</a>\n",
       "    "
      ],
      "text/plain": [
       "<IPython.core.display.HTML object>"
      ]
     },
     "execution_count": 51,
     "metadata": {},
     "output_type": "execute_result"
    }
   ],
   "source": [
    "fig, ax = plt.subplots(1, 2, figsize=(24,12))\n",
    "\n",
    "ax[0].boxplot(np.concatenate((y_train_boston, y_test_boston)))\n",
    "ax[0].set_title('y boston: outliers moderados')\n",
    "\n",
    "ax[1].boxplot(np.concatenate((y_train_challenge, y_test_challenge)))\n",
    "ax[1].set_title('y values: outliers extremos')\n",
    "\n",
    "plt.show()\n"
   ]
  },
  {
   "cell_type": "markdown",
   "metadata": {
    "slideshow": {
     "slide_type": "slide"
    }
   },
   "source": [
    "****\n",
    "<center><h3> 3. Evaluación de los modelos </h3></center>\n",
    "\n",
    "Para evaluar los modelos se escogieron las métricas MAE y MSE.\n",
    "\n",
    "¿Es válido evaluar los modelos utilizando estas métricas?\n",
    "\n",
    "\n",
    "Se presentará un pequeño experimento para demostrar que las métricas son, en efecto, válidas y que la función de pérdida con que se entrena el modelo **no asegura un mejor desempeño cuando coincide con alguna de las métricas**.\n"
   ]
  },
  {
   "cell_type": "code",
   "execution_count": 52,
   "metadata": {
    "execution": {
     "iopub.execute_input": "2021-05-28T00:47:43.418206Z",
     "iopub.status.busy": "2021-05-28T00:47:43.417901Z",
     "iopub.status.idle": "2021-05-28T00:47:43.615679Z",
     "shell.execute_reply": "2021-05-28T00:47:43.614747Z",
     "shell.execute_reply.started": "2021-05-28T00:47:43.418178Z"
    },
    "slideshow": {
     "slide_type": "fragment"
    }
   },
   "outputs": [],
   "source": [
    "def pequeño_experimento(n_samples=1000, n_outliers=50):\n",
    "    X = np.linspace(0, 100, n_samples)\n",
    "    y = np.linspace(0, 100, n_samples) + np.random.normal(0, 5, n_samples)\n",
    "    \n",
    "    np.random.seed(5)\n",
    "    arreglo_pos = np.random.randint(0, n_samples, n_outliers)\n",
    "    \n",
    "    y[arreglo_pos] = y[arreglo_pos] + np.random.randint(50, 210, n_outliers)  \n",
    "    return X, y"
   ]
  },
  {
   "cell_type": "code",
   "execution_count": 53,
   "metadata": {
    "execution": {
     "iopub.execute_input": "2021-05-28T00:47:43.418206Z",
     "iopub.status.busy": "2021-05-28T00:47:43.417901Z",
     "iopub.status.idle": "2021-05-28T00:47:43.615679Z",
     "shell.execute_reply": "2021-05-28T00:47:43.614747Z",
     "shell.execute_reply.started": "2021-05-28T00:47:43.418178Z"
    },
    "slideshow": {
     "slide_type": "subslide"
    }
   },
   "outputs": [
    {
     "data": {
      "image/png": "[encoded data removed]",
      "text/plain": [
       "<Figure size 1728x864 with 1 Axes>"
      ]
     },
     "metadata": {},
     "output_type": "display_data"
    },
    {
     "data": {
      "text/html": [
       "\n",
       "        <script>\n",
       "            function code_toggle_13233863792921402532() {\n",
       "                $('div.cell.code_cell.rendered.selected').find('div.input').toggle();\n",
       "            }\n",
       "\n",
       "            \n",
       "        </script>\n",
       "\n",
       "        <a href=\"javascript:code_toggle_13233863792921402532()\">Toggle show/hide</a>\n",
       "    "
      ],
      "text/plain": [
       "<IPython.core.display.HTML object>"
      ]
     },
     "execution_count": 53,
     "metadata": {},
     "output_type": "execute_result"
    }
   ],
   "source": [
    "X_p, y_p = pequeño_experimento(400, 10)\n",
    "x_train_sint_p, x_test_sint_p, y_train_sint_p, y_test_sint_p = procesar_data(X_p, y_p)\n",
    "\n",
    "#PLOTEANDO\n",
    "fig = plt.figure(figsize=(24,12))\n",
    "\n",
    "plt.scatter(np.concatenate((x_train_sint_p, \n",
    "                            x_test_sint_p)), \n",
    "            np.concatenate((y_train_sint_p,\n",
    "                            y_test_sint_p)))\n",
    "\n",
    "plt.scatter(x_train_sint_p, \n",
    "            y_train_sint_p)\n",
    "plt.title('data')\n",
    "plt.show()"
   ]
  },
  {
   "cell_type": "code",
   "execution_count": 54,
   "metadata": {
    "execution": {
     "iopub.execute_input": "2021-05-28T00:47:46.961556Z",
     "iopub.status.busy": "2021-05-28T00:47:46.961251Z",
     "iopub.status.idle": "2021-05-28T00:47:48.319204Z",
     "shell.execute_reply": "2021-05-28T00:47:48.318228Z",
     "shell.execute_reply.started": "2021-05-28T00:47:46.961531Z"
    },
    "slideshow": {
     "slide_type": "subslide"
    }
   },
   "outputs": [],
   "source": [
    "def linearmodels(n_features, loss):\n",
    "    inputs = keras.Input(shape=(n_features, ), name='input_data')\n",
    "    outputs = layers.Dense(1, name='output')(inputs)\n",
    "    model = keras.Model(inputs=inputs, outputs = outputs, name='modelo')\n",
    "    model.compile(loss = loss, \n",
    "                  optimizer=optimizers.Adam(lr=0.01), \n",
    "                  metrics=['mean_absolute_error','mean_squared_error'],\n",
    "                 )\n",
    "    return model"
   ]
  },
  {
   "cell_type": "code",
   "execution_count": 55,
   "metadata": {
    "execution": {
     "iopub.execute_input": "2021-05-28T00:47:46.961556Z",
     "iopub.status.busy": "2021-05-28T00:47:46.961251Z",
     "iopub.status.idle": "2021-05-28T00:47:48.319204Z",
     "shell.execute_reply": "2021-05-28T00:47:48.318228Z",
     "shell.execute_reply.started": "2021-05-28T00:47:46.961531Z"
    },
    "slideshow": {
     "slide_type": "fragment"
    }
   },
   "outputs": [],
   "source": [
    "modelo_huber = linearmodels(x_train_sint_p.shape[1],mae_loss)\n",
    "modelo_mse = linearmodels(x_train_sint_p.shape[1],mse_loss)"
   ]
  },
  {
   "cell_type": "code",
   "execution_count": 56,
   "metadata": {
    "execution": {
     "iopub.execute_input": "2021-05-28T00:47:46.961556Z",
     "iopub.status.busy": "2021-05-28T00:47:46.961251Z",
     "iopub.status.idle": "2021-05-28T00:47:48.319204Z",
     "shell.execute_reply": "2021-05-28T00:47:48.318228Z",
     "shell.execute_reply.started": "2021-05-28T00:47:46.961531Z"
    },
    "slideshow": {
     "slide_type": "fragment"
    }
   },
   "outputs": [
    {
     "name": "stdout",
     "output_type": "stream",
     "text": [
      "MSE con loss MAE:  0.041196428311516174\n",
      "MSE con loss MSE:  0.04725872877278875\n",
      "\n",
      "MAE con loss MAE:  0.11049072496476306\n",
      "MAE con loss MSE:  0.13411814509041042\n"
     ]
    },
    {
     "data": {
      "text/html": [
       "\n",
       "        <script>\n",
       "            function code_toggle_10608284969334947729() {\n",
       "                $('div.cell.code_cell.rendered.selected').find('div.input').toggle();\n",
       "            }\n",
       "\n",
       "            \n",
       "        </script>\n",
       "\n",
       "        <a href=\"javascript:code_toggle_10608284969334947729()\">Toggle show/hide</a>\n",
       "    "
      ],
      "text/plain": [
       "<IPython.core.display.HTML object>"
      ]
     },
     "execution_count": 56,
     "metadata": {},
     "output_type": "execute_result"
    }
   ],
   "source": [
    "history = modelo_huber.fit(x_train_sint_p,y_train_sint_p,epochs=50,\n",
    "                           verbose=0,)\n",
    "history2 = modelo_mse.fit(x_train_sint_p,y_train_sint_p,epochs=50,\n",
    "                          verbose=0,)\n",
    "\n",
    "preds_huber = modelo_huber.predict(x_test_sint_p)\n",
    "preds_mse = modelo_mse.predict(x_test_sint_p)\n",
    "\n",
    "print('MSE con loss MAE: ', mse(preds_huber,y_test_sint_p))\n",
    "print('MSE con loss MSE: ', mse(preds_mse,y_test_sint_p))\n",
    "\n",
    "print('\\nMAE con loss MAE: ', mae(preds_huber,y_test_sint_p))\n",
    "print('MAE con loss MSE: ', mae(preds_mse,y_test_sint_p))\n",
    "\n",
    "hide_toggle()"
   ]
  },
  {
   "cell_type": "markdown",
   "metadata": {
    "slideshow": {
     "slide_type": "slide"
    }
   },
   "source": [
    "****\n",
    "<center><h3> 4. Experimentos </h3></center>"
   ]
  },
  {
   "cell_type": "markdown",
   "metadata": {
    "slideshow": {
     "slide_type": "fragment"
    }
   },
   "source": [
    "#### Pipeline del Experimento"
   ]
  },
  {
   "cell_type": "code",
   "execution_count": 57,
   "metadata": {
    "execution": {
     "iopub.execute_input": "2021-05-28T00:47:56.007957Z",
     "iopub.status.busy": "2021-05-28T00:47:56.007619Z",
     "iopub.status.idle": "2021-05-28T00:47:56.017284Z",
     "shell.execute_reply": "2021-05-28T00:47:56.016067Z",
     "shell.execute_reply.started": "2021-05-28T00:47:56.007926Z"
    },
    "slideshow": {
     "slide_type": "fragment"
    }
   },
   "outputs": [],
   "source": [
    "def one_iteration(loss, model_func, verbose, *data_args):\n",
    "    \n",
    "    x_train,y_train,x_test,y_test = data_args\n",
    "    \n",
    "    n_features = x_train.shape[1]\n",
    "    model = model_func(n_features, loss)\n",
    "    history = model.fit(\n",
    "        x = x_train,\n",
    "        y = y_train,\n",
    "        batch_size=32,\n",
    "        epochs=100,\n",
    "        verbose=0,\n",
    "    )\n",
    "    test_results = model.evaluate(x_test, y_test, verbose=0)\n",
    "    if not(verbose):\n",
    "        return test_results[1], test_results[2]\n",
    "    "
   ]
  },
  {
   "cell_type": "markdown",
   "metadata": {
    "slideshow": {
     "slide_type": "subslide"
    }
   },
   "source": [
    "#### Pipeline del Experimento"
   ]
  },
  {
   "cell_type": "code",
   "execution_count": 58,
   "metadata": {
    "execution": {
     "iopub.execute_input": "2021-05-28T00:47:56.007957Z",
     "iopub.status.busy": "2021-05-28T00:47:56.007619Z",
     "iopub.status.idle": "2021-05-28T00:47:56.017284Z",
     "shell.execute_reply": "2021-05-28T00:47:56.016067Z",
     "shell.execute_reply.started": "2021-05-28T00:47:56.007926Z"
    },
    "slideshow": {
     "slide_type": "fragment"
    }
   },
   "outputs": [],
   "source": [
    "def experiment(loss, model_func, plot, *data_args):\n",
    "    x_train,y_train,x_test,y_test = data_args\n",
    "    maes = np.array([one_iteration(loss, model_func, False, x_train, y_train, x_test, y_test) for i in range(100)])\n",
    "    if plot:\n",
    "        fig = plt.figure(figsize=(20, 5))\n",
    "        ax1 = fig.add_subplot(121)\n",
    "        ax2 = fig.add_subplot(122)\n",
    "        ax1.set_title('MAE')\n",
    "        ax2.set_title('MSE')\n",
    "        ax1.hist(maes[:,0])\n",
    "        ax2.hist(maes[:,1])\n",
    "        plt.show()\n",
    "    return maes"
   ]
  },
  {
   "cell_type": "markdown",
   "metadata": {
    "slideshow": {
     "slide_type": "slide"
    }
   },
   "source": [
    "#### Sintetic Dataset"
   ]
  },
  {
   "cell_type": "code",
   "execution_count": 59,
   "metadata": {
    "execution": {
     "iopub.execute_input": "2021-05-28T00:47:58.697378Z",
     "iopub.status.busy": "2021-05-28T00:47:58.696912Z",
     "iopub.status.idle": "2021-05-28T00:47:58.701506Z",
     "shell.execute_reply": "2021-05-28T00:47:58.700830Z",
     "shell.execute_reply.started": "2021-05-28T00:47:58.697350Z"
    },
    "slideshow": {
     "slide_type": "fragment"
    }
   },
   "outputs": [],
   "source": [
    "def linearmodels(n_features, loss):\n",
    "    inputs = keras.Input(shape=(n_features, ), name='input data')\n",
    "    outputs = layers.Dense(1, name='output')(inputs)\n",
    "    model = keras.Model(inputs=inputs, outputs = outputs, name='modelo')\n",
    "    model.compile(loss = loss, \n",
    "                  optimizer=optimizers.Adam(lr=0.01), \n",
    "                  metrics=['mean_absolute_error','mean_squared_error'],\n",
    "                 )\n",
    "    return model"
   ]
  },
  {
   "cell_type": "markdown",
   "metadata": {
    "slideshow": {
     "slide_type": "slide"
    }
   },
   "source": [
    "> #### Sin outliers"
   ]
  },
  {
   "cell_type": "code",
   "execution_count": 60,
   "metadata": {
    "slideshow": {
     "slide_type": "subslide"
    }
   },
   "outputs": [
    {
     "data": {
      "image/png": "[encoded data removed]",
      "text/plain": [
       "<Figure size 1440x360 with 2 Axes>"
      ]
     },
     "metadata": {},
     "output_type": "display_data"
    },
    {
     "data": {
      "image/png": "[encoded data removed]",
      "text/plain": [
       "<Figure size 1440x360 with 2 Axes>"
      ]
     },
     "metadata": {},
     "output_type": "display_data"
    },
    {
     "data": {
      "text/html": [
       "\n",
       "        <script>\n",
       "            function code_toggle_9148798315693776719() {\n",
       "                $('div.cell.code_cell.rendered.selected').find('div.input').toggle();\n",
       "            }\n",
       "\n",
       "            \n",
       "        </script>\n",
       "\n",
       "        <a href=\"javascript:code_toggle_9148798315693776719()\">Toggle show/hide</a>\n",
       "    "
      ],
      "text/plain": [
       "<IPython.core.display.HTML object>"
      ]
     },
     "execution_count": 60,
     "metadata": {},
     "output_type": "execute_result"
    }
   ],
   "source": [
    "sintetic_huber = experiment(Huber(1),\n",
    "                            linearmodels,\n",
    "                            True,\n",
    "                            x_train_sint,\n",
    "                            y_train_sint,\n",
    "                            x_test_sint,\n",
    "                            y_test_sint\n",
    "                           )\n",
    "sintetic_mse = experiment(mse_loss,\n",
    "                          linearmodels,\n",
    "                          True,\n",
    "                          x_train_sint,\n",
    "                          y_train_sint,\n",
    "                          x_test_sint,\n",
    "                          y_test_sint\n",
    "                         )\n"
   ]
  },
  {
   "cell_type": "code",
   "execution_count": 61,
   "metadata": {
    "slideshow": {
     "slide_type": "fragment"
    }
   },
   "outputs": [
    {
     "name": "stdout",
     "output_type": "stream",
     "text": [
      "Resultado para MAE:  Ttest_indResult(statistic=-0.8737023794784703, pvalue=0.8083306087635856)\n",
      "Resultado para MSE:  Ttest_indResult(statistic=-1.1105159126041166, pvalue=0.8659382187911061)\n"
     ]
    }
   ],
   "source": [
    "# H0: mean_mse <= mean_huber\n",
    "# H1: mean_mse > mean_huber \n",
    "print(\"Resultado para MAE: \", stats.ttest_ind(sintetic_mse[:, 0], sintetic_huber[:, 0], alternative='greater'))\n",
    "print(\"Resultado para MSE: \", stats.ttest_ind(sintetic_mse[:, 1], sintetic_huber[:, 1], alternative='greater'))"
   ]
  },
  {
   "cell_type": "markdown",
   "metadata": {
    "slideshow": {
     "slide_type": "slide"
    }
   },
   "source": [
    "> #### Con outliers"
   ]
  },
  {
   "cell_type": "code",
   "execution_count": 62,
   "metadata": {
    "slideshow": {
     "slide_type": "subslide"
    }
   },
   "outputs": [
    {
     "data": {
      "image/png": "[encoded data removed]",
      "text/plain": [
       "<Figure size 1440x360 with 2 Axes>"
      ]
     },
     "metadata": {},
     "output_type": "display_data"
    },
    {
     "data": {
      "image/png": "[encoded data removed]",
      "text/plain": [
       "<Figure size 1440x360 with 2 Axes>"
      ]
     },
     "metadata": {},
     "output_type": "display_data"
    },
    {
     "data": {
      "text/html": [
       "\n",
       "        <script>\n",
       "            function code_toggle_6226741289753647717() {\n",
       "                $('div.cell.code_cell.rendered.selected').find('div.input').toggle();\n",
       "            }\n",
       "\n",
       "            \n",
       "        </script>\n",
       "\n",
       "        <a href=\"javascript:code_toggle_6226741289753647717()\">Toggle show/hide</a>\n",
       "    "
      ],
      "text/plain": [
       "<IPython.core.display.HTML object>"
      ]
     },
     "execution_count": 62,
     "metadata": {},
     "output_type": "execute_result"
    }
   ],
   "source": [
    "sintetic_outliers_huber = experiment(Huber(1), linearmodels, True,\n",
    "                                     x_train_sintout, y_train_sintout,\n",
    "                                     x_test_sintout, y_test_sintout)\n",
    "\n",
    "sintetic_outliers_mse = experiment(mse_loss, linearmodels, True,\n",
    "                                   x_train_sintout, y_train_sintout,\n",
    "                                   x_test_sintout, y_test_sintout)\n"
   ]
  },
  {
   "cell_type": "code",
   "execution_count": 63,
   "metadata": {
    "slideshow": {
     "slide_type": "fragment"
    }
   },
   "outputs": [
    {
     "name": "stdout",
     "output_type": "stream",
     "text": [
      "Resultados MAE:  Ttest_indResult(statistic=17.488092543084342, pvalue=2.5262852393005206e-42)\n",
      "Resultados MSE:  Ttest_indResult(statistic=22.99484427063339, pvalue=4.095052397409369e-58)\n"
     ]
    }
   ],
   "source": [
    "print(\"Resultados MAE: \", stats.ttest_ind(sintetic_outliers_mse[:, 0], sintetic_outliers_huber[:, 0], alternative='greater'))\n",
    "print(\"Resultados MSE: \", stats.ttest_ind(sintetic_outliers_mse[:, 1], sintetic_outliers_huber[:, 1], alternative='greater'))"
   ]
  },
  {
   "cell_type": "markdown",
   "metadata": {
    "slideshow": {
     "slide_type": "slide"
    }
   },
   "source": [
    "#### Boston Housing Dataset"
   ]
  },
  {
   "cell_type": "code",
   "execution_count": 64,
   "metadata": {
    "slideshow": {
     "slide_type": "fragment"
    }
   },
   "outputs": [],
   "source": [
    "def boston_model(n_features,loss):\n",
    "    inputs = keras.Input(shape=(n_features, ), name='input_boston')\n",
    "    x = layers.Dense(16, activation='relu')(inputs)\n",
    "    x = layers.Dense(8, activation='relu')(x)\n",
    "    outputs = layers.Dense(1, name='Output')(x)\n",
    "    model = keras.Model(inputs=inputs, outputs=outputs, name='Modelo_boston')\n",
    "    model.compile(loss=loss,optimizer='adam',metrics=['mean_absolute_error','mean_squared_error'])\n",
    "    return model"
   ]
  },
  {
   "cell_type": "markdown",
   "metadata": {
    "slideshow": {
     "slide_type": "subslide"
    }
   },
   "source": [
    "#### Boston Housing Dataset"
   ]
  },
  {
   "cell_type": "code",
   "execution_count": 65,
   "metadata": {
    "slideshow": {
     "slide_type": "subslide"
    }
   },
   "outputs": [
    {
     "data": {
      "image/png": "[encoded data removed]",
      "text/plain": [
       "<Figure size 1440x360 with 2 Axes>"
      ]
     },
     "metadata": {},
     "output_type": "display_data"
    },
    {
     "data": {
      "image/png": "[encoded data removed]",
      "text/plain": [
       "<Figure size 1440x360 with 2 Axes>"
      ]
     },
     "metadata": {},
     "output_type": "display_data"
    },
    {
     "data": {
      "text/html": [
       "\n",
       "        <script>\n",
       "            function code_toggle_9229614028360367767() {\n",
       "                $('div.cell.code_cell.rendered.selected').find('div.input').toggle();\n",
       "            }\n",
       "\n",
       "            \n",
       "        </script>\n",
       "\n",
       "        <a href=\"javascript:code_toggle_9229614028360367767()\">Toggle show/hide</a>\n",
       "    "
      ],
      "text/plain": [
       "<IPython.core.display.HTML object>"
      ]
     },
     "execution_count": 65,
     "metadata": {},
     "output_type": "execute_result"
    }
   ],
   "source": [
    "boston_huber = experiment(Huber(0.1), boston_model, True,\n",
    "                          X_train_boston, y_train_boston,\n",
    "                          X_test_boston, y_test_boston)\n",
    "boston_mse = experiment(mse_loss, boston_model, True,\n",
    "                        X_train_boston, y_train_boston,\n",
    "                        X_test_boston, y_test_boston)\n"
   ]
  },
  {
   "cell_type": "code",
   "execution_count": 66,
   "metadata": {
    "slideshow": {
     "slide_type": "fragment"
    }
   },
   "outputs": [
    {
     "name": "stdout",
     "output_type": "stream",
     "text": [
      "Resultados MAE:  Ttest_indResult(statistic=3.944972662648769, pvalue=5.5377310138874965e-05)\n",
      "Resultados MSE:  Ttest_indResult(statistic=1.7419278573077739, pvalue=0.041536981277773985)\n"
     ]
    }
   ],
   "source": [
    "print(\"Resultados MAE: \", stats.ttest_ind(boston_mse[:, 0], boston_huber[:, 0], alternative='greater'))\n",
    "print(\"Resultados MSE: \", stats.ttest_ind(boston_mse[:, 1], boston_huber[:, 1], alternative='greater'))"
   ]
  },
  {
   "cell_type": "markdown",
   "metadata": {
    "slideshow": {
     "slide_type": "slide"
    }
   },
   "source": [
    "#### Challenge Dataset"
   ]
  },
  {
   "cell_type": "code",
   "execution_count": 67,
   "metadata": {
    "execution": {
     "iopub.execute_input": "2021-05-27T23:44:13.375795Z",
     "iopub.status.busy": "2021-05-27T23:44:13.375425Z",
     "iopub.status.idle": "2021-05-27T23:44:13.383172Z",
     "shell.execute_reply": "2021-05-27T23:44:13.381765Z",
     "shell.execute_reply.started": "2021-05-27T23:44:13.375763Z"
    },
    "slideshow": {
     "slide_type": "fragment"
    }
   },
   "outputs": [],
   "source": [
    "def challenge_model(n_features,loss):\n",
    "    inputs = keras.Input(shape=(n_features, ), name='input_challenge')\n",
    "    x = layers.Dense(4, activation='relu')(inputs)\n",
    "    outputs = layers.Dense(1, name='Output')(x)\n",
    "    model = keras.Model(inputs=inputs, outputs=outputs, name='Modelo_challenge')\n",
    "    model.compile(loss=loss,optimizer='adam',metrics=['mean_absolute_error','mean_squared_error'])\n",
    "    return model"
   ]
  },
  {
   "cell_type": "markdown",
   "metadata": {
    "slideshow": {
     "slide_type": "subslide"
    }
   },
   "source": [
    "#### Challenge Dataset"
   ]
  },
  {
   "cell_type": "code",
   "execution_count": 68,
   "metadata": {
    "slideshow": {
     "slide_type": "subslide"
    }
   },
   "outputs": [
    {
     "data": {
      "image/png": "[encoded data removed]",
      "text/plain": [
       "<Figure size 1440x360 with 2 Axes>"
      ]
     },
     "metadata": {},
     "output_type": "display_data"
    },
    {
     "data": {
      "image/png": "[encoded data removed]",
      "text/plain": [
       "<Figure size 1440x360 with 2 Axes>"
      ]
     },
     "metadata": {},
     "output_type": "display_data"
    },
    {
     "data": {
      "text/html": [
       "\n",
       "        <script>\n",
       "            function code_toggle_7572611249403607300() {\n",
       "                $('div.cell.code_cell.rendered.selected').find('div.input').toggle();\n",
       "            }\n",
       "\n",
       "            \n",
       "        </script>\n",
       "\n",
       "        <a href=\"javascript:code_toggle_7572611249403607300()\">Toggle show/hide</a>\n",
       "    "
      ],
      "text/plain": [
       "<IPython.core.display.HTML object>"
      ]
     },
     "execution_count": 68,
     "metadata": {},
     "output_type": "execute_result"
    }
   ],
   "source": [
    "challenge_huber = experiment(Huber(0.1), challenge_model, True,\n",
    "                             X_train_challenge, y_train_challenge,\n",
    "                             X_test_challenge, y_test_challenge)\n",
    "\n",
    "challenge_mse = experiment(mse_loss, challenge_model, True,\n",
    "                             X_train_challenge, y_train_challenge,\n",
    "                             X_test_challenge, y_test_challenge)\n"
   ]
  },
  {
   "cell_type": "code",
   "execution_count": 99,
   "metadata": {
    "slideshow": {
     "slide_type": "fragment"
    }
   },
   "outputs": [
    {
     "name": "stdout",
     "output_type": "stream",
     "text": [
      "Resultados MAE:  Ttest_indResult(statistic=14.16762999543144, pvalue=3.180405821688636e-32)\n",
      "Resultados MSE:  Ttest_indResult(statistic=-4.246195086577404, pvalue=0.9999832903073754)\n"
     ]
    }
   ],
   "source": [
    "print(\"Resultados MAE: \", stats.ttest_ind(challenge_mse[:, 0], challenge_huber[:, 0], alternative='greater'))\n",
    "print(\"Resultados MSE: \", stats.ttest_ind(challenge_mse[:, 1], challenge_huber[:, 1], alternative='greater'))"
   ]
  },
  {
   "cell_type": "markdown",
   "metadata": {
    "slideshow": {
     "slide_type": "slide"
    }
   },
   "source": [
    "***\n",
    "<center><h3>5. Extensión a otras <i>loss functions</i> robustas </h3></center>"
   ]
  },
  {
   "cell_type": "markdown",
   "metadata": {
    "slideshow": {
     "slide_type": "fragment"
    }
   },
   "source": [
    "#### LogCosh Loss\n",
    "\n",
    "\\begin{equation}\n",
    "L(y, y^p) = \\sum_{i=1}^n log(cosh(y_{i}^p - y_i))\n",
    "\\end{equation}\n",
    "\n",
    "<img src=\"assets/logcosh.png\" title=\"Title text\" />"
   ]
  },
  {
   "cell_type": "markdown",
   "metadata": {
    "slideshow": {
     "slide_type": "subslide"
    }
   },
   "source": [
    "#### Challenge Dataset"
   ]
  },
  {
   "cell_type": "code",
   "execution_count": 70,
   "metadata": {
    "slideshow": {
     "slide_type": "subslide"
    }
   },
   "outputs": [
    {
     "data": {
      "image/png": "[encoded data removed]",
      "text/plain": [
       "<Figure size 1440x360 with 2 Axes>"
      ]
     },
     "metadata": {},
     "output_type": "display_data"
    },
    {
     "data": {
      "image/png": "[encoded data removed]",
      "text/plain": [
       "<Figure size 1440x360 with 2 Axes>"
      ]
     },
     "metadata": {},
     "output_type": "display_data"
    },
    {
     "data": {
      "text/html": [
       "\n",
       "        <script>\n",
       "            function code_toggle_9699650783380510939() {\n",
       "                $('div.cell.code_cell.rendered.selected').find('div.input').toggle();\n",
       "            }\n",
       "\n",
       "            \n",
       "        </script>\n",
       "\n",
       "        <a href=\"javascript:code_toggle_9699650783380510939()\">Toggle show/hide</a>\n",
       "    "
      ],
      "text/plain": [
       "<IPython.core.display.HTML object>"
      ]
     },
     "execution_count": 70,
     "metadata": {},
     "output_type": "execute_result"
    }
   ],
   "source": [
    "challenge_logcosh = experiment(LogCosh(), challenge_model, True,\n",
    "                             X_train_challenge, y_train_challenge,\n",
    "                             X_test_challenge, y_test_challenge)\n",
    "\n",
    "challenge_mse = experiment(mse_loss, challenge_model, True,\n",
    "                             X_train_challenge, y_train_challenge,\n",
    "                             X_test_challenge, y_test_challenge)\n"
   ]
  },
  {
   "cell_type": "code",
   "execution_count": 71,
   "metadata": {
    "execution": {
     "iopub.execute_input": "2021-05-27T23:54:52.410492Z",
     "iopub.status.busy": "2021-05-27T23:54:52.410092Z",
     "iopub.status.idle": "2021-05-27T23:54:52.418400Z",
     "shell.execute_reply": "2021-05-27T23:54:52.417386Z",
     "shell.execute_reply.started": "2021-05-27T23:54:52.410459Z"
    },
    "slideshow": {
     "slide_type": "fragment"
    }
   },
   "outputs": [
    {
     "name": "stdout",
     "output_type": "stream",
     "text": [
      "Resultados MAE:  Ttest_indResult(statistic=12.267830600650663, pvalue=2.1055720093883013e-26)\n",
      "Resultados MSE:  Ttest_indResult(statistic=0.05287432502408132, pvalue=0.4789426744847888)\n"
     ]
    }
   ],
   "source": [
    "print(\"Resultados MAE: \", stats.ttest_ind(challenge_mse[:, 0], challenge_logcosh[:, 0], alternative='greater'))\n",
    "print(\"Resultados MSE: \", stats.ttest_ind(challenge_mse[:, 1], challenge_logcosh[:, 1], alternative='greater'))"
   ]
  },
  {
   "cell_type": "markdown",
   "metadata": {
    "slideshow": {
     "slide_type": "slide"
    }
   },
   "source": [
    "# Conclusiones\n",
    "\n",
    "* Dados los resultados experimentales, efectivamente favorece el desempeño de un modelo el ser entrenado con una función de pérdida robusta como Huber.\n",
    "\n",
    "* Como complemento del punto anterior, también se muestra experimentalmente que otras funciones robustas -como LogCosh- mejoran el desempeño de MSE como función de pérdida.\n",
    "\n",
    "\n",
    "* Como punto de mejora a esta investigación, se podría haber demostrado que utilizar una función robusta como Huber, nunca empeora el resultado que se obtiene con MSE como función de pérdida."
   ]
  }
 ],
 "metadata": {
  "kernelspec": {
   "display_name": "Python 3",
   "language": "python",
   "name": "python3"
  },
  "language_info": {
   "codemirror_mode": {
    "name": "ipython",
    "version": 3
   },
   "file_extension": ".py",
   "mimetype": "text/x-python",
   "name": "python",
   "nbconvert_exporter": "python",
   "pygments_lexer": "ipython3",
   "version": "3.7.9"
  }
 },
 "nbformat": 4,
 "nbformat_minor": 4
}
