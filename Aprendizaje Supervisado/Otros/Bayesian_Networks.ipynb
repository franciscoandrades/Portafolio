{
 "cells": [
  {
   "cell_type": "markdown",
   "metadata": {},
   "source": [
    "<img src=\"http://www.exalumnos.usm.cl/wp-content/uploads/2015/06/ISOTIPO-Color.jpg\" title=\"Title text\" width=\"20%\" />\n",
    "\n",
    "<hr style=\"height:2px;border:none\"/>\n",
    "<H1 align='center'> Redes Bayesianas </H1>\n",
    "\n",
    "<H3> INF-396 Introducción a la Ciencia de Datos </H3>\n",
    "<H3> Autor: Francisco Andrades</H3>\n",
    "\n",
    "Lenguaje: Python\n",
    "\n",
    "Temas:\n",
    "\n",
    "    - Redes Bayesianas \n",
    "    - Inferencia\n",
    "\n",
    "<hr style=\"height:2px;border:none\"/>\n"
   ]
  },
  {
   "cell_type": "markdown",
   "metadata": {},
   "source": [
    "Primero definiremos una red simple. La red define si cierto contenido, posiblemente dañino, en una red social debe ser eliminado de la red (R {1: contenido debe se eliminado, 0: no eliminado}) y si el usuario debe ser baneado (B {1: Usuario es baneado, 0: Usuario no es baneado}) utilizando la historia del usuario (H {1: Usuario ya fue baneado antes, 0: Usuario no ha sido baneado}), la salida de un modelo de machine learning que predice en base al texto del contenido si es que es dañino o no (M {1: Contenido dañino, 0: Contenido no dañino}) y la etiqueta de otros usuarios sobre si el contenido es dañino o no (U {1: Contenido dañino, 0: Contenido no dañino}). \n",
    "\n",
    "La red está definida por las siguientes CPD:\n",
    "\n",
    "- P(U=1) = 0.15\n",
    "- P(M=1) = 0.05\n",
    "- P(H=1) = 0.1\n",
    "- P(B=1|H=1,R=1) = 0.4 \n",
    "- P(B=1|H=0,R=1) = 0.05 \n",
    "- P(B=1|H=1,R=0) = 0.12\n",
    "- P(B=1|H=0,R=0) = 0.02\n",
    "- P(R=1|M=1,H=1,U=1) = 0.95 \n",
    "- P(R=1|M=1,H=1,U=0) = 0.90 \n",
    "- P(R=1|M=1,H=0,U=1) = 0.85 \n",
    "- P(R=1|M=1,H=0,U=0) = 0.76 \n",
    "- P(R=1|M=0,H=1,U=1) = 0.18 \n",
    "- P(R=1|M=0,H=1,U=0) = 0.06 \n",
    "- P(R=1|M=0,H=0,U=1) = 0.14 \n",
    "- P(R=1|M=0,H=0,U=0) = 0.04\n",
    "\n",
    "Independencias\n",
    "\n",
    "Liste todas las independencias locales y liste todas las independencias markovianas globales para la variable R.\n",
    "\n",
    "Conteste las siguientes consultas:\n",
    "1. Encuentre la probabilidad de que cualquier contenido deba ser eliminado de la plataforma.\n",
    "2. Encuentre la probabilidad de que el modelo deba ser removido de la plataforma dado que el modelo de machine learning lo etiquetó como dañino. ¿Cual es el patrón de razonamiento?\n",
    "3. Encuentre la probabilidad de que el modelo haya sido etiquetado cómo dañino por otro usuario dado que se sabe que fué removido. ¿Cual es el patrón de razonamiento?\n",
    "4. Encuentre la probabilidad de que el modelo haya sido etiquetado cómo dañino por otro usuario dado que se sabe fué removido y el modelo lo etiquetó cómo dañino. ¿Cual es el patrón de razonamiento?\n",
    "5. Encuentre la probabilidad de que el usuario haya sido baneado anteriormente dado que se sabe que su contenido fué removido y que el modelo etiquetó el contenido cómo dañino. ¿Cual es el patrón de razonamiento?\n"
   ]
  },
  {
   "cell_type": "code",
   "execution_count": 1,
   "metadata": {},
   "outputs": [
    {
     "name": "stderr",
     "output_type": "stream",
     "text": [
      "/home/leicasdayz/anaconda3/lib/python3.7/site-packages/torch/cuda/__init__.py:52: UserWarning: CUDA initialization: Found no NVIDIA driver on your system. Please check that you have an NVIDIA GPU and installed a driver from http://www.nvidia.com/Download/index.aspx (Triggered internally at  /pytorch/c10/cuda/CUDAFunctions.cpp:100.)\n",
      "  return torch._C._cuda_getDeviceCount() > 0\n"
     ]
    }
   ],
   "source": [
    "#importamos librerías necesarias\n",
    "from pgmpy.models import BayesianModel\n",
    "from pgmpy.factors.discrete import TabularCPD\n",
    "import networkx as nx\n",
    "import matplotlib.pyplot as plt\n",
    "from pgmpy.inference import VariableElimination"
   ]
  },
  {
   "cell_type": "markdown",
   "metadata": {},
   "source": [
    "### Creamos la red "
   ]
  },
  {
   "cell_type": "code",
   "execution_count": 2,
   "metadata": {},
   "outputs": [],
   "source": [
    "model = BayesianModel([('U', 'R'), ('M', 'R'), ('H', 'R'), ('H', 'B'), ('R','B')])"
   ]
  },
  {
   "cell_type": "code",
   "execution_count": 3,
   "metadata": {},
   "outputs": [],
   "source": [
    "## Definimos las CPD de acuerdo a la información dada\n",
    "\n",
    "cpd_u = TabularCPD(variable='U', variable_card=2, values=[[0.85], [0.15]]) # [P(U=0),P(U=1)]\n",
    "cpd_m = TabularCPD(variable='M', variable_card=2, values=[[0.95], [0.05]])\n",
    "cpd_h = TabularCPD(variable='H', variable_card=2, values=[[0.9], [0.1]])\n",
    "\n",
    "cpd_r = TabularCPD(variable='R', variable_card=2, \n",
    "                         #M0,H0,U0  M0,H0,U1  M0,H1,U0  M0,H1,U1  M1,H0,U0  M1,H0,U1  M1,H1,U0  M1,H1,U1\n",
    "                   values=[[0.96,     0.86,     0.94,     0.82,     0.24,     0.15,     0.10,       0.05],\n",
    "                           [0.04,     0.14,     0.06,     0.18,     0.76,     0.85,     0.90,       0.95]],\n",
    "                  evidence=['M', 'H', 'U'],\n",
    "                  evidence_card=[2, 2, 2])\n",
    "\n",
    "cpd_b = TabularCPD(variable='B', variable_card=2, \n",
    "                           #H0,R0 H0,R1 H1,R0 H1,R1 \n",
    "                   values=[[0.98, 0.95, 0.88, 0.6],\n",
    "                           [0.02, 0.05, 0.12, 0.4]],\n",
    "                  evidence=['H', 'R'],\n",
    "                  evidence_card=[2, 2])\n",
    "\n",
    "model.add_cpds(cpd_u, cpd_m, cpd_h, cpd_r, cpd_b)"
   ]
  },
  {
   "cell_type": "code",
   "execution_count": 4,
   "metadata": {},
   "outputs": [
    {
     "name": "stdout",
     "output_type": "stream",
     "text": [
      "+------+------+\n",
      "| U(0) | 0.85 |\n",
      "+------+------+\n",
      "| U(1) | 0.15 |\n",
      "+------+------+\n"
     ]
    }
   ],
   "source": [
    "print(cpd_u)"
   ]
  },
  {
   "cell_type": "code",
   "execution_count": 5,
   "metadata": {},
   "outputs": [
    {
     "data": {
      "text/plain": [
       "True"
      ]
     },
     "execution_count": 5,
     "metadata": {},
     "output_type": "execute_result"
    }
   ],
   "source": [
    "# Chequeo si el modelo es válido\n",
    "model.check_model()\n"
   ]
  },
  {
   "cell_type": "markdown",
   "metadata": {},
   "source": [
    "### Plot"
   ]
  },
  {
   "cell_type": "code",
   "execution_count": 6,
   "metadata": {},
   "outputs": [
    {
     "data": {
      "image/png": "[encoded data removed]",
      "text/plain": [
       "<Figure size 432x288 with 1 Axes>"
      ]
     },
     "metadata": {},
     "output_type": "display_data"
    }
   ],
   "source": [
    "# PLOT  de la red\n",
    "nx.draw(model, with_labels=True)\n",
    "plt.show()\n"
   ]
  },
  {
   "cell_type": "markdown",
   "metadata": {},
   "source": [
    "### Independencias Locales"
   ]
  },
  {
   "cell_type": "code",
   "execution_count": 7,
   "metadata": {},
   "outputs": [
    {
     "data": {
      "text/plain": [
       "(U _|_ H, M)\n",
       "(M _|_ U, H)\n",
       "(H _|_ U, M)\n",
       "(B _|_ U, M | R, H)"
      ]
     },
     "execution_count": 7,
     "metadata": {},
     "output_type": "execute_result"
    }
   ],
   "source": [
    "#independencias locales\n",
    "model.local_independencies(['U', 'M', 'H', 'R', 'B'])"
   ]
  },
  {
   "cell_type": "markdown",
   "metadata": {},
   "source": [
    "### Independencias Globales de Markov"
   ]
  },
  {
   "cell_type": "code",
   "execution_count": 8,
   "metadata": {},
   "outputs": [
    {
     "name": "stdout",
     "output_type": "stream",
     "text": [
      "{'R': {'B', 'M', 'R', 'U', 'H'}}\n"
     ]
    }
   ],
   "source": [
    "print(model.active_trail_nodes('R'))"
   ]
  },
  {
   "cell_type": "markdown",
   "metadata": {},
   "source": [
    "Es claro que R no puede ser independiente a ninguna variable, ya que tiene una relación directa con todas las otras variables."
   ]
  },
  {
   "cell_type": "markdown",
   "metadata": {},
   "source": [
    "### Consultas"
   ]
  },
  {
   "cell_type": "markdown",
   "metadata": {},
   "source": [
    "##### 1.1"
   ]
  },
  {
   "cell_type": "code",
   "execution_count": 9,
   "metadata": {},
   "outputs": [
    {
     "name": "stderr",
     "output_type": "stream",
     "text": [
      "Finding Elimination Order: : 100%|██████████| 4/4 [00:00<00:00, 507.51it/s]\n",
      "Eliminating: M: 100%|██████████| 4/4 [00:00<00:00, 66.12it/s]"
     ]
    },
    {
     "name": "stdout",
     "output_type": "stream",
     "text": [
      "+------+----------+\n",
      "| R    |   phi(R) |\n",
      "+======+==========+\n",
      "| R(0) |   0.9062 |\n",
      "+------+----------+\n",
      "| R(1) |   0.0938 |\n",
      "+------+----------+\n"
     ]
    },
    {
     "name": "stderr",
     "output_type": "stream",
     "text": [
      "\n"
     ]
    }
   ],
   "source": [
    "infer = VariableElimination(model)\n",
    "g_dist = infer.query(['R'])\n",
    "print(g_dist)"
   ]
  },
  {
   "cell_type": "markdown",
   "metadata": {},
   "source": [
    "La probabilidad de que cualquier contenido sea eliminado de la plataforma (R=1) es 0.0938"
   ]
  },
  {
   "cell_type": "markdown",
   "metadata": {},
   "source": [
    "#### 1.2"
   ]
  },
  {
   "cell_type": "code",
   "execution_count": 10,
   "metadata": {},
   "outputs": [
    {
     "name": "stderr",
     "output_type": "stream",
     "text": [
      "Finding Elimination Order: : 100%|██████████| 3/3 [00:00<00:00, 197.13it/s]\n",
      "Eliminating: H: 100%|██████████| 3/3 [00:00<00:00, 85.88it/s]"
     ]
    },
    {
     "name": "stdout",
     "output_type": "stream",
     "text": [
      "+------+----------+\n",
      "| R    |   phi(R) |\n",
      "+======+==========+\n",
      "| R(0) |   0.2131 |\n",
      "+------+----------+\n",
      "| R(1) |   0.7869 |\n",
      "+------+----------+\n"
     ]
    },
    {
     "name": "stderr",
     "output_type": "stream",
     "text": [
      "\n"
     ]
    }
   ],
   "source": [
    "print(infer.query(['R'], evidence={'M': 1}))"
   ]
  },
  {
   "cell_type": "markdown",
   "metadata": {},
   "source": [
    "La probabilidad de que el contenido deba ser eliminado dado que el modelo de ML lo etiquetó como dañino es 0.7869"
   ]
  },
  {
   "cell_type": "markdown",
   "metadata": {},
   "source": [
    "#### 1.3"
   ]
  },
  {
   "cell_type": "code",
   "execution_count": 11,
   "metadata": {},
   "outputs": [
    {
     "name": "stderr",
     "output_type": "stream",
     "text": [
      "Finding Elimination Order: : 100%|██████████| 3/3 [00:00<00:00, 459.50it/s]\n",
      "Eliminating: M: 100%|██████████| 3/3 [00:00<00:00, 93.63it/s]"
     ]
    },
    {
     "name": "stdout",
     "output_type": "stream",
     "text": [
      "+------+----------+\n",
      "| U    |   phi(U) |\n",
      "+======+==========+\n",
      "| U(0) |   0.7124 |\n",
      "+------+----------+\n",
      "| U(1) |   0.2876 |\n",
      "+------+----------+\n"
     ]
    },
    {
     "name": "stderr",
     "output_type": "stream",
     "text": [
      "\n"
     ]
    }
   ],
   "source": [
    "print(infer.query(['U'], evidence={'R': 1}))"
   ]
  },
  {
   "cell_type": "markdown",
   "metadata": {},
   "source": [
    "La probabilidad de que el contenido haya sido etiquetado como dañino por otro usuario, dado que se sabe fue removido es 0.2876"
   ]
  },
  {
   "cell_type": "markdown",
   "metadata": {},
   "source": [
    "#### 1.4"
   ]
  },
  {
   "cell_type": "code",
   "execution_count": 12,
   "metadata": {},
   "outputs": [
    {
     "name": "stderr",
     "output_type": "stream",
     "text": [
      "Finding Elimination Order: : 100%|██████████| 2/2 [00:00<00:00, 162.59it/s]\n",
      "Eliminating: H: 100%|██████████| 2/2 [00:00<00:00, 84.04it/s]"
     ]
    },
    {
     "name": "stdout",
     "output_type": "stream",
     "text": [
      "+------+----------+\n",
      "| U    |   phi(U) |\n",
      "+======+==========+\n",
      "| U(0) |   0.8361 |\n",
      "+------+----------+\n",
      "| U(1) |   0.1639 |\n",
      "+------+----------+\n"
     ]
    },
    {
     "name": "stderr",
     "output_type": "stream",
     "text": [
      "\n"
     ]
    }
   ],
   "source": [
    "print(infer.query(['U'], evidence={'R': 1,'M':1}))"
   ]
  },
  {
   "cell_type": "markdown",
   "metadata": {},
   "source": [
    "La probabilidad de que el contenido haya sido etiquetado como dañino por otro usuario, dado que se sabe fue removido y el modelo de ML lo etiquetó como dañino es 0.1639"
   ]
  },
  {
   "cell_type": "markdown",
   "metadata": {},
   "source": [
    "#### 1.5"
   ]
  },
  {
   "cell_type": "code",
   "execution_count": 13,
   "metadata": {},
   "outputs": [
    {
     "name": "stderr",
     "output_type": "stream",
     "text": [
      "Finding Elimination Order: : 100%|██████████| 2/2 [00:00<00:00, 407.43it/s]\n",
      "Eliminating: B: 100%|██████████| 2/2 [00:00<00:00, 182.14it/s]"
     ]
    },
    {
     "name": "stdout",
     "output_type": "stream",
     "text": [
      "+------+----------+\n",
      "| H    |   phi(H) |\n",
      "+======+==========+\n",
      "| H(0) |   0.8847 |\n",
      "+------+----------+\n",
      "| H(1) |   0.1153 |\n",
      "+------+----------+\n"
     ]
    },
    {
     "name": "stderr",
     "output_type": "stream",
     "text": [
      "\n"
     ]
    }
   ],
   "source": [
    "print(infer.query(['H'], evidence={'R': 1,'M':1}))"
   ]
  },
  {
   "cell_type": "markdown",
   "metadata": {},
   "source": [
    "La probabilidad de que el usuario haya sido baneado anteriormente, dado que se sabe que su contenido fue removido y el modelo de ML lo etiquetó como dañino es 0.1153"
   ]
  }
 ],
 "metadata": {
  "kernelspec": {
   "display_name": "Python 3",
   "language": "python",
   "name": "python3"
  },
  "language_info": {
   "codemirror_mode": {
    "name": "ipython",
    "version": 3
   },
   "file_extension": ".py",
   "mimetype": "text/x-python",
   "name": "python",
   "nbconvert_exporter": "python",
   "pygments_lexer": "ipython3",
   "version": "3.7.9"
  }
 },
 "nbformat": 4,
 "nbformat_minor": 2
}
