{
 "cells": [
  {
   "cell_type": "markdown",
   "metadata": {},
   "source": [
    "<img src=\"http://www.exalumnos.usm.cl/wp-content/uploads/2015/06/ISOTIPO-Color.jpg\" title=\"Title text\" width=\"20%\" />\n",
    "\n",
    "<hr style=\"height:2px;border:none\"/>\n",
    "<H1 align='center'> Clasificación de Sentimiento de Reviews de peliculas </H1>\n",
    "\n",
    "<H3> INF-396 Introducción a la Ciencia de Datos </H3>\n",
    "<H3> Autor: Francisco Andrades </H3>\n",
    "\n",
    "Lenguaje: Python\n",
    "\n",
    "Temas:\n",
    "\n",
    "    - Sentiment Analysis\n",
    "    - Feed Forward, RNN, LSTM\n",
    "    - Embedding GLOVE\n",
    "<hr style=\"height:2px;border:none\"/>"
   ]
  },
  {
   "cell_type": "code",
   "execution_count": 1,
   "metadata": {},
   "outputs": [],
   "source": [
    "## Puede encontrar información sobre keras en https://keras.io/getting_started/intro_to_keras_for_engineers/\n",
    "## Puede encontrar información sobre sklearn en https://scikit-learn.org/stable/\n",
    "\n",
    "import os\n",
    "import numpy as np\n",
    "import pickle"
   ]
  },
  {
   "cell_type": "markdown",
   "metadata": {},
   "source": [
    "Primero, carguemos en memoria el conjunto de datos y veamos algunos de sus datos"
   ]
  },
  {
   "cell_type": "code",
   "execution_count": 2,
   "metadata": {},
   "outputs": [],
   "source": [
    "classes = ['negative', 'positive']\n",
    "X_train, y_train, X_test, y_test = pickle.load(open('movies_review_train_test.dat', 'rb'))"
   ]
  },
  {
   "cell_type": "markdown",
   "metadata": {},
   "source": [
    "## Modelos de redes neuronales"
   ]
  },
  {
   "cell_type": "code",
   "execution_count": 3,
   "metadata": {},
   "outputs": [],
   "source": [
    "from tensorflow import keras\n",
    "from tensorflow.keras.models import Sequential, Model\n",
    "from tensorflow.keras.layers import Dense, Input, Embedding, LSTM, SimpleRNN, Add, Lambda, Dropout\n",
    "from tensorflow.keras.optimizers import Adam\n",
    "import tensorflow.keras.backend as K"
   ]
  },
  {
   "cell_type": "code",
   "execution_count": 4,
   "metadata": {},
   "outputs": [],
   "source": [
    "# Definición de parámetros\n",
    "batch_size = 32\n",
    "epochs = 2\n",
    "num_classes = 2\n",
    "max_words = 70\n",
    "embedding_size = 30"
   ]
  },
  {
   "cell_type": "markdown",
   "metadata": {},
   "source": [
    "### Preprocesamiento\n",
    "A continuación preprocesaremos los datos, realizando tokenización."
   ]
  },
  {
   "cell_type": "code",
   "execution_count": 5,
   "metadata": {},
   "outputs": [],
   "source": [
    "from tensorflow.keras.preprocessing.text import Tokenizer\n",
    "\n",
    "# Tokenizing text\n",
    "tokenizer = Tokenizer()\n",
    "tokenizer.fit_on_texts(X_train + X_test)\n",
    "word_index = tokenizer.word_index\n",
    "num_words = len(tokenizer.word_index) + 1"
   ]
  },
  {
   "cell_type": "code",
   "execution_count": 6,
   "metadata": {},
   "outputs": [],
   "source": [
    "# Transformando texto a secuencias de indices\n",
    "X_tr = tokenizer.texts_to_sequences(X_train)\n",
    "X_te = tokenizer.texts_to_sequences(X_test)"
   ]
  },
  {
   "cell_type": "code",
   "execution_count": 7,
   "metadata": {},
   "outputs": [],
   "source": [
    "from tensorflow.keras.preprocessing.sequence import pad_sequences\n",
    "from tensorflow.keras.utils import to_categorical\n",
    "# Se agregan 0 a textos que tienen menos de max_words palabras y se cortan los que tienen mas\n",
    "X_tr_pad = pad_sequences(X_tr, maxlen=max_words)\n",
    "X_te_pad = pad_sequences(X_te, maxlen=max_words)\n",
    "# Se convierten label a version categorica\n",
    "y_train = to_categorical(y_train, num_classes=num_classes)\n",
    "y_test = to_categorical(y_test, num_classes=num_classes)"
   ]
  },
  {
   "cell_type": "markdown",
   "metadata": {},
   "source": [
    "# Entrenando los modelos \n",
    "\n",
    "## Red neuronal feedforward\n",
    "\n",
    "Primero entrenaremos una red neuronal feedforward directamente en el texto tokenizado, utilizando un embedding simple."
   ]
  },
  {
   "cell_type": "code",
   "execution_count": 8,
   "metadata": {},
   "outputs": [
    {
     "name": "stdout",
     "output_type": "stream",
     "text": [
      "Train on 12000 samples, validate on 3000 samples\n",
      "Epoch 1/2\n",
      "12000/12000 [==============================] - 28s 2ms/sample - loss: 0.4737 - accuracy: 0.7617 - val_loss: 0.3845 - val_accuracy: 0.8183\n",
      "Epoch 2/2\n",
      "12000/12000 [==============================] - 25s 2ms/sample - loss: 0.1951 - accuracy: 0.9244 - val_loss: 0.4202 - val_accuracy: 0.8223\n"
     ]
    }
   ],
   "source": [
    "document_input = Input(shape=(max_words, ), dtype='int32')\n",
    "\n",
    "\n",
    "x = Embedding(num_words, embedding_size, input_length=max_words)(document_input)\n",
    "f = Lambda(lambda x: K.sum(x,axis=1))(x)\n",
    "y = Dense(20, activation='relu')(f)\n",
    "output = Dense(num_classes, activation='softmax')(y)\n",
    "\n",
    "\n",
    "# Construyendo el modelo\n",
    "model = Model(inputs=[document_input], outputs=[output])\n",
    "model.compile(loss='categorical_crossentropy', optimizer='adam',\n",
    "             metrics=['accuracy'])\n",
    "\n",
    "# Entrenando el modelo\n",
    "history = model.fit(X_tr_pad, y_train,\n",
    "                  batch_size=batch_size,\n",
    "                  epochs=2,\n",
    "                  verbose=1,\n",
    "                  validation_split=0.2)"
   ]
  },
  {
   "cell_type": "code",
   "execution_count": 9,
   "metadata": {},
   "outputs": [
    {
     "name": "stdout",
     "output_type": "stream",
     "text": [
      "3000/3000 [==============================] - 0s 124us/sample - loss: 0.4422 - accuracy: 0.8187\n",
      "Accuracy en datos de test: 0.8186666369438171\n"
     ]
    }
   ],
   "source": [
    "loss, acc = model.evaluate(X_te_pad, y_test)\n",
    "print('Accuracy en datos de test: {0}'.format(acc))"
   ]
  },
  {
   "cell_type": "markdown",
   "metadata": {},
   "source": [
    "# Red Neuronal Recurrente Simple con Embedding"
   ]
  },
  {
   "cell_type": "code",
   "execution_count": 10,
   "metadata": {},
   "outputs": [
    {
     "name": "stdout",
     "output_type": "stream",
     "text": [
      "Train on 12000 samples, validate on 3000 samples\n",
      "Epoch 1/2\n",
      "12000/12000 [==============================] - 38s 3ms/sample - loss: 0.6483 - accuracy: 0.6045 - val_loss: 0.5158 - val_accuracy: 0.7547\n",
      "Epoch 2/2\n",
      "12000/12000 [==============================] - 38s 3ms/sample - loss: 0.3240 - accuracy: 0.8684 - val_loss: 0.4545 - val_accuracy: 0.7887\n"
     ]
    }
   ],
   "source": [
    "document_input = Input(shape=(max_words, ), dtype='int32')\n",
    "# Embedding Layer\n",
    "embedding = Embedding(input_dim=num_words, output_dim=embedding_size, \n",
    "                      input_length=max_words, \n",
    "                      trainable=True)(document_input)\n",
    "\n",
    "rnn = SimpleRNN(10,return_sequences=False)(embedding)\n",
    "\n",
    "\n",
    "\n",
    "# Aplicando una capa densa luego de la RNN\n",
    "output = Dense(num_classes, activation='softmax')(rnn)\n",
    "\n",
    "# Construyendo el modelo\n",
    "model = Model(inputs=[document_input], outputs=[output])\n",
    "model.compile(loss='categorical_crossentropy', optimizer='adam',\n",
    "             metrics=['accuracy'])\n",
    "\n",
    "# Entrenando el modelo\n",
    "history = model.fit(X_tr_pad, y_train,\n",
    "                  batch_size=batch_size,\n",
    "                  epochs=2,\n",
    "                  verbose=1,\n",
    "                  validation_split=0.2)"
   ]
  },
  {
   "cell_type": "code",
   "execution_count": 11,
   "metadata": {},
   "outputs": [
    {
     "name": "stdout",
     "output_type": "stream",
     "text": [
      "3000/3000 [==============================] - 1s 425us/sample - loss: 0.4975 - accuracy: 0.7603\n",
      "Accuracy en datos de test: 0.7603333592414856\n"
     ]
    }
   ],
   "source": [
    "loss, acc = model.evaluate(X_te_pad, y_test)\n",
    "print('Accuracy en datos de test: {0}'.format(acc))"
   ]
  },
  {
   "cell_type": "markdown",
   "metadata": {},
   "source": [
    "## Dropout para evitar el sobre ajuste"
   ]
  },
  {
   "cell_type": "code",
   "execution_count": 12,
   "metadata": {},
   "outputs": [
    {
     "name": "stdout",
     "output_type": "stream",
     "text": [
      "WARNING:tensorflow:From /home/leicasdayz/anaconda3/lib/python3.7/site-packages/tensorflow/python/keras/backend.py:4081: calling dropout (from tensorflow.python.ops.nn_ops) with keep_prob is deprecated and will be removed in a future version.\n",
      "Instructions for updating:\n",
      "Please use `rate` instead of `keep_prob`. Rate should be set to `rate = 1 - keep_prob`.\n",
      "Train on 12000 samples, validate on 3000 samples\n",
      "Epoch 1/2\n",
      "12000/12000 [==============================] - 39s 3ms/sample - loss: 0.6243 - accuracy: 0.6433 - val_loss: 0.4818 - val_accuracy: 0.7687\n",
      "Epoch 2/2\n",
      "12000/12000 [==============================] - 38s 3ms/sample - loss: 0.3619 - accuracy: 0.8530 - val_loss: 0.4005 - val_accuracy: 0.8170\n"
     ]
    }
   ],
   "source": [
    "document_input = Input(shape=(max_words, ), dtype='int32')\n",
    "# Embedding Layer\n",
    "embedding = Embedding(input_dim=num_words, output_dim=embedding_size, \n",
    "                      input_length=max_words, \n",
    "                      trainable=True)(document_input)\n",
    "\n",
    "\n",
    "rnn = SimpleRNN(10,dropout=0.4,return_sequences=False)(embedding)\n",
    "\n",
    "'''  -----------  '''\n",
    "\n",
    "# Aplicando una capa densa luego de la RNN\n",
    "output = Dense(num_classes, activation='softmax')(rnn)\n",
    "\n",
    "# Construyendo el modelo\n",
    "model = Model(inputs=[document_input], outputs=[output])\n",
    "model.compile(loss='categorical_crossentropy', optimizer='adam',\n",
    "             metrics=['accuracy'])\n",
    "\n",
    "# Entrenando el modelo\n",
    "history = model.fit(X_tr_pad, y_train,\n",
    "                  batch_size=batch_size,\n",
    "                  epochs=2,\n",
    "                  verbose=1,\n",
    "                  validation_split=0.2)"
   ]
  },
  {
   "cell_type": "markdown",
   "metadata": {},
   "source": [
    "## Explique aquí Dropout\n",
    "\n",
    "Dropout significa \"ignorar\" algunas neuronas al azar (cantidad de acuerdo al dropout rate) para los pasos forward propagation o backward propagation. Esto ayuda a prevenir el overfitting, ya que la red se ve forzada a poder generalizar con un subconjunto de neuronas y a no desarrollar codependencias entre neuronas."
   ]
  },
  {
   "cell_type": "code",
   "execution_count": 13,
   "metadata": {},
   "outputs": [
    {
     "name": "stdout",
     "output_type": "stream",
     "text": [
      "3000/3000 [==============================] - 1s 460us/sample - loss: 0.4348 - accuracy: 0.8040\n",
      "Accuracy en datos de test: 0.8040000200271606\n"
     ]
    }
   ],
   "source": [
    "loss, acc = model.evaluate(X_te_pad, y_test)\n",
    "print('Accuracy en datos de test: {0}'.format(acc))"
   ]
  },
  {
   "cell_type": "markdown",
   "metadata": {},
   "source": [
    "# Red LSTM con Embedding"
   ]
  },
  {
   "cell_type": "code",
   "execution_count": 14,
   "metadata": {},
   "outputs": [
    {
     "name": "stdout",
     "output_type": "stream",
     "text": [
      "Train on 12000 samples, validate on 3000 samples\n",
      "Epoch 1/2\n",
      "12000/12000 [==============================] - 46s 4ms/sample - loss: 0.5235 - accuracy: 0.7328 - val_loss: 0.3892 - val_accuracy: 0.8253\n",
      "Epoch 2/2\n",
      "12000/12000 [==============================] - 45s 4ms/sample - loss: 0.2788 - accuracy: 0.8859 - val_loss: 0.3826 - val_accuracy: 0.8343\n"
     ]
    }
   ],
   "source": [
    "document_input = Input(shape=(max_words, ), dtype='int32')\n",
    "# Embedding Layer\n",
    "embedding = Embedding(input_dim=num_words, output_dim=embedding_size, \n",
    "                      input_length=max_words, \n",
    "                      trainable=True)\n",
    "embedding_output = embedding(document_input)\n",
    "\n",
    "rnn = LSTM(10,dropout=0.4)(embedding_output)\n",
    "\n",
    "\n",
    "output = Dense(num_classes, activation='softmax')(rnn)\n",
    "\n",
    "# Construyendo el modelo\n",
    "model = Model(inputs=[document_input], outputs=[output])\n",
    "model.compile(loss='categorical_crossentropy', optimizer='adam',\n",
    "             metrics=['accuracy'])\n",
    "\n",
    "# Entrenando el modelo\n",
    "history = model.fit(X_tr_pad, y_train,\n",
    "                  batch_size=batch_size,\n",
    "                  epochs=2,\n",
    "                  verbose=1,\n",
    "                  validation_split=0.2)"
   ]
  },
  {
   "cell_type": "code",
   "execution_count": 15,
   "metadata": {},
   "outputs": [
    {
     "name": "stdout",
     "output_type": "stream",
     "text": [
      "3000/3000 [==============================] - 1s 448us/sample - loss: 0.4306 - accuracy: 0.8097\n",
      "Accuracy en datos de test: 0.8096666932106018\n"
     ]
    }
   ],
   "source": [
    "loss, acc = model.evaluate(X_te_pad, y_test)\n",
    "print('Accuracy en datos de test: {0}'.format(acc))"
   ]
  },
  {
   "cell_type": "code",
   "execution_count": 16,
   "metadata": {},
   "outputs": [
    {
     "data": {
      "text/plain": [
       "<matplotlib.legend.Legend at 0x7f38fddaf978>"
      ]
     },
     "execution_count": 16,
     "metadata": {},
     "output_type": "execute_result"
    },
    {
     "data": {
      "image/png": "[encoded data removed]",
      "text/plain": [
       "<Figure size 432x288 with 1 Axes>"
      ]
     },
     "metadata": {
      "needs_background": "light"
     },
     "output_type": "display_data"
    }
   ],
   "source": [
    "%matplotlib inline\n",
    "from matplotlib import pyplot as plt\n",
    "fig = plt.figure()\n",
    "ax = fig.add_subplot(111)\n",
    "ax.plot(history.history['loss'])\n",
    "ax.plot(history.history['val_loss'])\n",
    "ax.set_xlabel('epoch')\n",
    "ax.set_ylabel('loss')\n",
    "fig.legend(['train', 'validation'], loc='upper left')"
   ]
  },
  {
   "cell_type": "markdown",
   "metadata": {},
   "source": [
    "### Escriba aquí sus conclusiones\n",
    "\n",
    "El error de validación se mantiene más o menos constante. Sin embargo, la accuracy (métrica que estamos optimizando) si aumenta."
   ]
  },
  {
   "cell_type": "markdown",
   "metadata": {},
   "source": [
    "# Red LSTM con GLOVE embedding \n",
    "\n",
    "Descargue los embeddings pre entrenados desde https://nlp.stanford.edu/projects/glove/\n",
    "archivo glove.6B.zip y extraiga los datos para utilizarlos en esta sección"
   ]
  },
  {
   "cell_type": "code",
   "execution_count": 17,
   "metadata": {},
   "outputs": [],
   "source": [
    "# Funciones para cargar los vectores GLOVE\n",
    "def glorot_uniform_np(shape):\n",
    "    fan_in, fan_out = shape[0],shape[1]\n",
    "    s = np.sqrt(6. / (fan_in + fan_out))\n",
    "    return np.random.uniform(-s, s, size=shape)\n",
    "\n",
    "def load_word_vectors(embeddings_index, glove_file):\n",
    "    print('Indexing word vectors.')\n",
    "    for line in glove_file:\n",
    "        values = line.split()\n",
    "        word = values[0]\n",
    "        coefs = np.asarray(values[1:], dtype='float32')\n",
    "        embeddings_index[word] = coefs\n",
    "    glove_file.close()\n",
    "    print('Found %s word vectors.' % len(embeddings_index))    \n",
    "\n"
   ]
  },
  {
   "cell_type": "code",
   "execution_count": 18,
   "metadata": {},
   "outputs": [
    {
     "name": "stdout",
     "output_type": "stream",
     "text": [
      "Indexing word vectors.\n",
      "Found 400000 word vectors.\n"
     ]
    }
   ],
   "source": [
    "# Cargando los vectores GLOVE\n",
    "## LOAD PRETRAINED WORD VECTORS\n",
    "GLOVE_FILE = 'glove.6B.100d.txt'\n",
    "embeddings_index = {}\n",
    "glove_file = open(GLOVE_FILE)\n",
    "                  \n",
    "load_word_vectors(embeddings_index, glove_file)   \n",
    "embedding_matrix = np.zeros((len(word_index) + 1, 100))\n",
    "for word, i in word_index.items():\n",
    "    embedding_vector = embeddings_index.get(word)\n",
    "    if embedding_vector is not None:\n",
    "        embedding_matrix[i] = embedding_vector\n",
    "embeddings_index = {}"
   ]
  },
  {
   "cell_type": "code",
   "execution_count": 19,
   "metadata": {},
   "outputs": [],
   "source": [
    "from tensorflow.keras.initializers import Constant\n",
    "\n",
    "document_input = Input(shape=(max_words, ), dtype='int32')\n",
    "\n",
    "embedding = Embedding(input_dim=num_words, output_dim=100, \n",
    "                      input_length=max_words, \n",
    "                      trainable=True,embeddings_initializer=Constant(embedding_matrix))\n",
    "embedding_output = embedding(document_input)\n"
   ]
  },
  {
   "cell_type": "code",
   "execution_count": 20,
   "metadata": {},
   "outputs": [
    {
     "name": "stdout",
     "output_type": "stream",
     "text": [
      "Train on 12000 samples, validate on 3000 samples\n",
      "Epoch 1/2\n",
      "12000/12000 [==============================] - 90s 7ms/sample - loss: 1.5706 - accuracy: 0.6694 - val_loss: 0.6819 - val_accuracy: 0.7413\n",
      "Epoch 2/2\n",
      "12000/12000 [==============================] - 89s 7ms/sample - loss: 0.3924 - accuracy: 0.8359 - val_loss: 0.4943 - val_accuracy: 0.7887\n"
     ]
    }
   ],
   "source": [
    "f = Lambda(lambda x: K.sum(x,axis=1))(embedding_output)\n",
    "y = Dense(20, activation='relu')(f)\n",
    "output = Dense(num_classes, activation='softmax')(y)\n",
    "\n",
    "\n",
    "# Construyendo el modelo\n",
    "model = Model(inputs=[document_input], outputs=[output])\n",
    "model.compile(loss='categorical_crossentropy', optimizer='adam',\n",
    "             metrics=['accuracy'])\n",
    "\n",
    "# Entrenando el modelo\n",
    "history = model.fit(X_tr_pad, y_train,\n",
    "                  batch_size=batch_size,\n",
    "                  epochs=2,\n",
    "                  verbose=1,\n",
    "                  validation_split=0.2)"
   ]
  },
  {
   "cell_type": "code",
   "execution_count": 21,
   "metadata": {},
   "outputs": [
    {
     "name": "stdout",
     "output_type": "stream",
     "text": [
      "3000/3000 [==============================] - 0s 143us/sample - loss: 0.5497 - accuracy: 0.7690\n",
      "Accuracy en datos de test: 0.7689999938011169\n"
     ]
    }
   ],
   "source": [
    "loss, acc = model.evaluate(X_te_pad, y_test)\n",
    "print('Accuracy en datos de test: {0}'.format(acc))"
   ]
  },
  {
   "cell_type": "code",
   "execution_count": 22,
   "metadata": {},
   "outputs": [
    {
     "name": "stdout",
     "output_type": "stream",
     "text": [
      "Train on 12000 samples, validate on 3000 samples\n",
      "Epoch 1/2\n",
      "12000/12000 [==============================] - 89s 7ms/sample - loss: 0.6416 - accuracy: 0.6350 - val_loss: 0.8406 - val_accuracy: 0.5630\n",
      "Epoch 2/2\n",
      "12000/12000 [==============================] - 88s 7ms/sample - loss: 0.4640 - accuracy: 0.7947 - val_loss: 0.4980 - val_accuracy: 0.7800\n"
     ]
    }
   ],
   "source": [
    "rnn = SimpleRNN(10,return_sequences=False)(embedding_output)\n",
    "\n",
    "\n",
    "# Aplicando una capa densa luego de la RNN\n",
    "output = Dense(num_classes, activation='softmax')(rnn)\n",
    "\n",
    "# Construyendo el modelo\n",
    "model = Model(inputs=[document_input], outputs=[output])\n",
    "model.compile(loss='categorical_crossentropy', optimizer='adam',\n",
    "             metrics=['accuracy'])\n",
    "\n",
    "# Entrenando el modelo\n",
    "history = model.fit(X_tr_pad, y_train,\n",
    "                  batch_size=batch_size,\n",
    "                  epochs=2,\n",
    "                  verbose=1,\n",
    "                  validation_split=0.2)"
   ]
  },
  {
   "cell_type": "code",
   "execution_count": 23,
   "metadata": {},
   "outputs": [
    {
     "name": "stdout",
     "output_type": "stream",
     "text": [
      "3000/3000 [==============================] - 1s 468us/sample - loss: 0.5250 - accuracy: 0.7687\n",
      "Accuracy en datos de test: 0.768666684627533\n"
     ]
    }
   ],
   "source": [
    "loss, acc = model.evaluate(X_te_pad, y_test)\n",
    "print('Accuracy en datos de test: {0}'.format(acc))"
   ]
  },
  {
   "cell_type": "code",
   "execution_count": 24,
   "metadata": {},
   "outputs": [
    {
     "name": "stdout",
     "output_type": "stream",
     "text": [
      "Train on 12000 samples, validate on 3000 samples\n",
      "Epoch 1/2\n",
      "12000/12000 [==============================] - 94s 8ms/sample - loss: 0.5461 - accuracy: 0.7141 - val_loss: 0.4994 - val_accuracy: 0.7717\n",
      "Epoch 2/2\n",
      "12000/12000 [==============================] - 93s 8ms/sample - loss: 0.3790 - accuracy: 0.8456 - val_loss: 0.8527 - val_accuracy: 0.5753\n"
     ]
    }
   ],
   "source": [
    "rnn = SimpleRNN(10,return_sequences=False)(embedding_output)\n",
    "\n",
    "\n",
    "# Aplicando una capa densa luego de la RNN\n",
    "output = Dense(num_classes, activation='softmax')(rnn)\n",
    "\n",
    "# Construyendo el modelo\n",
    "model = Model(inputs=[document_input], outputs=[output])\n",
    "model.compile(loss='categorical_crossentropy', optimizer='adam',\n",
    "             metrics=['accuracy'])\n",
    "\n",
    "# Entrenando el modelo\n",
    "history = model.fit(X_tr_pad, y_train,\n",
    "                  batch_size=batch_size,\n",
    "                  epochs=2,\n",
    "                  verbose=1,\n",
    "                  validation_split=0.2)"
   ]
  },
  {
   "cell_type": "code",
   "execution_count": 25,
   "metadata": {},
   "outputs": [
    {
     "name": "stdout",
     "output_type": "stream",
     "text": [
      "3000/3000 [==============================] - 1s 473us/sample - loss: 0.8973 - accuracy: 0.5580\n",
      "Accuracy en datos de test: 0.5580000281333923\n"
     ]
    }
   ],
   "source": [
    "loss, acc = model.evaluate(X_te_pad, y_test)\n",
    "print('Accuracy en datos de test: {0}'.format(acc))"
   ]
  },
  {
   "cell_type": "code",
   "execution_count": 26,
   "metadata": {},
   "outputs": [
    {
     "name": "stdout",
     "output_type": "stream",
     "text": [
      "Train on 12000 samples, validate on 3000 samples\n",
      "Epoch 1/2\n",
      "12000/12000 [==============================] - 91s 8ms/sample - loss: 0.6789 - accuracy: 0.5838 - val_loss: 0.6301 - val_accuracy: 0.6470\n",
      "Epoch 2/2\n",
      "12000/12000 [==============================] - 90s 8ms/sample - loss: 0.5561 - accuracy: 0.7223 - val_loss: 0.5187 - val_accuracy: 0.7593\n"
     ]
    }
   ],
   "source": [
    "rnn = SimpleRNN(10,dropout=0.4,return_sequences=False)(embedding_output)\n",
    "\n",
    "\n",
    "# Aplicando una capa densa luego de la RNN\n",
    "output = Dense(num_classes, activation='softmax')(rnn)\n",
    "\n",
    "# Construyendo el modelo\n",
    "model = Model(inputs=[document_input], outputs=[output])\n",
    "model.compile(loss='categorical_crossentropy', optimizer='adam',\n",
    "             metrics=['accuracy'])\n",
    "\n",
    "# Entrenando el modelo\n",
    "history = model.fit(X_tr_pad, y_train,\n",
    "                  batch_size=batch_size,\n",
    "                  epochs=2,\n",
    "                  verbose=1,\n",
    "                  validation_split=0.2)"
   ]
  },
  {
   "cell_type": "code",
   "execution_count": 27,
   "metadata": {},
   "outputs": [
    {
     "name": "stdout",
     "output_type": "stream",
     "text": [
      "3000/3000 [==============================] - 2s 560us/sample - loss: 0.5488 - accuracy: 0.7377\n",
      "Accuracy en datos de test: 0.737666666507721\n"
     ]
    }
   ],
   "source": [
    "loss, acc = model.evaluate(X_te_pad, y_test)\n",
    "print('Accuracy en datos de test: {0}'.format(acc))"
   ]
  },
  {
   "cell_type": "code",
   "execution_count": 28,
   "metadata": {},
   "outputs": [
    {
     "name": "stdout",
     "output_type": "stream",
     "text": [
      "Train on 12000 samples, validate on 3000 samples\n",
      "Epoch 1/3\n",
      "12000/12000 [==============================] - 102s 8ms/sample - loss: 0.4338 - accuracy: 0.7968 - val_loss: 0.3924 - val_accuracy: 0.8267\n",
      "Epoch 2/3\n",
      "12000/12000 [==============================] - 101s 8ms/sample - loss: 0.2381 - accuracy: 0.9067 - val_loss: 0.4011 - val_accuracy: 0.8340\n",
      "Epoch 3/3\n",
      "12000/12000 [==============================] - 96s 8ms/sample - loss: 0.1626 - accuracy: 0.9382 - val_loss: 0.4294 - val_accuracy: 0.8300\n"
     ]
    }
   ],
   "source": [
    "rnn = LSTM(10,dropout=0.4)(embedding_output)\n",
    "output = Dense(num_classes, activation='softmax')(rnn)\n",
    "\n",
    "# Construyendo el modelo\n",
    "model = Model(inputs=[document_input], outputs=[output])\n",
    "model.compile(loss='categorical_crossentropy', optimizer='adam',\n",
    "             metrics=['accuracy'])\n",
    "\n",
    "# Entrenando el modelo\n",
    "history = model.fit(X_tr_pad, y_train,\n",
    "                  batch_size=batch_size,\n",
    "                  epochs=3,\n",
    "                  verbose=1,\n",
    "                  validation_split=0.2)"
   ]
  },
  {
   "cell_type": "code",
   "execution_count": 29,
   "metadata": {},
   "outputs": [
    {
     "name": "stdout",
     "output_type": "stream",
     "text": [
      "3000/3000 [==============================] - 2s 517us/sample - loss: 0.4771 - accuracy: 0.8097\n",
      "Accuracy en datos de test: 0.8096666932106018\n"
     ]
    }
   ],
   "source": [
    "loss, acc = model.evaluate(X_te_pad, y_test)\n",
    "print('Accuracy en datos de test: {0}'.format(acc))"
   ]
  },
  {
   "cell_type": "markdown",
   "metadata": {},
   "source": [
    "# Visualizando Words Embedding con PCA (opcional, 15 ptos.)\n",
    "\n",
    "Este ejercicio es más difícil, pero resolverlo aclarará muchas dudas sobre el funcionamiento de Keras.\n",
    "Visualice los embeddings entrenados utilizando PCA.\n",
    "Para esto debe seguir los siguientes pasos:\n",
    "1. Obtenga los pesos de la capa de embedding, estos tendran tamaño (num_vocab, embedding_dim). Puede obtener la correspondencia entre vectores y palabras utilizando el word_index.\n",
    "2. Ajuste un modelo PCA (https://scikit-learn.org/stable/modules/generated/sklearn.decomposition.PCA.html) y quédese con los dos componentes principales.\n",
    "3. Visualice algunas palabras tomadas alreatoriamente en un gráfico de dos dimensiones y concluya.\n"
   ]
  },
  {
   "cell_type": "code",
   "execution_count": 30,
   "metadata": {},
   "outputs": [
    {
     "data": {
      "text/plain": [
       "'  -----------  '"
      ]
     },
     "execution_count": 30,
     "metadata": {},
     "output_type": "execute_result"
    },
    {
     "data": {
      "image/png": "[encoded data removed]",
      "text/plain": [
       "<Figure size 1080x1080 with 1 Axes>"
      ]
     },
     "metadata": {},
     "output_type": "display_data"
    }
   ],
   "source": [
    "from sklearn.decomposition import PCA\n",
    "import random\n",
    "embedding_weights = embedding.get_weights()[0]\n",
    "pca = PCA(n_components=2,svd_solver=\"full\")\n",
    "pca.fit(embedding_weights)\n",
    "new_embeddings = pca.transform(embedding_weights)\n",
    "words_embeddings = {w:new_embeddings[idx] for w, idx in word_index.items()}\n",
    "fig = plt.figure(figsize=(15,15), facecolor='white')\n",
    "ax = fig.add_subplot(111)\n",
    "cont = 0\n",
    "random.seed(0)\n",
    "while(cont < 20):\n",
    "    random_number = random.randint(0,len(word_index.items()))\n",
    "    palabra_random = list(words_embeddings.keys())[random_number]\n",
    "    ax.scatter(words_embeddings[palabra_random][0],words_embeddings[palabra_random][1], \n",
    "             marker='o',label=palabra_random)\n",
    "    ax.annotate(palabra_random, (words_embeddings[palabra_random][0],words_embeddings[palabra_random][1]))\n",
    "    cont += 1\n",
    "ax.set_xlabel('component 1')\n",
    "ax.set_ylabel('component 2')\n",
    "ax.legend()"
   ]
  },
  {
   "cell_type": "markdown",
   "metadata": {},
   "source": [
    "Se puede observar como el modelo agrupa palabras positivas en la parte superior y palabras negativas en la parte inferior. Considerando que sólo se están ocupando 2 componentes, hace una buena división."
   ]
  },
  {
   "cell_type": "code",
   "execution_count": null,
   "metadata": {},
   "outputs": [],
   "source": []
  }
 ],
 "metadata": {
  "kernelspec": {
   "display_name": "Python 3",
   "language": "python",
   "name": "python3"
  },
  "language_info": {
   "codemirror_mode": {
    "name": "ipython",
    "version": 3
   },
   "file_extension": ".py",
   "mimetype": "text/x-python",
   "name": "python",
   "nbconvert_exporter": "python",
   "pygments_lexer": "ipython3",
   "version": "3.7.9"
  }
 },
 "nbformat": 4,
 "nbformat_minor": 2
}
