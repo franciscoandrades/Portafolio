{
    "cells": [
        {
            "cell_type": "code",
            "execution_count": 1,
            "metadata": {},
            "outputs": [],
            "source": "# The code was removed by Watson Studio for sharing."
        },
        {
            "attachments": {
                "ibm-cloud.png": {
                    "image/png": "[encoded data removed]"
                }
            },
            "cell_type": "markdown",
            "metadata": {},
            "source": "![ibm-cloud.png](attachment:ibm-cloud.png)\n\n\n## Setup your notebook file stystem on Watson Studio\n\nAll of the notebooks in these courses are written to run locally on your computer running a Jupyter notebook server.  If you wish to run the notebooks in Watson Studio in the IBM Cloud, you will need to add some modifications to each notebook.\n\nWhy?  Because once you import a course notebook and the data files for that notebook into a Watson Studio project, the data files are no longer available to the notebook! \nThis is simply due to the fact that the imported data files are stored in an IBM Cloud Object Storage (COS) bucket.  The notebook does not have access to those objects in the COS bucket.  Thus, if you import a notebook and its data files into a Studio project then try to run it, the notebook will return \"File not found\" errors. \nIn order to make the data files available to your notebook, you will need to run some code in your notebook to: \n\n1 - Access the correct COS bucket <br>\n2 - Read your data file from the bucket into a byte stream object <br>\n3 - Write that byte stream object to the virtual disk of the container running the notebook. "
        },
        {
            "cell_type": "code",
            "execution_count": 2,
            "metadata": {},
            "outputs": [],
            "source": "# cos2file - takes an object from Cloud Object Storage and writes it to file on container file system.\n# Uses the IBM project_lib library.\n# See https://dataplatform.cloud.ibm.com/docs/content/wsj/analyze-data/project-lib-python.html\n# Arguments:\n# p: project object defined in project token\n# data_path: the directory to write the file\n# filename: name of the file in COS\n\nimport os\ndef cos2file(p,data_path,filename):\n    data_dir = p.project_context.home + data_path\n    if not os.path.exists(data_dir):\n        os.makedirs(data_dir)\n    open( data_dir + '/' + filename, 'wb').write(p.get_file(filename).read())"
        },
        {
            "cell_type": "code",
            "execution_count": 3,
            "metadata": {},
            "outputs": [],
            "source": "# Calling cos2file allows to make the data files available to the notebook \ncos2file(project, '/data', 'worldcup-2018.csv')"
        },
        {
            "cell_type": "markdown",
            "metadata": {},
            "source": "# Case Study - Multiple testing"
        },
        {
            "cell_type": "markdown",
            "metadata": {},
            "source": "## Synopsis\n\nThe management team at AAVAIL is preparing to deploy a large number of teams each tasked with integration into a different new market.  They claim to have a optimized the teams fairly with respect to skills and experience.  They are asking you to come up with a framework to evaluate the makeup of their teams.  They have not finished hiring and creating all of the teams so naturally before you even get the data you wanted to get a head start.\n\nGetting a head start usually involves finding a similar dataset and writing the code in a way that the new data, once obtained can be added with little effort."
        },
        {
            "cell_type": "markdown",
            "metadata": {},
            "source": "When we perform a large number of statistical tests, some will have $p$-values less than the designated level of $\\alpha$ (e.g. 0.05) purely by chance, even if all the null hypotheses are really true.  This is an inherent risk of using inferrential statistics.  Fortunately, there are several techniques to mitigate the risk.\n\nWe are going to look at the 2018 world cup data in this example.  \n\nThe case study is comprised of the following sections:\n\n1. Data Cleaning\n2. Data Visualization\n3. NHT\n4. Adjust NHT results for multiple comparisons\n\nData science work that focuses on creating a predictive model is perhaps the hallmark of the field today, but there are still many use cases where [inferential statistics](https://en.wikipedia.org/wiki/Statistical_inference) are the best tool available. One issue with statistical inference is that there are situations where [performing multiple tests](https://en.wikipedia.org/wiki/Multiple_comparisons_problem) is a  logical way to accomplish a task, but it comes at the expense of an increased rate of false positives or Type I errors.\n\nIn this case study you will apply techniques and knowledge from all of the units in Module 2."
        },
        {
            "cell_type": "markdown",
            "metadata": {},
            "source": "## Getting started\n\nThis unit is organized into the following sections:\n\n1. Data Processing\n2. Data Summary\n3. Investigative Visualization\n4. Hypothesis testing"
        },
        {
            "cell_type": "code",
            "execution_count": 4,
            "metadata": {},
            "outputs": [],
            "source": "import os\nimport re\nimport numpy as np\nimport pandas as pd\nimport scipy.stats as stats\nimport statsmodels as sm\n\nimport matplotlib.pyplot as plt\nplt.style.use('seaborn')\n\n%matplotlib inline\n\nSMALL_SIZE = 8\nMEDIUM_SIZE = 10\nLARGE_SIZE = 12\n\nplt.rc('font', size=SMALL_SIZE)          # controls default text sizes\nplt.rc('axes', titlesize=SMALL_SIZE)     # fontsize of the axes title\nplt.rc('axes', labelsize=MEDIUM_SIZE)    # fontsize of the x and y labels\nplt.rc('xtick', labelsize=SMALL_SIZE)    # fontsize of the tick labels\nplt.rc('ytick', labelsize=SMALL_SIZE)    # fontsize of the tick labels\nplt.rc('legend', fontsize=SMALL_SIZE)    # legend fontsize\nplt.rc('figure', titlesize=LARGE_SIZE)   # fontsize of the figure title"
        },
        {
            "cell_type": "markdown",
            "metadata": {},
            "source": "## Import the Data"
        },
        {
            "cell_type": "markdown",
            "metadata": {},
            "source": "Before we jump into the data it can be useful to give a little background so that you can better understand the features.  Since the dawn of statistics practitioners have been trying to find advantages when it comes to games.  Much of this was motivated by gambling---here we will look at the results from this tournament in a different way.  We are going to ask the simple question\n\n  >Was the tournament setup in a fair way?\n\nOf course the findings from an investigation centering around this question could be used to strategically place bets, but lets assume that we are simply interested in whether or not the tournament organizers did an adequate job.  The reason for doing this is to prepare for the AAVAIL data that is coming.  This exercise is an important reminder that you do not have to wait until the day that data arrive to start your work. \n\nThere are 32 teams, each representing a single country, that compete in groups or pools then the best teams from those groups compete in a single elimination tournament to see who will become world champions.  This is by far the world's most popular sport so one would hope that the governing organization FIFA did a good job composing the pools.  If for example there are 8 highly ranked teams then each of those teams should be in a different pool. \n\nIn our data set we have more than just rank so we can dig in a little deeper than that, but first let's have a look at the data."
        },
        {
            "cell_type": "code",
            "execution_count": 5,
            "metadata": {},
            "outputs": [
                {
                    "data": {
                        "text/html": "<div>\n<style scoped>\n    .dataframe tbody tr th:only-of-type {\n        vertical-align: middle;\n    }\n\n    .dataframe tbody tr th {\n        vertical-align: top;\n    }\n\n    .dataframe thead th {\n        text-align: right;\n    }\n</style>\n<table border=\"1\" class=\"dataframe\">\n  <thead>\n    <tr style=\"text-align: right;\">\n      <th></th>\n      <th>team</th>\n      <th>group</th>\n      <th>previous_appearances</th>\n      <th>previous_titles</th>\n      <th>previous_finals</th>\n      <th>previous_semifinals</th>\n      <th>current_fifa_rank</th>\n      <th>first_match_against</th>\n      <th>match_index</th>\n      <th>history_with_first_opponent_w-l</th>\n      <th>history_with_first_opponent_goals</th>\n      <th>second_match_against</th>\n      <th>match_index.1</th>\n      <th>history_with_second_opponent_w-l</th>\n      <th>history_with_second_opponent_goals</th>\n      <th>third_match_against</th>\n      <th>match_index.2</th>\n      <th>history_with_third_opponent_w-l</th>\n      <th>history_with_third_opponent_goals</th>\n      <th>unnamed:_19</th>\n    </tr>\n  </thead>\n  <tbody>\n    <tr>\n      <th>0</th>\n      <td>Russia</td>\n      <td>A</td>\n      <td>10</td>\n      <td>0</td>\n      <td>0</td>\n      <td>1</td>\n      <td>65</td>\n      <td>Saudi Arabia</td>\n      <td>1</td>\n      <td>-1.0</td>\n      <td>-2.0</td>\n      <td>Egypt</td>\n      <td>17</td>\n      <td>NaN</td>\n      <td>NaN</td>\n      <td>Uruguay</td>\n      <td>33</td>\n      <td>0.0</td>\n      <td>0.0</td>\n      <td>NaN</td>\n    </tr>\n    <tr>\n      <th>1</th>\n      <td>Saudi Arabia</td>\n      <td>A</td>\n      <td>4</td>\n      <td>0</td>\n      <td>0</td>\n      <td>0</td>\n      <td>63</td>\n      <td>Russia</td>\n      <td>1</td>\n      <td>1.0</td>\n      <td>2.0</td>\n      <td>Uruguay</td>\n      <td>18</td>\n      <td>1.0</td>\n      <td>1.0</td>\n      <td>Egypt</td>\n      <td>34</td>\n      <td>-5.0</td>\n      <td>-5.0</td>\n      <td>NaN</td>\n    </tr>\n    <tr>\n      <th>2</th>\n      <td>Egypt</td>\n      <td>A</td>\n      <td>2</td>\n      <td>0</td>\n      <td>0</td>\n      <td>0</td>\n      <td>31</td>\n      <td>Uruguay</td>\n      <td>2</td>\n      <td>-1.0</td>\n      <td>-2.0</td>\n      <td>Russia</td>\n      <td>17</td>\n      <td>NaN</td>\n      <td>NaN</td>\n      <td>Saudi Arabia</td>\n      <td>34</td>\n      <td>5.0</td>\n      <td>5.0</td>\n      <td>NaN</td>\n    </tr>\n    <tr>\n      <th>3</th>\n      <td>Uruguay</td>\n      <td>A</td>\n      <td>12</td>\n      <td>2</td>\n      <td>2</td>\n      <td>5</td>\n      <td>21</td>\n      <td>Egypt</td>\n      <td>2</td>\n      <td>1.0</td>\n      <td>2.0</td>\n      <td>Saudi Arabia</td>\n      <td>18</td>\n      <td>-1.0</td>\n      <td>-1.0</td>\n      <td>Russia</td>\n      <td>33</td>\n      <td>0.0</td>\n      <td>0.0</td>\n      <td>NaN</td>\n    </tr>\n    <tr>\n      <th>4</th>\n      <td>Porugal</td>\n      <td>B</td>\n      <td>6</td>\n      <td>0</td>\n      <td>0</td>\n      <td>2</td>\n      <td>3</td>\n      <td>Spain</td>\n      <td>3</td>\n      <td>-12.0</td>\n      <td>-31.0</td>\n      <td>Morocco</td>\n      <td>19</td>\n      <td>-1.0</td>\n      <td>-2.0</td>\n      <td>Iran</td>\n      <td>35</td>\n      <td>2.0</td>\n      <td>5.0</td>\n      <td>NaN</td>\n    </tr>\n  </tbody>\n</table>\n</div>",
                        "text/plain": "           team group  previous_appearances  previous_titles  previous_finals  \\\n0        Russia     A                    10                0                0   \n1  Saudi Arabia     A                     4                0                0   \n2         Egypt     A                     2                0                0   \n3       Uruguay     A                    12                2                2   \n4       Porugal     B                     6                0                0   \n\n   previous_semifinals  current_fifa_rank first_match_against  match_index  \\\n0                    1                 65        Saudi Arabia            1   \n1                    0                 63              Russia            1   \n2                    0                 31             Uruguay            2   \n3                    5                 21               Egypt            2   \n4                    2                  3               Spain            3   \n\n   history_with_first_opponent_w-l  history_with_first_opponent_goals  \\\n0                             -1.0                               -2.0   \n1                              1.0                                2.0   \n2                             -1.0                               -2.0   \n3                              1.0                                2.0   \n4                            -12.0                              -31.0   \n\n  second_match_against  match_index.1  history_with_second_opponent_w-l  \\\n0                Egypt             17                               NaN   \n1              Uruguay             18                               1.0   \n2               Russia             17                               NaN   \n3         Saudi Arabia             18                              -1.0   \n4              Morocco             19                              -1.0   \n\n   history_with_second_opponent_goals third_match_against  match_index.2  \\\n0                                 NaN             Uruguay             33   \n1                                 1.0               Egypt             34   \n2                                 NaN        Saudi Arabia             34   \n3                                -1.0              Russia             33   \n4                                -2.0                Iran             35   \n\n   history_with_third_opponent_w-l  history_with_third_opponent_goals  \\\n0                              0.0                                0.0   \n1                             -5.0                               -5.0   \n2                              5.0                                5.0   \n3                              0.0                                0.0   \n4                              2.0                                5.0   \n\n   unnamed:_19  \n0          NaN  \n1          NaN  \n2          NaN  \n3          NaN  \n4          NaN  "
                    },
                    "execution_count": 5,
                    "metadata": {},
                    "output_type": "execute_result"
                }
            ],
            "source": "DATA_DIR = os.path.join(\"..\",\"data\")\ndf = pd.read_csv(os.path.join(DATA_DIR, 'worldcup-2018.csv'))\ndf.columns = [re.sub(\"\\s+\",\"_\",col.lower()) for col in df.columns]\ndf.head()"
        },
        {
            "cell_type": "markdown",
            "metadata": {},
            "source": "To limit the dataset for educational purposes we create a new data frame that consists of only the following columns: \n\n* team\n* group\n* previous_appearances\n* previous_titles\n* previous_finals\n* previous_semifinals\n* current_fifa_rank"
        },
        {
            "cell_type": "markdown",
            "metadata": {},
            "source": "## Data Processing\n\n### QUESTION 1\n\nUsing the column names below create a new dataframe that uses only them."
        },
        {
            "cell_type": "code",
            "execution_count": 20,
            "metadata": {},
            "outputs": [
                {
                    "data": {
                        "text/html": "<div>\n<style scoped>\n    .dataframe tbody tr th:only-of-type {\n        vertical-align: middle;\n    }\n\n    .dataframe tbody tr th {\n        vertical-align: top;\n    }\n\n    .dataframe thead th {\n        text-align: right;\n    }\n</style>\n<table border=\"1\" class=\"dataframe\">\n  <thead>\n    <tr style=\"text-align: right;\">\n      <th></th>\n      <th>team</th>\n      <th>group</th>\n      <th>previous_appearances</th>\n      <th>previous_titles</th>\n      <th>previous_finals</th>\n      <th>previous_semifinals</th>\n      <th>current_fifa_rank</th>\n    </tr>\n  </thead>\n  <tbody>\n    <tr>\n      <th>0</th>\n      <td>Russia</td>\n      <td>A</td>\n      <td>10</td>\n      <td>0</td>\n      <td>0</td>\n      <td>1</td>\n      <td>65</td>\n    </tr>\n    <tr>\n      <th>1</th>\n      <td>Saudi Arabia</td>\n      <td>A</td>\n      <td>4</td>\n      <td>0</td>\n      <td>0</td>\n      <td>0</td>\n      <td>63</td>\n    </tr>\n    <tr>\n      <th>2</th>\n      <td>Egypt</td>\n      <td>A</td>\n      <td>2</td>\n      <td>0</td>\n      <td>0</td>\n      <td>0</td>\n      <td>31</td>\n    </tr>\n    <tr>\n      <th>3</th>\n      <td>Uruguay</td>\n      <td>A</td>\n      <td>12</td>\n      <td>2</td>\n      <td>2</td>\n      <td>5</td>\n      <td>21</td>\n    </tr>\n    <tr>\n      <th>4</th>\n      <td>Porugal</td>\n      <td>B</td>\n      <td>6</td>\n      <td>0</td>\n      <td>0</td>\n      <td>2</td>\n      <td>3</td>\n    </tr>\n  </tbody>\n</table>\n</div>",
                        "text/plain": "           team group  previous_appearances  previous_titles  previous_finals  \\\n0        Russia     A                    10                0                0   \n1  Saudi Arabia     A                     4                0                0   \n2         Egypt     A                     2                0                0   \n3       Uruguay     A                    12                2                2   \n4       Porugal     B                     6                0                0   \n\n   previous_semifinals  current_fifa_rank  \n0                    1                 65  \n1                    0                 63  \n2                    0                 31  \n3                    5                 21  \n4                    2                  3  "
                    },
                    "execution_count": 20,
                    "metadata": {},
                    "output_type": "execute_result"
                }
            ],
            "source": "columns = ['team', 'group','previous_appearances','previous_titles','previous_finals',\n           'previous_semifinals','current_fifa_rank']\n\n### YOUR CODE HERE\ndf_1 = df[columns]\ndf_1.head()"
        },
        {
            "cell_type": "markdown",
            "metadata": {},
            "source": "To help with this analysis we are going to engineer a feature that combines all of the data in the table.  This feature represents the past performance of a team.  Given the data we have it is the best proxy on hand for how good a team will perfom.  Feel free to change the multiplers, but let's just say that `past_performance` will be a linear combination of the related features we have.\n\nLet $X_{1}$,...,$X_{4}$ be `previous_titles`,`previous_finals`,`previous_semifinals`,`previous_appearances` and let the corresponding vector $\\mathbf{\\alpha}$ be the multipliers.  This will give us,\n\n$$\n\\textrm{past_performance} = \\alpha_{1} X_{1} + \\alpha_{2} X_{2} + \\alpha_{3} X_{3} + \\alpha_{4} X_{4}\n$$\n\nModify $\\mathbf{\\alpha}$ if you wish.  Then add to your dataframe the new feature `past_performance`.\n\n### QUESTION 2\n\ncreate the engineered feature as a new column"
        },
        {
            "cell_type": "code",
            "execution_count": 30,
            "metadata": {},
            "outputs": [
                {
                    "name": "stderr",
                    "output_type": "stream",
                    "text": "/opt/conda/envs/Python36/lib/python3.6/site-packages/ipykernel/__main__.py:4: SettingWithCopyWarning: \nA value is trying to be set on a copy of a slice from a DataFrame.\nTry using .loc[row_indexer,col_indexer] = value instead\n\nSee the caveats in the documentation: http://pandas.pydata.org/pandas-docs/stable/indexing.html#indexing-view-versus-copy\n"
                },
                {
                    "data": {
                        "text/html": "<div>\n<style scoped>\n    .dataframe tbody tr th:only-of-type {\n        vertical-align: middle;\n    }\n\n    .dataframe tbody tr th {\n        vertical-align: top;\n    }\n\n    .dataframe thead th {\n        text-align: right;\n    }\n</style>\n<table border=\"1\" class=\"dataframe\">\n  <thead>\n    <tr style=\"text-align: right;\">\n      <th></th>\n      <th>team</th>\n      <th>group</th>\n      <th>previous_appearances</th>\n      <th>previous_titles</th>\n      <th>previous_finals</th>\n      <th>previous_semifinals</th>\n      <th>current_fifa_rank</th>\n      <th>past_performance</th>\n    </tr>\n  </thead>\n  <tbody>\n    <tr>\n      <th>0</th>\n      <td>Russia</td>\n      <td>A</td>\n      <td>10</td>\n      <td>0</td>\n      <td>0</td>\n      <td>1</td>\n      <td>65</td>\n      <td>14</td>\n    </tr>\n    <tr>\n      <th>1</th>\n      <td>Saudi Arabia</td>\n      <td>A</td>\n      <td>4</td>\n      <td>0</td>\n      <td>0</td>\n      <td>0</td>\n      <td>63</td>\n      <td>4</td>\n    </tr>\n    <tr>\n      <th>2</th>\n      <td>Egypt</td>\n      <td>A</td>\n      <td>2</td>\n      <td>0</td>\n      <td>0</td>\n      <td>0</td>\n      <td>31</td>\n      <td>2</td>\n    </tr>\n    <tr>\n      <th>3</th>\n      <td>Uruguay</td>\n      <td>A</td>\n      <td>12</td>\n      <td>2</td>\n      <td>2</td>\n      <td>5</td>\n      <td>21</td>\n      <td>80</td>\n    </tr>\n    <tr>\n      <th>4</th>\n      <td>Porugal</td>\n      <td>B</td>\n      <td>6</td>\n      <td>0</td>\n      <td>0</td>\n      <td>2</td>\n      <td>3</td>\n      <td>14</td>\n    </tr>\n  </tbody>\n</table>\n</div>",
                        "text/plain": "           team group  previous_appearances  previous_titles  previous_finals  \\\n0        Russia     A                    10                0                0   \n1  Saudi Arabia     A                     4                0                0   \n2         Egypt     A                     2                0                0   \n3       Uruguay     A                    12                2                2   \n4       Porugal     B                     6                0                0   \n\n   previous_semifinals  current_fifa_rank  past_performance  \n0                    1                 65                14  \n1                    0                 63                 4  \n2                    0                 31                 2  \n3                    5                 21                80  \n4                    2                  3                14  "
                    },
                    "execution_count": 30,
                    "metadata": {},
                    "output_type": "execute_result"
                }
            ],
            "source": "alpha = np.array([16,8,4,1])\n\n### YOUR CODE HERE\ndf_1[\"past_performance\"]= (alpha*df_1[[\"previous_titles\",\"previous_finals\",\"previous_semifinals\",\"previous_appearances\"]]).sum(axis=1)\ndf_1.head()\n"
        },
        {
            "cell_type": "markdown",
            "metadata": {},
            "source": "## Data Summary"
        },
        {
            "cell_type": "markdown",
            "metadata": {},
            "source": "### QUESTION 3\n\nUsing your choice of tools create one or more **tabular summaries** of the data"
        },
        {
            "cell_type": "code",
            "execution_count": 92,
            "metadata": {},
            "outputs": [
                {
                    "data": {
                        "text/html": "<div>\n<style scoped>\n    .dataframe tbody tr th:only-of-type {\n        vertical-align: middle;\n    }\n\n    .dataframe tbody tr th {\n        vertical-align: top;\n    }\n\n    .dataframe thead tr th {\n        text-align: left;\n    }\n\n    .dataframe thead tr:last-of-type th {\n        text-align: right;\n    }\n</style>\n<table border=\"1\" class=\"dataframe\">\n  <thead>\n    <tr>\n      <th></th>\n      <th>min</th>\n      <th>max</th>\n      <th>mean</th>\n    </tr>\n    <tr>\n      <th></th>\n      <th>past_performance</th>\n      <th>past_performance</th>\n      <th>past_performance</th>\n    </tr>\n    <tr>\n      <th>group</th>\n      <th></th>\n      <th></th>\n      <th></th>\n    </tr>\n  </thead>\n  <tbody>\n    <tr>\n      <th>A</th>\n      <td>2</td>\n      <td>80</td>\n      <td>25.00</td>\n    </tr>\n    <tr>\n      <th>B</th>\n      <td>4</td>\n      <td>46</td>\n      <td>17.00</td>\n    </tr>\n    <tr>\n      <th>C</th>\n      <td>4</td>\n      <td>66</td>\n      <td>19.50</td>\n    </tr>\n    <tr>\n      <th>D</th>\n      <td>0</td>\n      <td>108</td>\n      <td>30.25</td>\n    </tr>\n    <tr>\n      <th>E</th>\n      <td>4</td>\n      <td>200</td>\n      <td>58.25</td>\n    </tr>\n    <tr>\n      <th>F</th>\n      <td>13</td>\n      <td>198</td>\n      <td>65.25</td>\n    </tr>\n    <tr>\n      <th>G</th>\n      <td>0</td>\n      <td>46</td>\n      <td>16.50</td>\n    </tr>\n    <tr>\n      <th>H</th>\n      <td>1</td>\n      <td>15</td>\n      <td>6.50</td>\n    </tr>\n  </tbody>\n</table>\n</div>",
                        "text/plain": "                   min              max             mean\n      past_performance past_performance past_performance\ngroup                                                   \nA                    2               80            25.00\nB                    4               46            17.00\nC                    4               66            19.50\nD                    0              108            30.25\nE                    4              200            58.25\nF                   13              198            65.25\nG                    0               46            16.50\nH                    1               15             6.50"
                    },
                    "execution_count": 92,
                    "metadata": {},
                    "output_type": "execute_result"
                }
            ],
            "source": "### YOUR CODE HERE\nsummary = pd.pivot_table(df_1,index=\"group\",values = [\"past_performance\"],aggfunc= [\"min\",\"max\",\"mean\"])\nsummary"
        },
        {
            "cell_type": "code",
            "execution_count": 93,
            "metadata": {},
            "outputs": [
                {
                    "data": {
                        "text/html": "<div>\n<style scoped>\n    .dataframe tbody tr th:only-of-type {\n        vertical-align: middle;\n    }\n\n    .dataframe tbody tr th {\n        vertical-align: top;\n    }\n\n    .dataframe thead tr th {\n        text-align: left;\n    }\n\n    .dataframe thead tr:last-of-type th {\n        text-align: right;\n    }\n</style>\n<table border=\"1\" class=\"dataframe\">\n  <thead>\n    <tr>\n      <th></th>\n      <th>min</th>\n      <th>max</th>\n      <th>mean</th>\n    </tr>\n    <tr>\n      <th></th>\n      <th>current_fifa_rank</th>\n      <th>current_fifa_rank</th>\n      <th>current_fifa_rank</th>\n    </tr>\n    <tr>\n      <th>group</th>\n      <th></th>\n      <th></th>\n      <th></th>\n    </tr>\n  </thead>\n  <tbody>\n    <tr>\n      <th>A</th>\n      <td>21</td>\n      <td>65</td>\n      <td>45.00</td>\n    </tr>\n    <tr>\n      <th>B</th>\n      <td>3</td>\n      <td>40</td>\n      <td>20.25</td>\n    </tr>\n    <tr>\n      <th>C</th>\n      <td>9</td>\n      <td>39</td>\n      <td>17.75</td>\n    </tr>\n    <tr>\n      <th>D</th>\n      <td>4</td>\n      <td>50</td>\n      <td>23.25</td>\n    </tr>\n    <tr>\n      <th>E</th>\n      <td>2</td>\n      <td>37</td>\n      <td>18.25</td>\n    </tr>\n    <tr>\n      <th>F</th>\n      <td>1</td>\n      <td>59</td>\n      <td>23.50</td>\n    </tr>\n    <tr>\n      <th>G</th>\n      <td>5</td>\n      <td>56</td>\n      <td>25.75</td>\n    </tr>\n    <tr>\n      <th>H</th>\n      <td>7</td>\n      <td>55</td>\n      <td>24.50</td>\n    </tr>\n  </tbody>\n</table>\n</div>",
                        "text/plain": "                    min               max              mean\n      current_fifa_rank current_fifa_rank current_fifa_rank\ngroup                                                      \nA                    21                65             45.00\nB                     3                40             20.25\nC                     9                39             17.75\nD                     4                50             23.25\nE                     2                37             18.25\nF                     1                59             23.50\nG                     5                56             25.75\nH                     7                55             24.50"
                    },
                    "execution_count": 93,
                    "metadata": {},
                    "output_type": "execute_result"
                }
            ],
            "source": "summary_2 = pd.pivot_table(df_1,index=\"group\",values = [\"current_fifa_rank\"],aggfunc= [\"min\",\"max\",\"mean\"])\nsummary_2"
        },
        {
            "cell_type": "markdown",
            "metadata": {},
            "source": "### QUESTION 4\n\nCheck for missing data. Write code to identify if there is any missing data."
        },
        {
            "cell_type": "code",
            "execution_count": 91,
            "metadata": {},
            "outputs": [
                {
                    "data": {
                        "text/plain": "team                    0\ngroup                   0\nprevious_appearances    0\nprevious_titles         0\nprevious_finals         0\nprevious_semifinals     0\ncurrent_fifa_rank       0\npast_performance        0\nbin                     0\ndtype: int64"
                    },
                    "execution_count": 91,
                    "metadata": {},
                    "output_type": "execute_result"
                }
            ],
            "source": "### YOUR CODE HERE\ndf_1.isna().sum()"
        },
        {
            "cell_type": "markdown",
            "metadata": {},
            "source": "## Investigative Visualization\n\n### QUESTION 5\n\nCome up with one or more plots that investigate the central question... Are the groups comprised in a fair way?"
        },
        {
            "cell_type": "code",
            "execution_count": 96,
            "metadata": {},
            "outputs": [
                {
                    "data": {
                        "text/plain": "<matplotlib.axes._subplots.AxesSubplot at 0x7f4d8b3099e8>"
                    },
                    "execution_count": 96,
                    "metadata": {},
                    "output_type": "execute_result"
                },
                {
                    "data": {
                        "image/png": "[encoded data removed]",
                        "text/plain": "<Figure size 432x288 with 1 Axes>"
                    },
                    "metadata": {
                        "needs_background": "light"
                    },
                    "output_type": "display_data"
                }
            ],
            "source": "summary_2.plot.bar(y=\"mean\")"
        },
        {
            "cell_type": "code",
            "execution_count": 59,
            "metadata": {},
            "outputs": [
                {
                    "data": {
                        "text/plain": "<matplotlib.axes._subplots.AxesSubplot at 0x7f4d8b45eba8>"
                    },
                    "execution_count": 59,
                    "metadata": {},
                    "output_type": "execute_result"
                },
                {
                    "data": {
                        "image/png": "[encoded data removed]",
                        "text/plain": "<Figure size 432x288 with 1 Axes>"
                    },
                    "metadata": {
                        "needs_background": "light"
                    },
                    "output_type": "display_data"
                }
            ],
            "source": "summary.plot.bar()"
        },
        {
            "cell_type": "code",
            "execution_count": 60,
            "metadata": {},
            "outputs": [
                {
                    "data": {
                        "text/plain": "<matplotlib.axes._subplots.AxesSubplot at 0x7f4d8b68db70>"
                    },
                    "execution_count": 60,
                    "metadata": {},
                    "output_type": "execute_result"
                },
                {
                    "data": {
                        "image/png": "[encoded data removed]",
                        "text/plain": "<Figure size 432x288 with 1 Axes>"
                    },
                    "metadata": {
                        "needs_background": "light"
                    },
                    "output_type": "display_data"
                }
            ],
            "source": "### YOUR CODE HERE\nsummary.boxplot()"
        },
        {
            "cell_type": "markdown",
            "metadata": {},
            "source": "## Hypothesis Testing\n\nThere are a number of ways to use hypothesis testing in this situation.  There are certainly reasonable hypotheses tests and other methods like simulation approaches, that we have not discussed, but they would be appropriate here.  If you choose to explore some of the methods that are outside the scope of this course then we encourage you to first try the simple approach proposed here and compare the results to any further additional approaches you choose to use.\n\nWe could use an ANOVA approach here that would signify a difference between groups, but we would not know which and how many teams were different.  As we stated before there are a number of ways to approach the investigation, but lets use a simple approach.  We are going to setup our investigation to look at all pairwise comparisons to provide as much insight as possible.\n\nRecall that there are $\\frac{(N-1)(N)}{2}$ pairwise comparisons."
        },
        {
            "cell_type": "code",
            "execution_count": null,
            "metadata": {},
            "outputs": [],
            "source": ""
        },
        {
            "cell_type": "code",
            "execution_count": 97,
            "metadata": {},
            "outputs": [
                {
                    "name": "stdout",
                    "output_type": "stream",
                    "text": "num comparisons:  28.0\n"
                }
            ],
            "source": "N = np.unique(df['group'].values).size\nprint(\"num comparisons: \",((N-1)*N) / 2.0)"
        },
        {
            "cell_type": "markdown",
            "metadata": {},
            "source": "### QUESTION 5\n\n\n1. Choose a hypothesis test\n2. State the null and alternative hypothesis, and choose a cutoff value $\\alpha$\n3. Run the test for all pairwise comparisons between teams"
        },
        {
            "cell_type": "code",
            "execution_count": 100,
            "metadata": {},
            "outputs": [
                {
                    "name": "stdout",
                    "output_type": "stream",
                    "text": "past_performance pair count: 28\ncurrent_fifa_rank pair count: 28\n"
                }
            ],
            "source": "### YOUR CODE HERE\ndef worldcup_pairwise_ttest(data, test_column = 'current_fifa_rank'):\n    \"\"\"Performs t-tests of independence pairwise between each of the 8 groups in the\n    world cup data set. Returns a dictionary of the associated p-values.\"\"\"\n    pair_p_vals = {}\n    grps = 'ABCDEFGH'\n    for grp1_index, grp1 in enumerate(grps):\n        for grp2 in grps[grp1_index+1:]:\n            grp_key = '-'.join([grp1, grp2])\n            grp1_data = data.loc[data.loc[:, 'group'] == grp1, test_column].values\n            grp2_data = data.loc[data.loc[:, 'group'] == grp2, test_column].values\n            \n            pval = stats.ttest_ind(grp1_data, grp2_data, equal_var = False).pvalue\n            pair_p_vals[grp_key] = pval\n            \n    return pair_p_vals\n\npast_perf_p_vals = worldcup_pairwise_ttest(df_1, test_column = 'past_performance')\nfifa_rank_p_vals = worldcup_pairwise_ttest(df_1)\n\n# Check that each dictionary has the right number of pairs:\nprint('past_performance pair count:', len(past_perf_p_vals))\nprint('current_fifa_rank pair count:', len(fifa_rank_p_vals))\n\n"
        },
        {
            "cell_type": "markdown",
            "metadata": {},
            "source": "### QUESTION 6\n\nFor all of the $p$-values obtained apply the Bonferroni and at least one other correction for multiple hypothesis tests.  Then comment on the results."
        },
        {
            "cell_type": "code",
            "execution_count": 101,
            "metadata": {},
            "outputs": [
                {
                    "name": "stdout",
                    "output_type": "stream",
                    "text": "Reject the null count, past_performance: 0\nReject the null count, current_fifa_rank: 0\n"
                }
            ],
            "source": "### YOUR CODE HERE\ndef test_pvals_w_bonferroni(pvals_dict, alpha):\n    \"\"\"Applies the Bonferroni correction to the cutoff value alpha as determined \n    by the number p-values contained in pvals_dict. Then tests whether those\n    p-values are at least as extreme as the cutoff. Returns a new dict with boolean\n    values. True: Reject the Null. False: Fail to reject the Null.\"\"\"\n    alpha_bonf = alpha / len(pvals_dict)\n    return {k: v < alpha_bonf for k, v in pvals_dict.items()}\n\npast_perf_bonf_p_vals = test_pvals_w_bonferroni(past_perf_p_vals, 0.1)\nfifa_rank_bonf_p_vals = test_pvals_w_bonferroni(fifa_rank_p_vals, 0.1)\n\n# In Python True evaluates to 1 and False evaluates to 0. So use that to count things up:\nprint(\"Reject the null count, past_performance:\", sum(past_perf_bonf_p_vals.values()))\nprint(\"Reject the null count, current_fifa_rank:\", sum(fifa_rank_bonf_p_vals.values()))\n\n\n"
        },
        {
            "cell_type": "markdown",
            "metadata": {},
            "source": "## Additional Approaches \n\nThere is an [allpairtest function in statsmodels](http://www.statsmodels.org/devel/generated/generated/statsmodels.sandbox.stats.multicomp.MultiComparison.allpairtest.html#statsmodels.sandbox.stats.multicomp.MultiComparison.allpairtest) that could be used here to combine the work from QUESTION 5 and QUESTION 6.\n\nGeneralized Linear Models (GLMs) are an appropriate tool to use here if we wanted to include the results of the tournament (maybe a ratio of wins/losses weighted by the final position in the tournament).  `statsmodels` supports [R-style formulas to fit generalized linear models](https://www.statsmodels.org/stable/examples/notebooks/generated/glm_formula.html). One additional variant of GLMs are hierarchical or multilevel models that provide even more insight into this types of dataset.  See the [tutorial on multilevel modeling](https://docs.pymc.io/notebooks/multilevel_modeling.html)."
        }
    ],
    "metadata": {
        "kernelspec": {
            "display_name": "Python 3.7",
            "language": "python",
            "name": "python3"
        },
        "language_info": {
            "codemirror_mode": {
                "name": "ipython",
                "version": 3
            },
            "file_extension": ".py",
            "mimetype": "text/x-python",
            "name": "python",
            "nbconvert_exporter": "python",
            "pygments_lexer": "ipython3",
            "version": "3.7.10"
        }
    },
    "nbformat": 4,
    "nbformat_minor": 4
}